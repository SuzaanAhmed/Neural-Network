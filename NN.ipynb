{
 "cells": [
  {
   "cell_type": "code",
   "execution_count": null,
   "metadata": {},
   "outputs": [],
   "source": [
    "import numpy as np\n",
    "import pandas as pd\n",
    "from matplotlib import pyplot as plt"
   ]
  },
  {
   "cell_type": "code",
   "execution_count": 132,
   "metadata": {},
   "outputs": [],
   "source": [
    "train_df=pd.read_csv(\"train.csv\")\n",
    "test_df=pd.read_csv(\"test.csv\")"
   ]
  },
  {
   "cell_type": "code",
   "execution_count": 133,
   "metadata": {},
   "outputs": [
    {
     "data": {
      "application/vnd.microsoft.datawrangler.viewer.v0+json": {
       "columns": [
        {
         "name": "index",
         "rawType": "int64",
         "type": "integer"
        },
        {
         "name": "label",
         "rawType": "int64",
         "type": "integer"
        },
        {
         "name": "pixel0",
         "rawType": "int64",
         "type": "integer"
        },
        {
         "name": "pixel1",
         "rawType": "int64",
         "type": "integer"
        },
        {
         "name": "pixel2",
         "rawType": "int64",
         "type": "integer"
        },
        {
         "name": "pixel3",
         "rawType": "int64",
         "type": "integer"
        },
        {
         "name": "pixel4",
         "rawType": "int64",
         "type": "integer"
        },
        {
         "name": "pixel5",
         "rawType": "int64",
         "type": "integer"
        },
        {
         "name": "pixel6",
         "rawType": "int64",
         "type": "integer"
        },
        {
         "name": "pixel7",
         "rawType": "int64",
         "type": "integer"
        },
        {
         "name": "pixel8",
         "rawType": "int64",
         "type": "integer"
        },
        {
         "name": "pixel9",
         "rawType": "int64",
         "type": "integer"
        },
        {
         "name": "pixel10",
         "rawType": "int64",
         "type": "integer"
        },
        {
         "name": "pixel11",
         "rawType": "int64",
         "type": "integer"
        },
        {
         "name": "pixel12",
         "rawType": "int64",
         "type": "integer"
        },
        {
         "name": "pixel13",
         "rawType": "int64",
         "type": "integer"
        },
        {
         "name": "pixel14",
         "rawType": "int64",
         "type": "integer"
        },
        {
         "name": "pixel15",
         "rawType": "int64",
         "type": "integer"
        },
        {
         "name": "pixel16",
         "rawType": "int64",
         "type": "integer"
        },
        {
         "name": "pixel17",
         "rawType": "int64",
         "type": "integer"
        },
        {
         "name": "pixel18",
         "rawType": "int64",
         "type": "integer"
        },
        {
         "name": "pixel19",
         "rawType": "int64",
         "type": "integer"
        },
        {
         "name": "pixel20",
         "rawType": "int64",
         "type": "integer"
        },
        {
         "name": "pixel21",
         "rawType": "int64",
         "type": "integer"
        },
        {
         "name": "pixel22",
         "rawType": "int64",
         "type": "integer"
        },
        {
         "name": "pixel23",
         "rawType": "int64",
         "type": "integer"
        },
        {
         "name": "pixel24",
         "rawType": "int64",
         "type": "integer"
        },
        {
         "name": "pixel25",
         "rawType": "int64",
         "type": "integer"
        },
        {
         "name": "pixel26",
         "rawType": "int64",
         "type": "integer"
        },
        {
         "name": "pixel27",
         "rawType": "int64",
         "type": "integer"
        },
        {
         "name": "pixel28",
         "rawType": "int64",
         "type": "integer"
        },
        {
         "name": "pixel29",
         "rawType": "int64",
         "type": "integer"
        },
        {
         "name": "pixel30",
         "rawType": "int64",
         "type": "integer"
        },
        {
         "name": "pixel31",
         "rawType": "int64",
         "type": "integer"
        },
        {
         "name": "pixel32",
         "rawType": "int64",
         "type": "integer"
        },
        {
         "name": "pixel33",
         "rawType": "int64",
         "type": "integer"
        },
        {
         "name": "pixel34",
         "rawType": "int64",
         "type": "integer"
        },
        {
         "name": "pixel35",
         "rawType": "int64",
         "type": "integer"
        },
        {
         "name": "pixel36",
         "rawType": "int64",
         "type": "integer"
        },
        {
         "name": "pixel37",
         "rawType": "int64",
         "type": "integer"
        },
        {
         "name": "pixel38",
         "rawType": "int64",
         "type": "integer"
        },
        {
         "name": "pixel39",
         "rawType": "int64",
         "type": "integer"
        },
        {
         "name": "pixel40",
         "rawType": "int64",
         "type": "integer"
        },
        {
         "name": "pixel41",
         "rawType": "int64",
         "type": "integer"
        },
        {
         "name": "pixel42",
         "rawType": "int64",
         "type": "integer"
        },
        {
         "name": "pixel43",
         "rawType": "int64",
         "type": "integer"
        },
        {
         "name": "pixel44",
         "rawType": "int64",
         "type": "integer"
        },
        {
         "name": "pixel45",
         "rawType": "int64",
         "type": "integer"
        },
        {
         "name": "pixel46",
         "rawType": "int64",
         "type": "integer"
        },
        {
         "name": "pixel47",
         "rawType": "int64",
         "type": "integer"
        },
        {
         "name": "pixel48",
         "rawType": "int64",
         "type": "integer"
        },
        {
         "name": "pixel49",
         "rawType": "int64",
         "type": "integer"
        },
        {
         "name": "pixel50",
         "rawType": "int64",
         "type": "integer"
        },
        {
         "name": "pixel51",
         "rawType": "int64",
         "type": "integer"
        },
        {
         "name": "pixel52",
         "rawType": "int64",
         "type": "integer"
        },
        {
         "name": "pixel53",
         "rawType": "int64",
         "type": "integer"
        },
        {
         "name": "pixel54",
         "rawType": "int64",
         "type": "integer"
        },
        {
         "name": "pixel55",
         "rawType": "int64",
         "type": "integer"
        },
        {
         "name": "pixel56",
         "rawType": "int64",
         "type": "integer"
        },
        {
         "name": "pixel57",
         "rawType": "int64",
         "type": "integer"
        },
        {
         "name": "pixel58",
         "rawType": "int64",
         "type": "integer"
        },
        {
         "name": "pixel59",
         "rawType": "int64",
         "type": "integer"
        },
        {
         "name": "pixel60",
         "rawType": "int64",
         "type": "integer"
        },
        {
         "name": "pixel61",
         "rawType": "int64",
         "type": "integer"
        },
        {
         "name": "pixel62",
         "rawType": "int64",
         "type": "integer"
        },
        {
         "name": "pixel63",
         "rawType": "int64",
         "type": "integer"
        },
        {
         "name": "pixel64",
         "rawType": "int64",
         "type": "integer"
        },
        {
         "name": "pixel65",
         "rawType": "int64",
         "type": "integer"
        },
        {
         "name": "pixel66",
         "rawType": "int64",
         "type": "integer"
        },
        {
         "name": "pixel67",
         "rawType": "int64",
         "type": "integer"
        },
        {
         "name": "pixel68",
         "rawType": "int64",
         "type": "integer"
        },
        {
         "name": "pixel69",
         "rawType": "int64",
         "type": "integer"
        },
        {
         "name": "pixel70",
         "rawType": "int64",
         "type": "integer"
        },
        {
         "name": "pixel71",
         "rawType": "int64",
         "type": "integer"
        },
        {
         "name": "pixel72",
         "rawType": "int64",
         "type": "integer"
        },
        {
         "name": "pixel73",
         "rawType": "int64",
         "type": "integer"
        },
        {
         "name": "pixel74",
         "rawType": "int64",
         "type": "integer"
        },
        {
         "name": "pixel75",
         "rawType": "int64",
         "type": "integer"
        },
        {
         "name": "pixel76",
         "rawType": "int64",
         "type": "integer"
        },
        {
         "name": "pixel77",
         "rawType": "int64",
         "type": "integer"
        },
        {
         "name": "pixel78",
         "rawType": "int64",
         "type": "integer"
        },
        {
         "name": "pixel79",
         "rawType": "int64",
         "type": "integer"
        },
        {
         "name": "pixel80",
         "rawType": "int64",
         "type": "integer"
        },
        {
         "name": "pixel81",
         "rawType": "int64",
         "type": "integer"
        },
        {
         "name": "pixel82",
         "rawType": "int64",
         "type": "integer"
        },
        {
         "name": "pixel83",
         "rawType": "int64",
         "type": "integer"
        },
        {
         "name": "pixel84",
         "rawType": "int64",
         "type": "integer"
        },
        {
         "name": "pixel85",
         "rawType": "int64",
         "type": "integer"
        },
        {
         "name": "pixel86",
         "rawType": "int64",
         "type": "integer"
        },
        {
         "name": "pixel87",
         "rawType": "int64",
         "type": "integer"
        },
        {
         "name": "pixel88",
         "rawType": "int64",
         "type": "integer"
        },
        {
         "name": "pixel89",
         "rawType": "int64",
         "type": "integer"
        },
        {
         "name": "pixel90",
         "rawType": "int64",
         "type": "integer"
        },
        {
         "name": "pixel91",
         "rawType": "int64",
         "type": "integer"
        },
        {
         "name": "pixel92",
         "rawType": "int64",
         "type": "integer"
        },
        {
         "name": "pixel93",
         "rawType": "int64",
         "type": "integer"
        },
        {
         "name": "pixel94",
         "rawType": "int64",
         "type": "integer"
        },
        {
         "name": "pixel95",
         "rawType": "int64",
         "type": "integer"
        },
        {
         "name": "pixel96",
         "rawType": "int64",
         "type": "integer"
        },
        {
         "name": "pixel97",
         "rawType": "int64",
         "type": "integer"
        },
        {
         "name": "pixel98",
         "rawType": "int64",
         "type": "integer"
        },
        {
         "name": "pixel99",
         "rawType": "int64",
         "type": "integer"
        },
        {
         "name": "pixel100",
         "rawType": "int64",
         "type": "integer"
        },
        {
         "name": "pixel101",
         "rawType": "int64",
         "type": "integer"
        },
        {
         "name": "pixel102",
         "rawType": "int64",
         "type": "integer"
        },
        {
         "name": "pixel103",
         "rawType": "int64",
         "type": "integer"
        },
        {
         "name": "pixel104",
         "rawType": "int64",
         "type": "integer"
        },
        {
         "name": "pixel105",
         "rawType": "int64",
         "type": "integer"
        },
        {
         "name": "pixel106",
         "rawType": "int64",
         "type": "integer"
        },
        {
         "name": "pixel107",
         "rawType": "int64",
         "type": "integer"
        },
        {
         "name": "pixel108",
         "rawType": "int64",
         "type": "integer"
        },
        {
         "name": "pixel109",
         "rawType": "int64",
         "type": "integer"
        },
        {
         "name": "pixel110",
         "rawType": "int64",
         "type": "integer"
        },
        {
         "name": "pixel111",
         "rawType": "int64",
         "type": "integer"
        },
        {
         "name": "pixel112",
         "rawType": "int64",
         "type": "integer"
        },
        {
         "name": "pixel113",
         "rawType": "int64",
         "type": "integer"
        },
        {
         "name": "pixel114",
         "rawType": "int64",
         "type": "integer"
        },
        {
         "name": "pixel115",
         "rawType": "int64",
         "type": "integer"
        },
        {
         "name": "pixel116",
         "rawType": "int64",
         "type": "integer"
        },
        {
         "name": "pixel117",
         "rawType": "int64",
         "type": "integer"
        },
        {
         "name": "pixel118",
         "rawType": "int64",
         "type": "integer"
        },
        {
         "name": "pixel119",
         "rawType": "int64",
         "type": "integer"
        },
        {
         "name": "pixel120",
         "rawType": "int64",
         "type": "integer"
        },
        {
         "name": "pixel121",
         "rawType": "int64",
         "type": "integer"
        },
        {
         "name": "pixel122",
         "rawType": "int64",
         "type": "integer"
        },
        {
         "name": "pixel123",
         "rawType": "int64",
         "type": "integer"
        },
        {
         "name": "pixel124",
         "rawType": "int64",
         "type": "integer"
        },
        {
         "name": "pixel125",
         "rawType": "int64",
         "type": "integer"
        },
        {
         "name": "pixel126",
         "rawType": "int64",
         "type": "integer"
        },
        {
         "name": "pixel127",
         "rawType": "int64",
         "type": "integer"
        },
        {
         "name": "pixel128",
         "rawType": "int64",
         "type": "integer"
        },
        {
         "name": "pixel129",
         "rawType": "int64",
         "type": "integer"
        },
        {
         "name": "pixel130",
         "rawType": "int64",
         "type": "integer"
        },
        {
         "name": "pixel131",
         "rawType": "int64",
         "type": "integer"
        },
        {
         "name": "pixel132",
         "rawType": "int64",
         "type": "integer"
        },
        {
         "name": "pixel133",
         "rawType": "int64",
         "type": "integer"
        },
        {
         "name": "pixel134",
         "rawType": "int64",
         "type": "integer"
        },
        {
         "name": "pixel135",
         "rawType": "int64",
         "type": "integer"
        },
        {
         "name": "pixel136",
         "rawType": "int64",
         "type": "integer"
        },
        {
         "name": "pixel137",
         "rawType": "int64",
         "type": "integer"
        },
        {
         "name": "pixel138",
         "rawType": "int64",
         "type": "integer"
        },
        {
         "name": "pixel139",
         "rawType": "int64",
         "type": "integer"
        },
        {
         "name": "pixel140",
         "rawType": "int64",
         "type": "integer"
        },
        {
         "name": "pixel141",
         "rawType": "int64",
         "type": "integer"
        },
        {
         "name": "pixel142",
         "rawType": "int64",
         "type": "integer"
        },
        {
         "name": "pixel143",
         "rawType": "int64",
         "type": "integer"
        },
        {
         "name": "pixel144",
         "rawType": "int64",
         "type": "integer"
        },
        {
         "name": "pixel145",
         "rawType": "int64",
         "type": "integer"
        },
        {
         "name": "pixel146",
         "rawType": "int64",
         "type": "integer"
        },
        {
         "name": "pixel147",
         "rawType": "int64",
         "type": "integer"
        },
        {
         "name": "pixel148",
         "rawType": "int64",
         "type": "integer"
        },
        {
         "name": "pixel149",
         "rawType": "int64",
         "type": "integer"
        },
        {
         "name": "pixel150",
         "rawType": "int64",
         "type": "integer"
        },
        {
         "name": "pixel151",
         "rawType": "int64",
         "type": "integer"
        },
        {
         "name": "pixel152",
         "rawType": "int64",
         "type": "integer"
        },
        {
         "name": "pixel153",
         "rawType": "int64",
         "type": "integer"
        },
        {
         "name": "pixel154",
         "rawType": "int64",
         "type": "integer"
        },
        {
         "name": "pixel155",
         "rawType": "int64",
         "type": "integer"
        },
        {
         "name": "pixel156",
         "rawType": "int64",
         "type": "integer"
        },
        {
         "name": "pixel157",
         "rawType": "int64",
         "type": "integer"
        },
        {
         "name": "pixel158",
         "rawType": "int64",
         "type": "integer"
        },
        {
         "name": "pixel159",
         "rawType": "int64",
         "type": "integer"
        },
        {
         "name": "pixel160",
         "rawType": "int64",
         "type": "integer"
        },
        {
         "name": "pixel161",
         "rawType": "int64",
         "type": "integer"
        },
        {
         "name": "pixel162",
         "rawType": "int64",
         "type": "integer"
        },
        {
         "name": "pixel163",
         "rawType": "int64",
         "type": "integer"
        },
        {
         "name": "pixel164",
         "rawType": "int64",
         "type": "integer"
        },
        {
         "name": "pixel165",
         "rawType": "int64",
         "type": "integer"
        },
        {
         "name": "pixel166",
         "rawType": "int64",
         "type": "integer"
        },
        {
         "name": "pixel167",
         "rawType": "int64",
         "type": "integer"
        },
        {
         "name": "pixel168",
         "rawType": "int64",
         "type": "integer"
        },
        {
         "name": "pixel169",
         "rawType": "int64",
         "type": "integer"
        },
        {
         "name": "pixel170",
         "rawType": "int64",
         "type": "integer"
        },
        {
         "name": "pixel171",
         "rawType": "int64",
         "type": "integer"
        },
        {
         "name": "pixel172",
         "rawType": "int64",
         "type": "integer"
        },
        {
         "name": "pixel173",
         "rawType": "int64",
         "type": "integer"
        },
        {
         "name": "pixel174",
         "rawType": "int64",
         "type": "integer"
        },
        {
         "name": "pixel175",
         "rawType": "int64",
         "type": "integer"
        },
        {
         "name": "pixel176",
         "rawType": "int64",
         "type": "integer"
        },
        {
         "name": "pixel177",
         "rawType": "int64",
         "type": "integer"
        },
        {
         "name": "pixel178",
         "rawType": "int64",
         "type": "integer"
        },
        {
         "name": "pixel179",
         "rawType": "int64",
         "type": "integer"
        },
        {
         "name": "pixel180",
         "rawType": "int64",
         "type": "integer"
        },
        {
         "name": "pixel181",
         "rawType": "int64",
         "type": "integer"
        },
        {
         "name": "pixel182",
         "rawType": "int64",
         "type": "integer"
        },
        {
         "name": "pixel183",
         "rawType": "int64",
         "type": "integer"
        },
        {
         "name": "pixel184",
         "rawType": "int64",
         "type": "integer"
        },
        {
         "name": "pixel185",
         "rawType": "int64",
         "type": "integer"
        },
        {
         "name": "pixel186",
         "rawType": "int64",
         "type": "integer"
        },
        {
         "name": "pixel187",
         "rawType": "int64",
         "type": "integer"
        },
        {
         "name": "pixel188",
         "rawType": "int64",
         "type": "integer"
        },
        {
         "name": "pixel189",
         "rawType": "int64",
         "type": "integer"
        },
        {
         "name": "pixel190",
         "rawType": "int64",
         "type": "integer"
        },
        {
         "name": "pixel191",
         "rawType": "int64",
         "type": "integer"
        },
        {
         "name": "pixel192",
         "rawType": "int64",
         "type": "integer"
        },
        {
         "name": "pixel193",
         "rawType": "int64",
         "type": "integer"
        },
        {
         "name": "pixel194",
         "rawType": "int64",
         "type": "integer"
        },
        {
         "name": "pixel195",
         "rawType": "int64",
         "type": "integer"
        },
        {
         "name": "pixel196",
         "rawType": "int64",
         "type": "integer"
        },
        {
         "name": "pixel197",
         "rawType": "int64",
         "type": "integer"
        },
        {
         "name": "pixel198",
         "rawType": "int64",
         "type": "integer"
        },
        {
         "name": "pixel199",
         "rawType": "int64",
         "type": "integer"
        },
        {
         "name": "pixel200",
         "rawType": "int64",
         "type": "integer"
        },
        {
         "name": "pixel201",
         "rawType": "int64",
         "type": "integer"
        },
        {
         "name": "pixel202",
         "rawType": "int64",
         "type": "integer"
        },
        {
         "name": "pixel203",
         "rawType": "int64",
         "type": "integer"
        },
        {
         "name": "pixel204",
         "rawType": "int64",
         "type": "integer"
        },
        {
         "name": "pixel205",
         "rawType": "int64",
         "type": "integer"
        },
        {
         "name": "pixel206",
         "rawType": "int64",
         "type": "integer"
        },
        {
         "name": "pixel207",
         "rawType": "int64",
         "type": "integer"
        },
        {
         "name": "pixel208",
         "rawType": "int64",
         "type": "integer"
        },
        {
         "name": "pixel209",
         "rawType": "int64",
         "type": "integer"
        },
        {
         "name": "pixel210",
         "rawType": "int64",
         "type": "integer"
        },
        {
         "name": "pixel211",
         "rawType": "int64",
         "type": "integer"
        },
        {
         "name": "pixel212",
         "rawType": "int64",
         "type": "integer"
        },
        {
         "name": "pixel213",
         "rawType": "int64",
         "type": "integer"
        },
        {
         "name": "pixel214",
         "rawType": "int64",
         "type": "integer"
        },
        {
         "name": "pixel215",
         "rawType": "int64",
         "type": "integer"
        },
        {
         "name": "pixel216",
         "rawType": "int64",
         "type": "integer"
        },
        {
         "name": "pixel217",
         "rawType": "int64",
         "type": "integer"
        },
        {
         "name": "pixel218",
         "rawType": "int64",
         "type": "integer"
        },
        {
         "name": "pixel219",
         "rawType": "int64",
         "type": "integer"
        },
        {
         "name": "pixel220",
         "rawType": "int64",
         "type": "integer"
        },
        {
         "name": "pixel221",
         "rawType": "int64",
         "type": "integer"
        },
        {
         "name": "pixel222",
         "rawType": "int64",
         "type": "integer"
        },
        {
         "name": "pixel223",
         "rawType": "int64",
         "type": "integer"
        },
        {
         "name": "pixel224",
         "rawType": "int64",
         "type": "integer"
        },
        {
         "name": "pixel225",
         "rawType": "int64",
         "type": "integer"
        },
        {
         "name": "pixel226",
         "rawType": "int64",
         "type": "integer"
        },
        {
         "name": "pixel227",
         "rawType": "int64",
         "type": "integer"
        },
        {
         "name": "pixel228",
         "rawType": "int64",
         "type": "integer"
        },
        {
         "name": "pixel229",
         "rawType": "int64",
         "type": "integer"
        },
        {
         "name": "pixel230",
         "rawType": "int64",
         "type": "integer"
        },
        {
         "name": "pixel231",
         "rawType": "int64",
         "type": "integer"
        },
        {
         "name": "pixel232",
         "rawType": "int64",
         "type": "integer"
        },
        {
         "name": "pixel233",
         "rawType": "int64",
         "type": "integer"
        },
        {
         "name": "pixel234",
         "rawType": "int64",
         "type": "integer"
        },
        {
         "name": "pixel235",
         "rawType": "int64",
         "type": "integer"
        },
        {
         "name": "pixel236",
         "rawType": "int64",
         "type": "integer"
        },
        {
         "name": "pixel237",
         "rawType": "int64",
         "type": "integer"
        },
        {
         "name": "pixel238",
         "rawType": "int64",
         "type": "integer"
        },
        {
         "name": "pixel239",
         "rawType": "int64",
         "type": "integer"
        },
        {
         "name": "pixel240",
         "rawType": "int64",
         "type": "integer"
        },
        {
         "name": "pixel241",
         "rawType": "int64",
         "type": "integer"
        },
        {
         "name": "pixel242",
         "rawType": "int64",
         "type": "integer"
        },
        {
         "name": "pixel243",
         "rawType": "int64",
         "type": "integer"
        },
        {
         "name": "pixel244",
         "rawType": "int64",
         "type": "integer"
        },
        {
         "name": "pixel245",
         "rawType": "int64",
         "type": "integer"
        },
        {
         "name": "pixel246",
         "rawType": "int64",
         "type": "integer"
        },
        {
         "name": "pixel247",
         "rawType": "int64",
         "type": "integer"
        },
        {
         "name": "pixel248",
         "rawType": "int64",
         "type": "integer"
        },
        {
         "name": "pixel249",
         "rawType": "int64",
         "type": "integer"
        },
        {
         "name": "pixel250",
         "rawType": "int64",
         "type": "integer"
        },
        {
         "name": "pixel251",
         "rawType": "int64",
         "type": "integer"
        },
        {
         "name": "pixel252",
         "rawType": "int64",
         "type": "integer"
        },
        {
         "name": "pixel253",
         "rawType": "int64",
         "type": "integer"
        },
        {
         "name": "pixel254",
         "rawType": "int64",
         "type": "integer"
        },
        {
         "name": "pixel255",
         "rawType": "int64",
         "type": "integer"
        },
        {
         "name": "pixel256",
         "rawType": "int64",
         "type": "integer"
        },
        {
         "name": "pixel257",
         "rawType": "int64",
         "type": "integer"
        },
        {
         "name": "pixel258",
         "rawType": "int64",
         "type": "integer"
        },
        {
         "name": "pixel259",
         "rawType": "int64",
         "type": "integer"
        },
        {
         "name": "pixel260",
         "rawType": "int64",
         "type": "integer"
        },
        {
         "name": "pixel261",
         "rawType": "int64",
         "type": "integer"
        },
        {
         "name": "pixel262",
         "rawType": "int64",
         "type": "integer"
        },
        {
         "name": "pixel263",
         "rawType": "int64",
         "type": "integer"
        },
        {
         "name": "pixel264",
         "rawType": "int64",
         "type": "integer"
        },
        {
         "name": "pixel265",
         "rawType": "int64",
         "type": "integer"
        },
        {
         "name": "pixel266",
         "rawType": "int64",
         "type": "integer"
        },
        {
         "name": "pixel267",
         "rawType": "int64",
         "type": "integer"
        },
        {
         "name": "pixel268",
         "rawType": "int64",
         "type": "integer"
        },
        {
         "name": "pixel269",
         "rawType": "int64",
         "type": "integer"
        },
        {
         "name": "pixel270",
         "rawType": "int64",
         "type": "integer"
        },
        {
         "name": "pixel271",
         "rawType": "int64",
         "type": "integer"
        },
        {
         "name": "pixel272",
         "rawType": "int64",
         "type": "integer"
        },
        {
         "name": "pixel273",
         "rawType": "int64",
         "type": "integer"
        },
        {
         "name": "pixel274",
         "rawType": "int64",
         "type": "integer"
        },
        {
         "name": "pixel275",
         "rawType": "int64",
         "type": "integer"
        },
        {
         "name": "pixel276",
         "rawType": "int64",
         "type": "integer"
        },
        {
         "name": "pixel277",
         "rawType": "int64",
         "type": "integer"
        },
        {
         "name": "pixel278",
         "rawType": "int64",
         "type": "integer"
        },
        {
         "name": "pixel279",
         "rawType": "int64",
         "type": "integer"
        },
        {
         "name": "pixel280",
         "rawType": "int64",
         "type": "integer"
        },
        {
         "name": "pixel281",
         "rawType": "int64",
         "type": "integer"
        },
        {
         "name": "pixel282",
         "rawType": "int64",
         "type": "integer"
        },
        {
         "name": "pixel283",
         "rawType": "int64",
         "type": "integer"
        },
        {
         "name": "pixel284",
         "rawType": "int64",
         "type": "integer"
        },
        {
         "name": "pixel285",
         "rawType": "int64",
         "type": "integer"
        },
        {
         "name": "pixel286",
         "rawType": "int64",
         "type": "integer"
        },
        {
         "name": "pixel287",
         "rawType": "int64",
         "type": "integer"
        },
        {
         "name": "pixel288",
         "rawType": "int64",
         "type": "integer"
        },
        {
         "name": "pixel289",
         "rawType": "int64",
         "type": "integer"
        },
        {
         "name": "pixel290",
         "rawType": "int64",
         "type": "integer"
        },
        {
         "name": "pixel291",
         "rawType": "int64",
         "type": "integer"
        },
        {
         "name": "pixel292",
         "rawType": "int64",
         "type": "integer"
        },
        {
         "name": "pixel293",
         "rawType": "int64",
         "type": "integer"
        },
        {
         "name": "pixel294",
         "rawType": "int64",
         "type": "integer"
        },
        {
         "name": "pixel295",
         "rawType": "int64",
         "type": "integer"
        },
        {
         "name": "pixel296",
         "rawType": "int64",
         "type": "integer"
        },
        {
         "name": "pixel297",
         "rawType": "int64",
         "type": "integer"
        },
        {
         "name": "pixel298",
         "rawType": "int64",
         "type": "integer"
        },
        {
         "name": "pixel299",
         "rawType": "int64",
         "type": "integer"
        },
        {
         "name": "pixel300",
         "rawType": "int64",
         "type": "integer"
        },
        {
         "name": "pixel301",
         "rawType": "int64",
         "type": "integer"
        },
        {
         "name": "pixel302",
         "rawType": "int64",
         "type": "integer"
        },
        {
         "name": "pixel303",
         "rawType": "int64",
         "type": "integer"
        },
        {
         "name": "pixel304",
         "rawType": "int64",
         "type": "integer"
        },
        {
         "name": "pixel305",
         "rawType": "int64",
         "type": "integer"
        },
        {
         "name": "pixel306",
         "rawType": "int64",
         "type": "integer"
        },
        {
         "name": "pixel307",
         "rawType": "int64",
         "type": "integer"
        },
        {
         "name": "pixel308",
         "rawType": "int64",
         "type": "integer"
        },
        {
         "name": "pixel309",
         "rawType": "int64",
         "type": "integer"
        },
        {
         "name": "pixel310",
         "rawType": "int64",
         "type": "integer"
        },
        {
         "name": "pixel311",
         "rawType": "int64",
         "type": "integer"
        },
        {
         "name": "pixel312",
         "rawType": "int64",
         "type": "integer"
        },
        {
         "name": "pixel313",
         "rawType": "int64",
         "type": "integer"
        },
        {
         "name": "pixel314",
         "rawType": "int64",
         "type": "integer"
        },
        {
         "name": "pixel315",
         "rawType": "int64",
         "type": "integer"
        },
        {
         "name": "pixel316",
         "rawType": "int64",
         "type": "integer"
        },
        {
         "name": "pixel317",
         "rawType": "int64",
         "type": "integer"
        },
        {
         "name": "pixel318",
         "rawType": "int64",
         "type": "integer"
        },
        {
         "name": "pixel319",
         "rawType": "int64",
         "type": "integer"
        },
        {
         "name": "pixel320",
         "rawType": "int64",
         "type": "integer"
        },
        {
         "name": "pixel321",
         "rawType": "int64",
         "type": "integer"
        },
        {
         "name": "pixel322",
         "rawType": "int64",
         "type": "integer"
        },
        {
         "name": "pixel323",
         "rawType": "int64",
         "type": "integer"
        },
        {
         "name": "pixel324",
         "rawType": "int64",
         "type": "integer"
        },
        {
         "name": "pixel325",
         "rawType": "int64",
         "type": "integer"
        },
        {
         "name": "pixel326",
         "rawType": "int64",
         "type": "integer"
        },
        {
         "name": "pixel327",
         "rawType": "int64",
         "type": "integer"
        },
        {
         "name": "pixel328",
         "rawType": "int64",
         "type": "integer"
        },
        {
         "name": "pixel329",
         "rawType": "int64",
         "type": "integer"
        },
        {
         "name": "pixel330",
         "rawType": "int64",
         "type": "integer"
        },
        {
         "name": "pixel331",
         "rawType": "int64",
         "type": "integer"
        },
        {
         "name": "pixel332",
         "rawType": "int64",
         "type": "integer"
        },
        {
         "name": "pixel333",
         "rawType": "int64",
         "type": "integer"
        },
        {
         "name": "pixel334",
         "rawType": "int64",
         "type": "integer"
        },
        {
         "name": "pixel335",
         "rawType": "int64",
         "type": "integer"
        },
        {
         "name": "pixel336",
         "rawType": "int64",
         "type": "integer"
        },
        {
         "name": "pixel337",
         "rawType": "int64",
         "type": "integer"
        },
        {
         "name": "pixel338",
         "rawType": "int64",
         "type": "integer"
        },
        {
         "name": "pixel339",
         "rawType": "int64",
         "type": "integer"
        },
        {
         "name": "pixel340",
         "rawType": "int64",
         "type": "integer"
        },
        {
         "name": "pixel341",
         "rawType": "int64",
         "type": "integer"
        },
        {
         "name": "pixel342",
         "rawType": "int64",
         "type": "integer"
        },
        {
         "name": "pixel343",
         "rawType": "int64",
         "type": "integer"
        },
        {
         "name": "pixel344",
         "rawType": "int64",
         "type": "integer"
        },
        {
         "name": "pixel345",
         "rawType": "int64",
         "type": "integer"
        },
        {
         "name": "pixel346",
         "rawType": "int64",
         "type": "integer"
        },
        {
         "name": "pixel347",
         "rawType": "int64",
         "type": "integer"
        },
        {
         "name": "pixel348",
         "rawType": "int64",
         "type": "integer"
        },
        {
         "name": "pixel349",
         "rawType": "int64",
         "type": "integer"
        },
        {
         "name": "pixel350",
         "rawType": "int64",
         "type": "integer"
        },
        {
         "name": "pixel351",
         "rawType": "int64",
         "type": "integer"
        },
        {
         "name": "pixel352",
         "rawType": "int64",
         "type": "integer"
        },
        {
         "name": "pixel353",
         "rawType": "int64",
         "type": "integer"
        },
        {
         "name": "pixel354",
         "rawType": "int64",
         "type": "integer"
        },
        {
         "name": "pixel355",
         "rawType": "int64",
         "type": "integer"
        },
        {
         "name": "pixel356",
         "rawType": "int64",
         "type": "integer"
        },
        {
         "name": "pixel357",
         "rawType": "int64",
         "type": "integer"
        },
        {
         "name": "pixel358",
         "rawType": "int64",
         "type": "integer"
        },
        {
         "name": "pixel359",
         "rawType": "int64",
         "type": "integer"
        },
        {
         "name": "pixel360",
         "rawType": "int64",
         "type": "integer"
        },
        {
         "name": "pixel361",
         "rawType": "int64",
         "type": "integer"
        },
        {
         "name": "pixel362",
         "rawType": "int64",
         "type": "integer"
        },
        {
         "name": "pixel363",
         "rawType": "int64",
         "type": "integer"
        },
        {
         "name": "pixel364",
         "rawType": "int64",
         "type": "integer"
        },
        {
         "name": "pixel365",
         "rawType": "int64",
         "type": "integer"
        },
        {
         "name": "pixel366",
         "rawType": "int64",
         "type": "integer"
        },
        {
         "name": "pixel367",
         "rawType": "int64",
         "type": "integer"
        },
        {
         "name": "pixel368",
         "rawType": "int64",
         "type": "integer"
        },
        {
         "name": "pixel369",
         "rawType": "int64",
         "type": "integer"
        },
        {
         "name": "pixel370",
         "rawType": "int64",
         "type": "integer"
        },
        {
         "name": "pixel371",
         "rawType": "int64",
         "type": "integer"
        },
        {
         "name": "pixel372",
         "rawType": "int64",
         "type": "integer"
        },
        {
         "name": "pixel373",
         "rawType": "int64",
         "type": "integer"
        },
        {
         "name": "pixel374",
         "rawType": "int64",
         "type": "integer"
        },
        {
         "name": "pixel375",
         "rawType": "int64",
         "type": "integer"
        },
        {
         "name": "pixel376",
         "rawType": "int64",
         "type": "integer"
        },
        {
         "name": "pixel377",
         "rawType": "int64",
         "type": "integer"
        },
        {
         "name": "pixel378",
         "rawType": "int64",
         "type": "integer"
        },
        {
         "name": "pixel379",
         "rawType": "int64",
         "type": "integer"
        },
        {
         "name": "pixel380",
         "rawType": "int64",
         "type": "integer"
        },
        {
         "name": "pixel381",
         "rawType": "int64",
         "type": "integer"
        },
        {
         "name": "pixel382",
         "rawType": "int64",
         "type": "integer"
        },
        {
         "name": "pixel383",
         "rawType": "int64",
         "type": "integer"
        },
        {
         "name": "pixel384",
         "rawType": "int64",
         "type": "integer"
        },
        {
         "name": "pixel385",
         "rawType": "int64",
         "type": "integer"
        },
        {
         "name": "pixel386",
         "rawType": "int64",
         "type": "integer"
        },
        {
         "name": "pixel387",
         "rawType": "int64",
         "type": "integer"
        },
        {
         "name": "pixel388",
         "rawType": "int64",
         "type": "integer"
        },
        {
         "name": "pixel389",
         "rawType": "int64",
         "type": "integer"
        },
        {
         "name": "pixel390",
         "rawType": "int64",
         "type": "integer"
        },
        {
         "name": "pixel391",
         "rawType": "int64",
         "type": "integer"
        },
        {
         "name": "pixel392",
         "rawType": "int64",
         "type": "integer"
        },
        {
         "name": "pixel393",
         "rawType": "int64",
         "type": "integer"
        },
        {
         "name": "pixel394",
         "rawType": "int64",
         "type": "integer"
        },
        {
         "name": "pixel395",
         "rawType": "int64",
         "type": "integer"
        },
        {
         "name": "pixel396",
         "rawType": "int64",
         "type": "integer"
        },
        {
         "name": "pixel397",
         "rawType": "int64",
         "type": "integer"
        },
        {
         "name": "pixel398",
         "rawType": "int64",
         "type": "integer"
        },
        {
         "name": "pixel399",
         "rawType": "int64",
         "type": "integer"
        },
        {
         "name": "pixel400",
         "rawType": "int64",
         "type": "integer"
        },
        {
         "name": "pixel401",
         "rawType": "int64",
         "type": "integer"
        },
        {
         "name": "pixel402",
         "rawType": "int64",
         "type": "integer"
        },
        {
         "name": "pixel403",
         "rawType": "int64",
         "type": "integer"
        },
        {
         "name": "pixel404",
         "rawType": "int64",
         "type": "integer"
        },
        {
         "name": "pixel405",
         "rawType": "int64",
         "type": "integer"
        },
        {
         "name": "pixel406",
         "rawType": "int64",
         "type": "integer"
        },
        {
         "name": "pixel407",
         "rawType": "int64",
         "type": "integer"
        },
        {
         "name": "pixel408",
         "rawType": "int64",
         "type": "integer"
        },
        {
         "name": "pixel409",
         "rawType": "int64",
         "type": "integer"
        },
        {
         "name": "pixel410",
         "rawType": "int64",
         "type": "integer"
        },
        {
         "name": "pixel411",
         "rawType": "int64",
         "type": "integer"
        },
        {
         "name": "pixel412",
         "rawType": "int64",
         "type": "integer"
        },
        {
         "name": "pixel413",
         "rawType": "int64",
         "type": "integer"
        },
        {
         "name": "pixel414",
         "rawType": "int64",
         "type": "integer"
        },
        {
         "name": "pixel415",
         "rawType": "int64",
         "type": "integer"
        },
        {
         "name": "pixel416",
         "rawType": "int64",
         "type": "integer"
        },
        {
         "name": "pixel417",
         "rawType": "int64",
         "type": "integer"
        },
        {
         "name": "pixel418",
         "rawType": "int64",
         "type": "integer"
        },
        {
         "name": "pixel419",
         "rawType": "int64",
         "type": "integer"
        },
        {
         "name": "pixel420",
         "rawType": "int64",
         "type": "integer"
        },
        {
         "name": "pixel421",
         "rawType": "int64",
         "type": "integer"
        },
        {
         "name": "pixel422",
         "rawType": "int64",
         "type": "integer"
        },
        {
         "name": "pixel423",
         "rawType": "int64",
         "type": "integer"
        },
        {
         "name": "pixel424",
         "rawType": "int64",
         "type": "integer"
        },
        {
         "name": "pixel425",
         "rawType": "int64",
         "type": "integer"
        },
        {
         "name": "pixel426",
         "rawType": "int64",
         "type": "integer"
        },
        {
         "name": "pixel427",
         "rawType": "int64",
         "type": "integer"
        },
        {
         "name": "pixel428",
         "rawType": "int64",
         "type": "integer"
        },
        {
         "name": "pixel429",
         "rawType": "int64",
         "type": "integer"
        },
        {
         "name": "pixel430",
         "rawType": "int64",
         "type": "integer"
        },
        {
         "name": "pixel431",
         "rawType": "int64",
         "type": "integer"
        },
        {
         "name": "pixel432",
         "rawType": "int64",
         "type": "integer"
        },
        {
         "name": "pixel433",
         "rawType": "int64",
         "type": "integer"
        },
        {
         "name": "pixel434",
         "rawType": "int64",
         "type": "integer"
        },
        {
         "name": "pixel435",
         "rawType": "int64",
         "type": "integer"
        },
        {
         "name": "pixel436",
         "rawType": "int64",
         "type": "integer"
        },
        {
         "name": "pixel437",
         "rawType": "int64",
         "type": "integer"
        },
        {
         "name": "pixel438",
         "rawType": "int64",
         "type": "integer"
        },
        {
         "name": "pixel439",
         "rawType": "int64",
         "type": "integer"
        },
        {
         "name": "pixel440",
         "rawType": "int64",
         "type": "integer"
        },
        {
         "name": "pixel441",
         "rawType": "int64",
         "type": "integer"
        },
        {
         "name": "pixel442",
         "rawType": "int64",
         "type": "integer"
        },
        {
         "name": "pixel443",
         "rawType": "int64",
         "type": "integer"
        },
        {
         "name": "pixel444",
         "rawType": "int64",
         "type": "integer"
        },
        {
         "name": "pixel445",
         "rawType": "int64",
         "type": "integer"
        },
        {
         "name": "pixel446",
         "rawType": "int64",
         "type": "integer"
        },
        {
         "name": "pixel447",
         "rawType": "int64",
         "type": "integer"
        },
        {
         "name": "pixel448",
         "rawType": "int64",
         "type": "integer"
        },
        {
         "name": "pixel449",
         "rawType": "int64",
         "type": "integer"
        },
        {
         "name": "pixel450",
         "rawType": "int64",
         "type": "integer"
        },
        {
         "name": "pixel451",
         "rawType": "int64",
         "type": "integer"
        },
        {
         "name": "pixel452",
         "rawType": "int64",
         "type": "integer"
        },
        {
         "name": "pixel453",
         "rawType": "int64",
         "type": "integer"
        },
        {
         "name": "pixel454",
         "rawType": "int64",
         "type": "integer"
        },
        {
         "name": "pixel455",
         "rawType": "int64",
         "type": "integer"
        },
        {
         "name": "pixel456",
         "rawType": "int64",
         "type": "integer"
        },
        {
         "name": "pixel457",
         "rawType": "int64",
         "type": "integer"
        },
        {
         "name": "pixel458",
         "rawType": "int64",
         "type": "integer"
        },
        {
         "name": "pixel459",
         "rawType": "int64",
         "type": "integer"
        },
        {
         "name": "pixel460",
         "rawType": "int64",
         "type": "integer"
        },
        {
         "name": "pixel461",
         "rawType": "int64",
         "type": "integer"
        },
        {
         "name": "pixel462",
         "rawType": "int64",
         "type": "integer"
        },
        {
         "name": "pixel463",
         "rawType": "int64",
         "type": "integer"
        },
        {
         "name": "pixel464",
         "rawType": "int64",
         "type": "integer"
        },
        {
         "name": "pixel465",
         "rawType": "int64",
         "type": "integer"
        },
        {
         "name": "pixel466",
         "rawType": "int64",
         "type": "integer"
        },
        {
         "name": "pixel467",
         "rawType": "int64",
         "type": "integer"
        },
        {
         "name": "pixel468",
         "rawType": "int64",
         "type": "integer"
        },
        {
         "name": "pixel469",
         "rawType": "int64",
         "type": "integer"
        },
        {
         "name": "pixel470",
         "rawType": "int64",
         "type": "integer"
        },
        {
         "name": "pixel471",
         "rawType": "int64",
         "type": "integer"
        },
        {
         "name": "pixel472",
         "rawType": "int64",
         "type": "integer"
        },
        {
         "name": "pixel473",
         "rawType": "int64",
         "type": "integer"
        },
        {
         "name": "pixel474",
         "rawType": "int64",
         "type": "integer"
        },
        {
         "name": "pixel475",
         "rawType": "int64",
         "type": "integer"
        },
        {
         "name": "pixel476",
         "rawType": "int64",
         "type": "integer"
        },
        {
         "name": "pixel477",
         "rawType": "int64",
         "type": "integer"
        },
        {
         "name": "pixel478",
         "rawType": "int64",
         "type": "integer"
        },
        {
         "name": "pixel479",
         "rawType": "int64",
         "type": "integer"
        },
        {
         "name": "pixel480",
         "rawType": "int64",
         "type": "integer"
        },
        {
         "name": "pixel481",
         "rawType": "int64",
         "type": "integer"
        },
        {
         "name": "pixel482",
         "rawType": "int64",
         "type": "integer"
        },
        {
         "name": "pixel483",
         "rawType": "int64",
         "type": "integer"
        },
        {
         "name": "pixel484",
         "rawType": "int64",
         "type": "integer"
        },
        {
         "name": "pixel485",
         "rawType": "int64",
         "type": "integer"
        },
        {
         "name": "pixel486",
         "rawType": "int64",
         "type": "integer"
        },
        {
         "name": "pixel487",
         "rawType": "int64",
         "type": "integer"
        },
        {
         "name": "pixel488",
         "rawType": "int64",
         "type": "integer"
        },
        {
         "name": "pixel489",
         "rawType": "int64",
         "type": "integer"
        },
        {
         "name": "pixel490",
         "rawType": "int64",
         "type": "integer"
        },
        {
         "name": "pixel491",
         "rawType": "int64",
         "type": "integer"
        },
        {
         "name": "pixel492",
         "rawType": "int64",
         "type": "integer"
        },
        {
         "name": "pixel493",
         "rawType": "int64",
         "type": "integer"
        },
        {
         "name": "pixel494",
         "rawType": "int64",
         "type": "integer"
        },
        {
         "name": "pixel495",
         "rawType": "int64",
         "type": "integer"
        },
        {
         "name": "pixel496",
         "rawType": "int64",
         "type": "integer"
        },
        {
         "name": "pixel497",
         "rawType": "int64",
         "type": "integer"
        },
        {
         "name": "pixel498",
         "rawType": "int64",
         "type": "integer"
        },
        {
         "name": "pixel499",
         "rawType": "int64",
         "type": "integer"
        },
        {
         "name": "pixel500",
         "rawType": "int64",
         "type": "integer"
        },
        {
         "name": "pixel501",
         "rawType": "int64",
         "type": "integer"
        },
        {
         "name": "pixel502",
         "rawType": "int64",
         "type": "integer"
        },
        {
         "name": "pixel503",
         "rawType": "int64",
         "type": "integer"
        },
        {
         "name": "pixel504",
         "rawType": "int64",
         "type": "integer"
        },
        {
         "name": "pixel505",
         "rawType": "int64",
         "type": "integer"
        },
        {
         "name": "pixel506",
         "rawType": "int64",
         "type": "integer"
        },
        {
         "name": "pixel507",
         "rawType": "int64",
         "type": "integer"
        },
        {
         "name": "pixel508",
         "rawType": "int64",
         "type": "integer"
        },
        {
         "name": "pixel509",
         "rawType": "int64",
         "type": "integer"
        },
        {
         "name": "pixel510",
         "rawType": "int64",
         "type": "integer"
        },
        {
         "name": "pixel511",
         "rawType": "int64",
         "type": "integer"
        },
        {
         "name": "pixel512",
         "rawType": "int64",
         "type": "integer"
        },
        {
         "name": "pixel513",
         "rawType": "int64",
         "type": "integer"
        },
        {
         "name": "pixel514",
         "rawType": "int64",
         "type": "integer"
        },
        {
         "name": "pixel515",
         "rawType": "int64",
         "type": "integer"
        },
        {
         "name": "pixel516",
         "rawType": "int64",
         "type": "integer"
        },
        {
         "name": "pixel517",
         "rawType": "int64",
         "type": "integer"
        },
        {
         "name": "pixel518",
         "rawType": "int64",
         "type": "integer"
        },
        {
         "name": "pixel519",
         "rawType": "int64",
         "type": "integer"
        },
        {
         "name": "pixel520",
         "rawType": "int64",
         "type": "integer"
        },
        {
         "name": "pixel521",
         "rawType": "int64",
         "type": "integer"
        },
        {
         "name": "pixel522",
         "rawType": "int64",
         "type": "integer"
        },
        {
         "name": "pixel523",
         "rawType": "int64",
         "type": "integer"
        },
        {
         "name": "pixel524",
         "rawType": "int64",
         "type": "integer"
        },
        {
         "name": "pixel525",
         "rawType": "int64",
         "type": "integer"
        },
        {
         "name": "pixel526",
         "rawType": "int64",
         "type": "integer"
        },
        {
         "name": "pixel527",
         "rawType": "int64",
         "type": "integer"
        },
        {
         "name": "pixel528",
         "rawType": "int64",
         "type": "integer"
        },
        {
         "name": "pixel529",
         "rawType": "int64",
         "type": "integer"
        },
        {
         "name": "pixel530",
         "rawType": "int64",
         "type": "integer"
        },
        {
         "name": "pixel531",
         "rawType": "int64",
         "type": "integer"
        },
        {
         "name": "pixel532",
         "rawType": "int64",
         "type": "integer"
        },
        {
         "name": "pixel533",
         "rawType": "int64",
         "type": "integer"
        },
        {
         "name": "pixel534",
         "rawType": "int64",
         "type": "integer"
        },
        {
         "name": "pixel535",
         "rawType": "int64",
         "type": "integer"
        },
        {
         "name": "pixel536",
         "rawType": "int64",
         "type": "integer"
        },
        {
         "name": "pixel537",
         "rawType": "int64",
         "type": "integer"
        },
        {
         "name": "pixel538",
         "rawType": "int64",
         "type": "integer"
        },
        {
         "name": "pixel539",
         "rawType": "int64",
         "type": "integer"
        },
        {
         "name": "pixel540",
         "rawType": "int64",
         "type": "integer"
        },
        {
         "name": "pixel541",
         "rawType": "int64",
         "type": "integer"
        },
        {
         "name": "pixel542",
         "rawType": "int64",
         "type": "integer"
        },
        {
         "name": "pixel543",
         "rawType": "int64",
         "type": "integer"
        },
        {
         "name": "pixel544",
         "rawType": "int64",
         "type": "integer"
        },
        {
         "name": "pixel545",
         "rawType": "int64",
         "type": "integer"
        },
        {
         "name": "pixel546",
         "rawType": "int64",
         "type": "integer"
        },
        {
         "name": "pixel547",
         "rawType": "int64",
         "type": "integer"
        },
        {
         "name": "pixel548",
         "rawType": "int64",
         "type": "integer"
        },
        {
         "name": "pixel549",
         "rawType": "int64",
         "type": "integer"
        },
        {
         "name": "pixel550",
         "rawType": "int64",
         "type": "integer"
        },
        {
         "name": "pixel551",
         "rawType": "int64",
         "type": "integer"
        },
        {
         "name": "pixel552",
         "rawType": "int64",
         "type": "integer"
        },
        {
         "name": "pixel553",
         "rawType": "int64",
         "type": "integer"
        },
        {
         "name": "pixel554",
         "rawType": "int64",
         "type": "integer"
        },
        {
         "name": "pixel555",
         "rawType": "int64",
         "type": "integer"
        },
        {
         "name": "pixel556",
         "rawType": "int64",
         "type": "integer"
        },
        {
         "name": "pixel557",
         "rawType": "int64",
         "type": "integer"
        },
        {
         "name": "pixel558",
         "rawType": "int64",
         "type": "integer"
        },
        {
         "name": "pixel559",
         "rawType": "int64",
         "type": "integer"
        },
        {
         "name": "pixel560",
         "rawType": "int64",
         "type": "integer"
        },
        {
         "name": "pixel561",
         "rawType": "int64",
         "type": "integer"
        },
        {
         "name": "pixel562",
         "rawType": "int64",
         "type": "integer"
        },
        {
         "name": "pixel563",
         "rawType": "int64",
         "type": "integer"
        },
        {
         "name": "pixel564",
         "rawType": "int64",
         "type": "integer"
        },
        {
         "name": "pixel565",
         "rawType": "int64",
         "type": "integer"
        },
        {
         "name": "pixel566",
         "rawType": "int64",
         "type": "integer"
        },
        {
         "name": "pixel567",
         "rawType": "int64",
         "type": "integer"
        },
        {
         "name": "pixel568",
         "rawType": "int64",
         "type": "integer"
        },
        {
         "name": "pixel569",
         "rawType": "int64",
         "type": "integer"
        },
        {
         "name": "pixel570",
         "rawType": "int64",
         "type": "integer"
        },
        {
         "name": "pixel571",
         "rawType": "int64",
         "type": "integer"
        },
        {
         "name": "pixel572",
         "rawType": "int64",
         "type": "integer"
        },
        {
         "name": "pixel573",
         "rawType": "int64",
         "type": "integer"
        },
        {
         "name": "pixel574",
         "rawType": "int64",
         "type": "integer"
        },
        {
         "name": "pixel575",
         "rawType": "int64",
         "type": "integer"
        },
        {
         "name": "pixel576",
         "rawType": "int64",
         "type": "integer"
        },
        {
         "name": "pixel577",
         "rawType": "int64",
         "type": "integer"
        },
        {
         "name": "pixel578",
         "rawType": "int64",
         "type": "integer"
        },
        {
         "name": "pixel579",
         "rawType": "int64",
         "type": "integer"
        },
        {
         "name": "pixel580",
         "rawType": "int64",
         "type": "integer"
        },
        {
         "name": "pixel581",
         "rawType": "int64",
         "type": "integer"
        },
        {
         "name": "pixel582",
         "rawType": "int64",
         "type": "integer"
        },
        {
         "name": "pixel583",
         "rawType": "int64",
         "type": "integer"
        },
        {
         "name": "pixel584",
         "rawType": "int64",
         "type": "integer"
        },
        {
         "name": "pixel585",
         "rawType": "int64",
         "type": "integer"
        },
        {
         "name": "pixel586",
         "rawType": "int64",
         "type": "integer"
        },
        {
         "name": "pixel587",
         "rawType": "int64",
         "type": "integer"
        },
        {
         "name": "pixel588",
         "rawType": "int64",
         "type": "integer"
        },
        {
         "name": "pixel589",
         "rawType": "int64",
         "type": "integer"
        },
        {
         "name": "pixel590",
         "rawType": "int64",
         "type": "integer"
        },
        {
         "name": "pixel591",
         "rawType": "int64",
         "type": "integer"
        },
        {
         "name": "pixel592",
         "rawType": "int64",
         "type": "integer"
        },
        {
         "name": "pixel593",
         "rawType": "int64",
         "type": "integer"
        },
        {
         "name": "pixel594",
         "rawType": "int64",
         "type": "integer"
        },
        {
         "name": "pixel595",
         "rawType": "int64",
         "type": "integer"
        },
        {
         "name": "pixel596",
         "rawType": "int64",
         "type": "integer"
        },
        {
         "name": "pixel597",
         "rawType": "int64",
         "type": "integer"
        },
        {
         "name": "pixel598",
         "rawType": "int64",
         "type": "integer"
        },
        {
         "name": "pixel599",
         "rawType": "int64",
         "type": "integer"
        },
        {
         "name": "pixel600",
         "rawType": "int64",
         "type": "integer"
        },
        {
         "name": "pixel601",
         "rawType": "int64",
         "type": "integer"
        },
        {
         "name": "pixel602",
         "rawType": "int64",
         "type": "integer"
        },
        {
         "name": "pixel603",
         "rawType": "int64",
         "type": "integer"
        },
        {
         "name": "pixel604",
         "rawType": "int64",
         "type": "integer"
        },
        {
         "name": "pixel605",
         "rawType": "int64",
         "type": "integer"
        },
        {
         "name": "pixel606",
         "rawType": "int64",
         "type": "integer"
        },
        {
         "name": "pixel607",
         "rawType": "int64",
         "type": "integer"
        },
        {
         "name": "pixel608",
         "rawType": "int64",
         "type": "integer"
        },
        {
         "name": "pixel609",
         "rawType": "int64",
         "type": "integer"
        },
        {
         "name": "pixel610",
         "rawType": "int64",
         "type": "integer"
        },
        {
         "name": "pixel611",
         "rawType": "int64",
         "type": "integer"
        },
        {
         "name": "pixel612",
         "rawType": "int64",
         "type": "integer"
        },
        {
         "name": "pixel613",
         "rawType": "int64",
         "type": "integer"
        },
        {
         "name": "pixel614",
         "rawType": "int64",
         "type": "integer"
        },
        {
         "name": "pixel615",
         "rawType": "int64",
         "type": "integer"
        },
        {
         "name": "pixel616",
         "rawType": "int64",
         "type": "integer"
        },
        {
         "name": "pixel617",
         "rawType": "int64",
         "type": "integer"
        },
        {
         "name": "pixel618",
         "rawType": "int64",
         "type": "integer"
        },
        {
         "name": "pixel619",
         "rawType": "int64",
         "type": "integer"
        },
        {
         "name": "pixel620",
         "rawType": "int64",
         "type": "integer"
        },
        {
         "name": "pixel621",
         "rawType": "int64",
         "type": "integer"
        },
        {
         "name": "pixel622",
         "rawType": "int64",
         "type": "integer"
        },
        {
         "name": "pixel623",
         "rawType": "int64",
         "type": "integer"
        },
        {
         "name": "pixel624",
         "rawType": "int64",
         "type": "integer"
        },
        {
         "name": "pixel625",
         "rawType": "int64",
         "type": "integer"
        },
        {
         "name": "pixel626",
         "rawType": "int64",
         "type": "integer"
        },
        {
         "name": "pixel627",
         "rawType": "int64",
         "type": "integer"
        },
        {
         "name": "pixel628",
         "rawType": "int64",
         "type": "integer"
        },
        {
         "name": "pixel629",
         "rawType": "int64",
         "type": "integer"
        },
        {
         "name": "pixel630",
         "rawType": "int64",
         "type": "integer"
        },
        {
         "name": "pixel631",
         "rawType": "int64",
         "type": "integer"
        },
        {
         "name": "pixel632",
         "rawType": "int64",
         "type": "integer"
        },
        {
         "name": "pixel633",
         "rawType": "int64",
         "type": "integer"
        },
        {
         "name": "pixel634",
         "rawType": "int64",
         "type": "integer"
        },
        {
         "name": "pixel635",
         "rawType": "int64",
         "type": "integer"
        },
        {
         "name": "pixel636",
         "rawType": "int64",
         "type": "integer"
        },
        {
         "name": "pixel637",
         "rawType": "int64",
         "type": "integer"
        },
        {
         "name": "pixel638",
         "rawType": "int64",
         "type": "integer"
        },
        {
         "name": "pixel639",
         "rawType": "int64",
         "type": "integer"
        },
        {
         "name": "pixel640",
         "rawType": "int64",
         "type": "integer"
        },
        {
         "name": "pixel641",
         "rawType": "int64",
         "type": "integer"
        },
        {
         "name": "pixel642",
         "rawType": "int64",
         "type": "integer"
        },
        {
         "name": "pixel643",
         "rawType": "int64",
         "type": "integer"
        },
        {
         "name": "pixel644",
         "rawType": "int64",
         "type": "integer"
        },
        {
         "name": "pixel645",
         "rawType": "int64",
         "type": "integer"
        },
        {
         "name": "pixel646",
         "rawType": "int64",
         "type": "integer"
        },
        {
         "name": "pixel647",
         "rawType": "int64",
         "type": "integer"
        },
        {
         "name": "pixel648",
         "rawType": "int64",
         "type": "integer"
        },
        {
         "name": "pixel649",
         "rawType": "int64",
         "type": "integer"
        },
        {
         "name": "pixel650",
         "rawType": "int64",
         "type": "integer"
        },
        {
         "name": "pixel651",
         "rawType": "int64",
         "type": "integer"
        },
        {
         "name": "pixel652",
         "rawType": "int64",
         "type": "integer"
        },
        {
         "name": "pixel653",
         "rawType": "int64",
         "type": "integer"
        },
        {
         "name": "pixel654",
         "rawType": "int64",
         "type": "integer"
        },
        {
         "name": "pixel655",
         "rawType": "int64",
         "type": "integer"
        },
        {
         "name": "pixel656",
         "rawType": "int64",
         "type": "integer"
        },
        {
         "name": "pixel657",
         "rawType": "int64",
         "type": "integer"
        },
        {
         "name": "pixel658",
         "rawType": "int64",
         "type": "integer"
        },
        {
         "name": "pixel659",
         "rawType": "int64",
         "type": "integer"
        },
        {
         "name": "pixel660",
         "rawType": "int64",
         "type": "integer"
        },
        {
         "name": "pixel661",
         "rawType": "int64",
         "type": "integer"
        },
        {
         "name": "pixel662",
         "rawType": "int64",
         "type": "integer"
        },
        {
         "name": "pixel663",
         "rawType": "int64",
         "type": "integer"
        },
        {
         "name": "pixel664",
         "rawType": "int64",
         "type": "integer"
        },
        {
         "name": "pixel665",
         "rawType": "int64",
         "type": "integer"
        },
        {
         "name": "pixel666",
         "rawType": "int64",
         "type": "integer"
        },
        {
         "name": "pixel667",
         "rawType": "int64",
         "type": "integer"
        },
        {
         "name": "pixel668",
         "rawType": "int64",
         "type": "integer"
        },
        {
         "name": "pixel669",
         "rawType": "int64",
         "type": "integer"
        },
        {
         "name": "pixel670",
         "rawType": "int64",
         "type": "integer"
        },
        {
         "name": "pixel671",
         "rawType": "int64",
         "type": "integer"
        },
        {
         "name": "pixel672",
         "rawType": "int64",
         "type": "integer"
        },
        {
         "name": "pixel673",
         "rawType": "int64",
         "type": "integer"
        },
        {
         "name": "pixel674",
         "rawType": "int64",
         "type": "integer"
        },
        {
         "name": "pixel675",
         "rawType": "int64",
         "type": "integer"
        },
        {
         "name": "pixel676",
         "rawType": "int64",
         "type": "integer"
        },
        {
         "name": "pixel677",
         "rawType": "int64",
         "type": "integer"
        },
        {
         "name": "pixel678",
         "rawType": "int64",
         "type": "integer"
        },
        {
         "name": "pixel679",
         "rawType": "int64",
         "type": "integer"
        },
        {
         "name": "pixel680",
         "rawType": "int64",
         "type": "integer"
        },
        {
         "name": "pixel681",
         "rawType": "int64",
         "type": "integer"
        },
        {
         "name": "pixel682",
         "rawType": "int64",
         "type": "integer"
        },
        {
         "name": "pixel683",
         "rawType": "int64",
         "type": "integer"
        },
        {
         "name": "pixel684",
         "rawType": "int64",
         "type": "integer"
        },
        {
         "name": "pixel685",
         "rawType": "int64",
         "type": "integer"
        },
        {
         "name": "pixel686",
         "rawType": "int64",
         "type": "integer"
        },
        {
         "name": "pixel687",
         "rawType": "int64",
         "type": "integer"
        },
        {
         "name": "pixel688",
         "rawType": "int64",
         "type": "integer"
        },
        {
         "name": "pixel689",
         "rawType": "int64",
         "type": "integer"
        },
        {
         "name": "pixel690",
         "rawType": "int64",
         "type": "integer"
        },
        {
         "name": "pixel691",
         "rawType": "int64",
         "type": "integer"
        },
        {
         "name": "pixel692",
         "rawType": "int64",
         "type": "integer"
        },
        {
         "name": "pixel693",
         "rawType": "int64",
         "type": "integer"
        },
        {
         "name": "pixel694",
         "rawType": "int64",
         "type": "integer"
        },
        {
         "name": "pixel695",
         "rawType": "int64",
         "type": "integer"
        },
        {
         "name": "pixel696",
         "rawType": "int64",
         "type": "integer"
        },
        {
         "name": "pixel697",
         "rawType": "int64",
         "type": "integer"
        },
        {
         "name": "pixel698",
         "rawType": "int64",
         "type": "integer"
        },
        {
         "name": "pixel699",
         "rawType": "int64",
         "type": "integer"
        },
        {
         "name": "pixel700",
         "rawType": "int64",
         "type": "integer"
        },
        {
         "name": "pixel701",
         "rawType": "int64",
         "type": "integer"
        },
        {
         "name": "pixel702",
         "rawType": "int64",
         "type": "integer"
        },
        {
         "name": "pixel703",
         "rawType": "int64",
         "type": "integer"
        },
        {
         "name": "pixel704",
         "rawType": "int64",
         "type": "integer"
        },
        {
         "name": "pixel705",
         "rawType": "int64",
         "type": "integer"
        },
        {
         "name": "pixel706",
         "rawType": "int64",
         "type": "integer"
        },
        {
         "name": "pixel707",
         "rawType": "int64",
         "type": "integer"
        },
        {
         "name": "pixel708",
         "rawType": "int64",
         "type": "integer"
        },
        {
         "name": "pixel709",
         "rawType": "int64",
         "type": "integer"
        },
        {
         "name": "pixel710",
         "rawType": "int64",
         "type": "integer"
        },
        {
         "name": "pixel711",
         "rawType": "int64",
         "type": "integer"
        },
        {
         "name": "pixel712",
         "rawType": "int64",
         "type": "integer"
        },
        {
         "name": "pixel713",
         "rawType": "int64",
         "type": "integer"
        },
        {
         "name": "pixel714",
         "rawType": "int64",
         "type": "integer"
        },
        {
         "name": "pixel715",
         "rawType": "int64",
         "type": "integer"
        },
        {
         "name": "pixel716",
         "rawType": "int64",
         "type": "integer"
        },
        {
         "name": "pixel717",
         "rawType": "int64",
         "type": "integer"
        },
        {
         "name": "pixel718",
         "rawType": "int64",
         "type": "integer"
        },
        {
         "name": "pixel719",
         "rawType": "int64",
         "type": "integer"
        },
        {
         "name": "pixel720",
         "rawType": "int64",
         "type": "integer"
        },
        {
         "name": "pixel721",
         "rawType": "int64",
         "type": "integer"
        },
        {
         "name": "pixel722",
         "rawType": "int64",
         "type": "integer"
        },
        {
         "name": "pixel723",
         "rawType": "int64",
         "type": "integer"
        },
        {
         "name": "pixel724",
         "rawType": "int64",
         "type": "integer"
        },
        {
         "name": "pixel725",
         "rawType": "int64",
         "type": "integer"
        },
        {
         "name": "pixel726",
         "rawType": "int64",
         "type": "integer"
        },
        {
         "name": "pixel727",
         "rawType": "int64",
         "type": "integer"
        },
        {
         "name": "pixel728",
         "rawType": "int64",
         "type": "integer"
        },
        {
         "name": "pixel729",
         "rawType": "int64",
         "type": "integer"
        },
        {
         "name": "pixel730",
         "rawType": "int64",
         "type": "integer"
        },
        {
         "name": "pixel731",
         "rawType": "int64",
         "type": "integer"
        },
        {
         "name": "pixel732",
         "rawType": "int64",
         "type": "integer"
        },
        {
         "name": "pixel733",
         "rawType": "int64",
         "type": "integer"
        },
        {
         "name": "pixel734",
         "rawType": "int64",
         "type": "integer"
        },
        {
         "name": "pixel735",
         "rawType": "int64",
         "type": "integer"
        },
        {
         "name": "pixel736",
         "rawType": "int64",
         "type": "integer"
        },
        {
         "name": "pixel737",
         "rawType": "int64",
         "type": "integer"
        },
        {
         "name": "pixel738",
         "rawType": "int64",
         "type": "integer"
        },
        {
         "name": "pixel739",
         "rawType": "int64",
         "type": "integer"
        },
        {
         "name": "pixel740",
         "rawType": "int64",
         "type": "integer"
        },
        {
         "name": "pixel741",
         "rawType": "int64",
         "type": "integer"
        },
        {
         "name": "pixel742",
         "rawType": "int64",
         "type": "integer"
        },
        {
         "name": "pixel743",
         "rawType": "int64",
         "type": "integer"
        },
        {
         "name": "pixel744",
         "rawType": "int64",
         "type": "integer"
        },
        {
         "name": "pixel745",
         "rawType": "int64",
         "type": "integer"
        },
        {
         "name": "pixel746",
         "rawType": "int64",
         "type": "integer"
        },
        {
         "name": "pixel747",
         "rawType": "int64",
         "type": "integer"
        },
        {
         "name": "pixel748",
         "rawType": "int64",
         "type": "integer"
        },
        {
         "name": "pixel749",
         "rawType": "int64",
         "type": "integer"
        },
        {
         "name": "pixel750",
         "rawType": "int64",
         "type": "integer"
        },
        {
         "name": "pixel751",
         "rawType": "int64",
         "type": "integer"
        },
        {
         "name": "pixel752",
         "rawType": "int64",
         "type": "integer"
        },
        {
         "name": "pixel753",
         "rawType": "int64",
         "type": "integer"
        },
        {
         "name": "pixel754",
         "rawType": "int64",
         "type": "integer"
        },
        {
         "name": "pixel755",
         "rawType": "int64",
         "type": "integer"
        },
        {
         "name": "pixel756",
         "rawType": "int64",
         "type": "integer"
        },
        {
         "name": "pixel757",
         "rawType": "int64",
         "type": "integer"
        },
        {
         "name": "pixel758",
         "rawType": "int64",
         "type": "integer"
        },
        {
         "name": "pixel759",
         "rawType": "int64",
         "type": "integer"
        },
        {
         "name": "pixel760",
         "rawType": "int64",
         "type": "integer"
        },
        {
         "name": "pixel761",
         "rawType": "int64",
         "type": "integer"
        },
        {
         "name": "pixel762",
         "rawType": "int64",
         "type": "integer"
        },
        {
         "name": "pixel763",
         "rawType": "int64",
         "type": "integer"
        },
        {
         "name": "pixel764",
         "rawType": "int64",
         "type": "integer"
        },
        {
         "name": "pixel765",
         "rawType": "int64",
         "type": "integer"
        },
        {
         "name": "pixel766",
         "rawType": "int64",
         "type": "integer"
        },
        {
         "name": "pixel767",
         "rawType": "int64",
         "type": "integer"
        },
        {
         "name": "pixel768",
         "rawType": "int64",
         "type": "integer"
        },
        {
         "name": "pixel769",
         "rawType": "int64",
         "type": "integer"
        },
        {
         "name": "pixel770",
         "rawType": "int64",
         "type": "integer"
        },
        {
         "name": "pixel771",
         "rawType": "int64",
         "type": "integer"
        },
        {
         "name": "pixel772",
         "rawType": "int64",
         "type": "integer"
        },
        {
         "name": "pixel773",
         "rawType": "int64",
         "type": "integer"
        },
        {
         "name": "pixel774",
         "rawType": "int64",
         "type": "integer"
        },
        {
         "name": "pixel775",
         "rawType": "int64",
         "type": "integer"
        },
        {
         "name": "pixel776",
         "rawType": "int64",
         "type": "integer"
        },
        {
         "name": "pixel777",
         "rawType": "int64",
         "type": "integer"
        },
        {
         "name": "pixel778",
         "rawType": "int64",
         "type": "integer"
        },
        {
         "name": "pixel779",
         "rawType": "int64",
         "type": "integer"
        },
        {
         "name": "pixel780",
         "rawType": "int64",
         "type": "integer"
        },
        {
         "name": "pixel781",
         "rawType": "int64",
         "type": "integer"
        },
        {
         "name": "pixel782",
         "rawType": "int64",
         "type": "integer"
        },
        {
         "name": "pixel783",
         "rawType": "int64",
         "type": "integer"
        }
       ],
       "conversionMethod": "pd.DataFrame",
       "ref": "6afaafdc-f70a-4e29-9b03-01267f917eed",
       "rows": [
        [
         "0",
         "1",
         "0",
         "0",
         "0",
         "0",
         "0",
         "0",
         "0",
         "0",
         "0",
         "0",
         "0",
         "0",
         "0",
         "0",
         "0",
         "0",
         "0",
         "0",
         "0",
         "0",
         "0",
         "0",
         "0",
         "0",
         "0",
         "0",
         "0",
         "0",
         "0",
         "0",
         "0",
         "0",
         "0",
         "0",
         "0",
         "0",
         "0",
         "0",
         "0",
         "0",
         "0",
         "0",
         "0",
         "0",
         "0",
         "0",
         "0",
         "0",
         "0",
         "0",
         "0",
         "0",
         "0",
         "0",
         "0",
         "0",
         "0",
         "0",
         "0",
         "0",
         "0",
         "0",
         "0",
         "0",
         "0",
         "0",
         "0",
         "0",
         "0",
         "0",
         "0",
         "0",
         "0",
         "0",
         "0",
         "0",
         "0",
         "0",
         "0",
         "0",
         "0",
         "0",
         "0",
         "0",
         "0",
         "0",
         "0",
         "0",
         "0",
         "0",
         "0",
         "0",
         "0",
         "0",
         "0",
         "0",
         "0",
         "0",
         "0",
         "0",
         "0",
         "0",
         "0",
         "0",
         "0",
         "0",
         "0",
         "0",
         "0",
         "0",
         "0",
         "0",
         "0",
         "0",
         "0",
         "0",
         "0",
         "0",
         "0",
         "0",
         "0",
         "0",
         "0",
         "0",
         "0",
         "0",
         "0",
         "0",
         "0",
         "0",
         "0",
         "0",
         "188",
         "255",
         "94",
         "0",
         "0",
         "0",
         "0",
         "0",
         "0",
         "0",
         "0",
         "0",
         "0",
         "0",
         "0",
         "0",
         "0",
         "0",
         "0",
         "0",
         "0",
         "0",
         "0",
         "0",
         "0",
         "0",
         "0",
         "191",
         "250",
         "253",
         "93",
         "0",
         "0",
         "0",
         "0",
         "0",
         "0",
         "0",
         "0",
         "0",
         "0",
         "0",
         "0",
         "0",
         "0",
         "0",
         "0",
         "0",
         "0",
         "0",
         "0",
         "0",
         "0",
         "0",
         "123",
         "248",
         "253",
         "167",
         "10",
         "0",
         "0",
         "0",
         "0",
         "0",
         "0",
         "0",
         "0",
         "0",
         "0",
         "0",
         "0",
         "0",
         "0",
         "0",
         "0",
         "0",
         "0",
         "0",
         "0",
         "0",
         "0",
         "80",
         "247",
         "253",
         "208",
         "13",
         "0",
         "0",
         "0",
         "0",
         "0",
         "0",
         "0",
         "0",
         "0",
         "0",
         "0",
         "0",
         "0",
         "0",
         "0",
         "0",
         "0",
         "0",
         "0",
         "0",
         "0",
         "0",
         "29",
         "207",
         "253",
         "235",
         "77",
         "0",
         "0",
         "0",
         "0",
         "0",
         "0",
         "0",
         "0",
         "0",
         "0",
         "0",
         "0",
         "0",
         "0",
         "0",
         "0",
         "0",
         "0",
         "0",
         "0",
         "0",
         "0",
         "54",
         "209",
         "253",
         "253",
         "88",
         "0",
         "0",
         "0",
         "0",
         "0",
         "0",
         "0",
         "0",
         "0",
         "0",
         "0",
         "0",
         "0",
         "0",
         "0",
         "0",
         "0",
         "0",
         "0",
         "0",
         "0",
         "0",
         "93",
         "254",
         "253",
         "238",
         "170",
         "17",
         "0",
         "0",
         "0",
         "0",
         "0",
         "0",
         "0",
         "0",
         "0",
         "0",
         "0",
         "0",
         "0",
         "0",
         "0",
         "0",
         "0",
         "0",
         "0",
         "0",
         "0",
         "23",
         "210",
         "254",
         "253",
         "159",
         "0",
         "0",
         "0",
         "0",
         "0",
         "0",
         "0",
         "0",
         "0",
         "0",
         "0",
         "0",
         "0",
         "0",
         "0",
         "0",
         "0",
         "0",
         "0",
         "0",
         "0",
         "0",
         "16",
         "209",
         "253",
         "254",
         "240",
         "81",
         "0",
         "0",
         "0",
         "0",
         "0",
         "0",
         "0",
         "0",
         "0",
         "0",
         "0",
         "0",
         "0",
         "0",
         "0",
         "0",
         "0",
         "0",
         "0",
         "0",
         "0",
         "0",
         "27",
         "253",
         "253",
         "254",
         "13",
         "0",
         "0",
         "0",
         "0",
         "0",
         "0",
         "0",
         "0",
         "0",
         "0",
         "0",
         "0",
         "0",
         "0",
         "0",
         "0",
         "0",
         "0",
         "0",
         "0",
         "0",
         "0",
         "20",
         "206",
         "254",
         "254",
         "198",
         "7",
         "0",
         "0",
         "0",
         "0",
         "0",
         "0",
         "0",
         "0",
         "0",
         "0",
         "0",
         "0",
         "0",
         "0",
         "0",
         "0",
         "0",
         "0",
         "0",
         "0",
         "0",
         "0",
         "168",
         "253",
         "253",
         "196",
         "7",
         "0",
         "0",
         "0",
         "0",
         "0",
         "0",
         "0",
         "0",
         "0",
         "0",
         "0",
         "0",
         "0",
         "0",
         "0",
         "0",
         "0",
         "0",
         "0",
         "0",
         "0",
         "0",
         "20",
         "203",
         "253",
         "248",
         "76",
         "0",
         "0",
         "0",
         "0",
         "0",
         "0",
         "0",
         "0",
         "0",
         "0",
         "0",
         "0",
         "0",
         "0",
         "0",
         "0",
         "0",
         "0",
         "0",
         "0",
         "0",
         "0",
         "22",
         "188",
         "253",
         "245",
         "93",
         "0",
         "0",
         "0",
         "0",
         "0",
         "0",
         "0",
         "0",
         "0",
         "0",
         "0",
         "0",
         "0",
         "0",
         "0",
         "0",
         "0",
         "0",
         "0",
         "0",
         "0",
         "0",
         "0",
         "103",
         "253",
         "253",
         "191",
         "0",
         "0",
         "0",
         "0",
         "0",
         "0",
         "0",
         "0",
         "0",
         "0",
         "0",
         "0",
         "0",
         "0",
         "0",
         "0",
         "0",
         "0",
         "0",
         "0",
         "0",
         "0",
         "0",
         "89",
         "240",
         "253",
         "195",
         "25",
         "0",
         "0",
         "0",
         "0",
         "0",
         "0",
         "0",
         "0",
         "0",
         "0",
         "0",
         "0",
         "0",
         "0",
         "0",
         "0",
         "0",
         "0",
         "0",
         "0",
         "0",
         "0",
         "15",
         "220",
         "253",
         "253",
         "80",
         "0",
         "0",
         "0",
         "0",
         "0",
         "0",
         "0",
         "0",
         "0",
         "0",
         "0",
         "0",
         "0",
         "0",
         "0",
         "0",
         "0",
         "0",
         "0",
         "0",
         "0",
         "0",
         "0",
         "94",
         "253",
         "253",
         "253",
         "94",
         "0",
         "0",
         "0",
         "0",
         "0",
         "0",
         "0",
         "0",
         "0",
         "0",
         "0",
         "0",
         "0",
         "0",
         "0",
         "0",
         "0",
         "0",
         "0",
         "0",
         "0",
         "0",
         "0",
         "89",
         "251",
         "253",
         "250",
         "131",
         "0",
         "0",
         "0",
         "0",
         "0",
         "0",
         "0",
         "0",
         "0",
         "0",
         "0",
         "0",
         "0",
         "0",
         "0",
         "0",
         "0",
         "0",
         "0",
         "0",
         "0",
         "0",
         "0",
         "0",
         "214",
         "218",
         "95",
         "0",
         "0",
         "0",
         "0",
         "0",
         "0",
         "0",
         "0",
         "0",
         "0",
         "0",
         "0",
         "0",
         "0",
         "0",
         "0",
         "0",
         "0",
         "0",
         "0",
         "0",
         "0",
         "0",
         "0",
         "0",
         "0",
         "0",
         "0",
         "0",
         "0",
         "0",
         "0",
         "0",
         "0",
         "0",
         "0",
         "0",
         "0",
         "0",
         "0",
         "0",
         "0",
         "0",
         "0",
         "0",
         "0",
         "0",
         "0",
         "0",
         "0",
         "0",
         "0",
         "0",
         "0",
         "0",
         "0",
         "0",
         "0",
         "0",
         "0",
         "0",
         "0",
         "0",
         "0",
         "0",
         "0",
         "0",
         "0",
         "0",
         "0",
         "0",
         "0",
         "0",
         "0",
         "0",
         "0",
         "0",
         "0",
         "0",
         "0",
         "0",
         "0",
         "0",
         "0",
         "0",
         "0",
         "0",
         "0",
         "0",
         "0",
         "0",
         "0",
         "0",
         "0",
         "0",
         "0",
         "0",
         "0",
         "0",
         "0",
         "0",
         "0",
         "0",
         "0",
         "0",
         "0",
         "0",
         "0",
         "0",
         "0",
         "0",
         "0",
         "0",
         "0",
         "0",
         "0",
         "0",
         "0",
         "0",
         "0",
         "0",
         "0",
         "0",
         "0",
         "0",
         "0",
         "0",
         "0",
         "0"
        ],
        [
         "1",
         "0",
         "0",
         "0",
         "0",
         "0",
         "0",
         "0",
         "0",
         "0",
         "0",
         "0",
         "0",
         "0",
         "0",
         "0",
         "0",
         "0",
         "0",
         "0",
         "0",
         "0",
         "0",
         "0",
         "0",
         "0",
         "0",
         "0",
         "0",
         "0",
         "0",
         "0",
         "0",
         "0",
         "0",
         "0",
         "0",
         "0",
         "0",
         "0",
         "0",
         "0",
         "0",
         "0",
         "0",
         "0",
         "0",
         "0",
         "0",
         "0",
         "0",
         "0",
         "0",
         "0",
         "0",
         "0",
         "0",
         "0",
         "0",
         "0",
         "0",
         "0",
         "0",
         "0",
         "0",
         "0",
         "0",
         "0",
         "0",
         "0",
         "0",
         "0",
         "0",
         "0",
         "0",
         "0",
         "0",
         "0",
         "0",
         "0",
         "0",
         "0",
         "0",
         "0",
         "0",
         "0",
         "0",
         "0",
         "0",
         "0",
         "0",
         "0",
         "0",
         "0",
         "0",
         "0",
         "0",
         "0",
         "0",
         "0",
         "0",
         "0",
         "0",
         "0",
         "0",
         "0",
         "0",
         "0",
         "0",
         "0",
         "0",
         "0",
         "0",
         "0",
         "0",
         "0",
         "0",
         "0",
         "0",
         "0",
         "0",
         "0",
         "0",
         "0",
         "18",
         "30",
         "137",
         "137",
         "192",
         "86",
         "72",
         "1",
         "0",
         "0",
         "0",
         "0",
         "0",
         "0",
         "0",
         "0",
         "0",
         "0",
         "0",
         "0",
         "0",
         "0",
         "0",
         "0",
         "0",
         "0",
         "13",
         "86",
         "250",
         "254",
         "254",
         "254",
         "254",
         "217",
         "246",
         "151",
         "32",
         "0",
         "0",
         "0",
         "0",
         "0",
         "0",
         "0",
         "0",
         "0",
         "0",
         "0",
         "0",
         "0",
         "0",
         "0",
         "0",
         "16",
         "179",
         "254",
         "254",
         "254",
         "254",
         "254",
         "254",
         "254",
         "254",
         "254",
         "231",
         "54",
         "15",
         "0",
         "0",
         "0",
         "0",
         "0",
         "0",
         "0",
         "0",
         "0",
         "0",
         "0",
         "0",
         "0",
         "0",
         "72",
         "254",
         "254",
         "254",
         "254",
         "254",
         "254",
         "254",
         "254",
         "254",
         "254",
         "254",
         "254",
         "104",
         "0",
         "0",
         "0",
         "0",
         "0",
         "0",
         "0",
         "0",
         "0",
         "0",
         "0",
         "0",
         "0",
         "61",
         "191",
         "254",
         "254",
         "254",
         "254",
         "254",
         "109",
         "83",
         "199",
         "254",
         "254",
         "254",
         "254",
         "243",
         "85",
         "0",
         "0",
         "0",
         "0",
         "0",
         "0",
         "0",
         "0",
         "0",
         "0",
         "0",
         "0",
         "172",
         "254",
         "254",
         "254",
         "202",
         "147",
         "147",
         "45",
         "0",
         "11",
         "29",
         "200",
         "254",
         "254",
         "254",
         "171",
         "0",
         "0",
         "0",
         "0",
         "0",
         "0",
         "0",
         "0",
         "0",
         "0",
         "0",
         "1",
         "174",
         "254",
         "254",
         "89",
         "67",
         "0",
         "0",
         "0",
         "0",
         "0",
         "0",
         "128",
         "252",
         "254",
         "254",
         "212",
         "76",
         "0",
         "0",
         "0",
         "0",
         "0",
         "0",
         "0",
         "0",
         "0",
         "0",
         "47",
         "254",
         "254",
         "254",
         "29",
         "0",
         "0",
         "0",
         "0",
         "0",
         "0",
         "0",
         "0",
         "83",
         "254",
         "254",
         "254",
         "153",
         "0",
         "0",
         "0",
         "0",
         "0",
         "0",
         "0",
         "0",
         "0",
         "0",
         "80",
         "254",
         "254",
         "240",
         "24",
         "0",
         "0",
         "0",
         "0",
         "0",
         "0",
         "0",
         "0",
         "25",
         "240",
         "254",
         "254",
         "153",
         "0",
         "0",
         "0",
         "0",
         "0",
         "0",
         "0",
         "0",
         "0",
         "0",
         "64",
         "254",
         "254",
         "186",
         "7",
         "0",
         "0",
         "0",
         "0",
         "0",
         "0",
         "0",
         "0",
         "0",
         "166",
         "254",
         "254",
         "224",
         "12",
         "0",
         "0",
         "0",
         "0",
         "0",
         "0",
         "0",
         "0",
         "14",
         "232",
         "254",
         "254",
         "254",
         "29",
         "0",
         "0",
         "0",
         "0",
         "0",
         "0",
         "0",
         "0",
         "0",
         "75",
         "254",
         "254",
         "254",
         "17",
         "0",
         "0",
         "0",
         "0",
         "0",
         "0",
         "0",
         "0",
         "18",
         "254",
         "254",
         "254",
         "254",
         "29",
         "0",
         "0",
         "0",
         "0",
         "0",
         "0",
         "0",
         "0",
         "0",
         "48",
         "254",
         "254",
         "254",
         "17",
         "0",
         "0",
         "0",
         "0",
         "0",
         "0",
         "0",
         "0",
         "2",
         "163",
         "254",
         "254",
         "254",
         "29",
         "0",
         "0",
         "0",
         "0",
         "0",
         "0",
         "0",
         "0",
         "0",
         "48",
         "254",
         "254",
         "254",
         "17",
         "0",
         "0",
         "0",
         "0",
         "0",
         "0",
         "0",
         "0",
         "0",
         "94",
         "254",
         "254",
         "254",
         "200",
         "12",
         "0",
         "0",
         "0",
         "0",
         "0",
         "0",
         "0",
         "16",
         "209",
         "254",
         "254",
         "150",
         "1",
         "0",
         "0",
         "0",
         "0",
         "0",
         "0",
         "0",
         "0",
         "0",
         "15",
         "206",
         "254",
         "254",
         "254",
         "202",
         "66",
         "0",
         "0",
         "0",
         "0",
         "0",
         "21",
         "161",
         "254",
         "254",
         "245",
         "31",
         "0",
         "0",
         "0",
         "0",
         "0",
         "0",
         "0",
         "0",
         "0",
         "0",
         "0",
         "60",
         "212",
         "254",
         "254",
         "254",
         "194",
         "48",
         "48",
         "34",
         "41",
         "48",
         "209",
         "254",
         "254",
         "254",
         "171",
         "0",
         "0",
         "0",
         "0",
         "0",
         "0",
         "0",
         "0",
         "0",
         "0",
         "0",
         "0",
         "0",
         "86",
         "243",
         "254",
         "254",
         "254",
         "254",
         "254",
         "233",
         "243",
         "254",
         "254",
         "254",
         "254",
         "254",
         "86",
         "0",
         "0",
         "0",
         "0",
         "0",
         "0",
         "0",
         "0",
         "0",
         "0",
         "0",
         "0",
         "0",
         "0",
         "114",
         "254",
         "254",
         "254",
         "254",
         "254",
         "254",
         "254",
         "254",
         "254",
         "254",
         "239",
         "86",
         "11",
         "0",
         "0",
         "0",
         "0",
         "0",
         "0",
         "0",
         "0",
         "0",
         "0",
         "0",
         "0",
         "0",
         "0",
         "13",
         "182",
         "254",
         "254",
         "254",
         "254",
         "254",
         "254",
         "254",
         "254",
         "243",
         "70",
         "0",
         "0",
         "0",
         "0",
         "0",
         "0",
         "0",
         "0",
         "0",
         "0",
         "0",
         "0",
         "0",
         "0",
         "0",
         "0",
         "0",
         "8",
         "76",
         "146",
         "254",
         "255",
         "254",
         "255",
         "146",
         "19",
         "15",
         "0",
         "0",
         "0",
         "0",
         "0",
         "0",
         "0",
         "0",
         "0",
         "0",
         "0",
         "0",
         "0",
         "0",
         "0",
         "0",
         "0",
         "0",
         "0",
         "0",
         "0",
         "0",
         "0",
         "0",
         "0",
         "0",
         "0",
         "0",
         "0",
         "0",
         "0",
         "0",
         "0",
         "0",
         "0",
         "0",
         "0",
         "0",
         "0",
         "0",
         "0",
         "0",
         "0",
         "0",
         "0",
         "0",
         "0",
         "0",
         "0",
         "0",
         "0",
         "0",
         "0",
         "0",
         "0",
         "0",
         "0",
         "0",
         "0",
         "0",
         "0",
         "0",
         "0",
         "0",
         "0",
         "0",
         "0",
         "0",
         "0",
         "0",
         "0",
         "0",
         "0",
         "0",
         "0",
         "0",
         "0",
         "0",
         "0",
         "0",
         "0",
         "0",
         "0",
         "0",
         "0",
         "0",
         "0",
         "0",
         "0",
         "0",
         "0",
         "0",
         "0",
         "0",
         "0",
         "0",
         "0",
         "0",
         "0",
         "0",
         "0",
         "0",
         "0",
         "0",
         "0",
         "0",
         "0",
         "0",
         "0",
         "0",
         "0",
         "0",
         "0",
         "0",
         "0",
         "0",
         "0",
         "0",
         "0",
         "0",
         "0"
        ],
        [
         "2",
         "1",
         "0",
         "0",
         "0",
         "0",
         "0",
         "0",
         "0",
         "0",
         "0",
         "0",
         "0",
         "0",
         "0",
         "0",
         "0",
         "0",
         "0",
         "0",
         "0",
         "0",
         "0",
         "0",
         "0",
         "0",
         "0",
         "0",
         "0",
         "0",
         "0",
         "0",
         "0",
         "0",
         "0",
         "0",
         "0",
         "0",
         "0",
         "0",
         "0",
         "0",
         "0",
         "0",
         "0",
         "0",
         "0",
         "0",
         "0",
         "0",
         "0",
         "0",
         "0",
         "0",
         "0",
         "0",
         "0",
         "0",
         "0",
         "0",
         "0",
         "0",
         "0",
         "0",
         "0",
         "0",
         "0",
         "0",
         "0",
         "0",
         "0",
         "0",
         "0",
         "0",
         "0",
         "0",
         "0",
         "0",
         "0",
         "0",
         "0",
         "0",
         "0",
         "0",
         "0",
         "0",
         "0",
         "0",
         "0",
         "0",
         "0",
         "0",
         "0",
         "0",
         "0",
         "0",
         "0",
         "0",
         "0",
         "0",
         "0",
         "0",
         "0",
         "0",
         "0",
         "0",
         "0",
         "0",
         "0",
         "0",
         "0",
         "0",
         "0",
         "0",
         "0",
         "0",
         "0",
         "0",
         "0",
         "0",
         "0",
         "0",
         "0",
         "0",
         "0",
         "0",
         "3",
         "141",
         "139",
         "3",
         "0",
         "0",
         "0",
         "0",
         "0",
         "0",
         "0",
         "0",
         "0",
         "0",
         "0",
         "0",
         "0",
         "0",
         "0",
         "0",
         "0",
         "0",
         "0",
         "0",
         "0",
         "0",
         "0",
         "0",
         "9",
         "254",
         "254",
         "8",
         "0",
         "0",
         "0",
         "0",
         "0",
         "0",
         "0",
         "0",
         "0",
         "0",
         "0",
         "0",
         "0",
         "0",
         "0",
         "0",
         "0",
         "0",
         "0",
         "0",
         "0",
         "0",
         "0",
         "0",
         "9",
         "254",
         "254",
         "8",
         "0",
         "0",
         "0",
         "0",
         "0",
         "0",
         "0",
         "0",
         "0",
         "0",
         "0",
         "0",
         "0",
         "0",
         "0",
         "0",
         "0",
         "0",
         "0",
         "0",
         "0",
         "0",
         "0",
         "0",
         "9",
         "254",
         "254",
         "106",
         "0",
         "0",
         "0",
         "0",
         "0",
         "0",
         "0",
         "0",
         "0",
         "0",
         "0",
         "0",
         "0",
         "0",
         "0",
         "0",
         "0",
         "0",
         "0",
         "0",
         "0",
         "0",
         "0",
         "0",
         "9",
         "254",
         "254",
         "184",
         "0",
         "0",
         "0",
         "0",
         "0",
         "0",
         "0",
         "0",
         "0",
         "0",
         "0",
         "0",
         "0",
         "0",
         "0",
         "0",
         "0",
         "0",
         "0",
         "0",
         "0",
         "0",
         "0",
         "0",
         "9",
         "254",
         "254",
         "184",
         "0",
         "0",
         "0",
         "0",
         "0",
         "0",
         "0",
         "0",
         "0",
         "0",
         "0",
         "0",
         "0",
         "0",
         "0",
         "0",
         "0",
         "0",
         "0",
         "0",
         "0",
         "0",
         "0",
         "0",
         "9",
         "254",
         "254",
         "184",
         "0",
         "0",
         "0",
         "0",
         "0",
         "0",
         "0",
         "0",
         "0",
         "0",
         "0",
         "0",
         "0",
         "0",
         "0",
         "0",
         "0",
         "0",
         "0",
         "0",
         "0",
         "0",
         "0",
         "0",
         "6",
         "185",
         "254",
         "184",
         "0",
         "0",
         "0",
         "0",
         "0",
         "0",
         "0",
         "0",
         "0",
         "0",
         "0",
         "0",
         "0",
         "0",
         "0",
         "0",
         "0",
         "0",
         "0",
         "0",
         "0",
         "0",
         "0",
         "0",
         "0",
         "89",
         "254",
         "184",
         "0",
         "0",
         "0",
         "0",
         "0",
         "0",
         "0",
         "0",
         "0",
         "0",
         "0",
         "0",
         "0",
         "0",
         "0",
         "0",
         "0",
         "0",
         "0",
         "0",
         "0",
         "0",
         "0",
         "0",
         "4",
         "146",
         "254",
         "184",
         "0",
         "0",
         "0",
         "0",
         "0",
         "0",
         "0",
         "0",
         "0",
         "0",
         "0",
         "0",
         "0",
         "0",
         "0",
         "0",
         "0",
         "0",
         "0",
         "0",
         "0",
         "0",
         "0",
         "0",
         "9",
         "254",
         "254",
         "184",
         "0",
         "0",
         "0",
         "0",
         "0",
         "0",
         "0",
         "0",
         "0",
         "0",
         "0",
         "0",
         "0",
         "0",
         "0",
         "0",
         "0",
         "0",
         "0",
         "0",
         "0",
         "0",
         "0",
         "0",
         "9",
         "254",
         "254",
         "184",
         "0",
         "0",
         "0",
         "0",
         "0",
         "0",
         "0",
         "0",
         "0",
         "0",
         "0",
         "0",
         "0",
         "0",
         "0",
         "0",
         "0",
         "0",
         "0",
         "0",
         "0",
         "0",
         "0",
         "0",
         "9",
         "254",
         "254",
         "184",
         "0",
         "0",
         "0",
         "0",
         "0",
         "0",
         "0",
         "0",
         "0",
         "0",
         "0",
         "0",
         "0",
         "0",
         "0",
         "0",
         "0",
         "0",
         "0",
         "0",
         "0",
         "0",
         "0",
         "0",
         "9",
         "254",
         "254",
         "184",
         "0",
         "0",
         "0",
         "0",
         "0",
         "0",
         "0",
         "0",
         "0",
         "0",
         "0",
         "0",
         "0",
         "0",
         "0",
         "0",
         "0",
         "0",
         "0",
         "0",
         "0",
         "0",
         "0",
         "0",
         "9",
         "254",
         "254",
         "184",
         "0",
         "0",
         "0",
         "0",
         "0",
         "0",
         "0",
         "0",
         "0",
         "0",
         "0",
         "0",
         "0",
         "0",
         "0",
         "0",
         "0",
         "0",
         "0",
         "0",
         "0",
         "0",
         "0",
         "0",
         "156",
         "254",
         "254",
         "184",
         "0",
         "0",
         "0",
         "0",
         "0",
         "0",
         "0",
         "0",
         "0",
         "0",
         "0",
         "0",
         "0",
         "0",
         "0",
         "0",
         "0",
         "0",
         "0",
         "0",
         "0",
         "0",
         "0",
         "0",
         "185",
         "255",
         "255",
         "184",
         "0",
         "0",
         "0",
         "0",
         "0",
         "0",
         "0",
         "0",
         "0",
         "0",
         "0",
         "0",
         "0",
         "0",
         "0",
         "0",
         "0",
         "0",
         "0",
         "0",
         "0",
         "0",
         "0",
         "0",
         "185",
         "254",
         "254",
         "184",
         "0",
         "0",
         "0",
         "0",
         "0",
         "0",
         "0",
         "0",
         "0",
         "0",
         "0",
         "0",
         "0",
         "0",
         "0",
         "0",
         "0",
         "0",
         "0",
         "0",
         "0",
         "0",
         "0",
         "0",
         "185",
         "254",
         "254",
         "184",
         "0",
         "0",
         "0",
         "0",
         "0",
         "0",
         "0",
         "0",
         "0",
         "0",
         "0",
         "0",
         "0",
         "0",
         "0",
         "0",
         "0",
         "0",
         "0",
         "0",
         "0",
         "0",
         "0",
         "0",
         "63",
         "254",
         "254",
         "62",
         "0",
         "0",
         "0",
         "0",
         "0",
         "0",
         "0",
         "0",
         "0",
         "0",
         "0",
         "0",
         "0",
         "0",
         "0",
         "0",
         "0",
         "0",
         "0",
         "0",
         "0",
         "0",
         "0",
         "0",
         "0",
         "0",
         "0",
         "0",
         "0",
         "0",
         "0",
         "0",
         "0",
         "0",
         "0",
         "0",
         "0",
         "0",
         "0",
         "0",
         "0",
         "0",
         "0",
         "0",
         "0",
         "0",
         "0",
         "0",
         "0",
         "0",
         "0",
         "0",
         "0",
         "0",
         "0",
         "0",
         "0",
         "0",
         "0",
         "0",
         "0",
         "0",
         "0",
         "0",
         "0",
         "0",
         "0",
         "0",
         "0",
         "0",
         "0",
         "0",
         "0",
         "0",
         "0",
         "0",
         "0",
         "0",
         "0",
         "0",
         "0",
         "0",
         "0",
         "0",
         "0",
         "0",
         "0",
         "0",
         "0",
         "0",
         "0",
         "0",
         "0",
         "0",
         "0",
         "0",
         "0",
         "0",
         "0",
         "0",
         "0",
         "0",
         "0",
         "0",
         "0",
         "0",
         "0",
         "0",
         "0",
         "0",
         "0",
         "0",
         "0",
         "0",
         "0",
         "0",
         "0",
         "0",
         "0",
         "0",
         "0",
         "0",
         "0",
         "0"
        ],
        [
         "3",
         "4",
         "0",
         "0",
         "0",
         "0",
         "0",
         "0",
         "0",
         "0",
         "0",
         "0",
         "0",
         "0",
         "0",
         "0",
         "0",
         "0",
         "0",
         "0",
         "0",
         "0",
         "0",
         "0",
         "0",
         "0",
         "0",
         "0",
         "0",
         "0",
         "0",
         "0",
         "0",
         "0",
         "0",
         "0",
         "0",
         "0",
         "0",
         "0",
         "0",
         "0",
         "0",
         "0",
         "0",
         "0",
         "0",
         "0",
         "0",
         "0",
         "0",
         "0",
         "0",
         "0",
         "0",
         "0",
         "0",
         "0",
         "0",
         "0",
         "0",
         "0",
         "0",
         "0",
         "0",
         "0",
         "0",
         "0",
         "0",
         "0",
         "0",
         "0",
         "0",
         "0",
         "0",
         "0",
         "0",
         "0",
         "0",
         "0",
         "0",
         "0",
         "0",
         "0",
         "0",
         "0",
         "0",
         "0",
         "0",
         "0",
         "0",
         "0",
         "0",
         "0",
         "0",
         "0",
         "0",
         "0",
         "0",
         "0",
         "0",
         "0",
         "0",
         "0",
         "0",
         "0",
         "0",
         "0",
         "0",
         "0",
         "0",
         "0",
         "0",
         "0",
         "0",
         "0",
         "0",
         "0",
         "0",
         "0",
         "0",
         "0",
         "0",
         "0",
         "0",
         "0",
         "0",
         "0",
         "0",
         "0",
         "0",
         "0",
         "0",
         "0",
         "0",
         "0",
         "0",
         "0",
         "0",
         "0",
         "0",
         "0",
         "0",
         "0",
         "0",
         "0",
         "0",
         "0",
         "220",
         "179",
         "6",
         "0",
         "0",
         "0",
         "0",
         "0",
         "0",
         "0",
         "0",
         "9",
         "77",
         "0",
         "0",
         "0",
         "0",
         "0",
         "0",
         "0",
         "0",
         "0",
         "0",
         "0",
         "0",
         "0",
         "0",
         "0",
         "28",
         "247",
         "17",
         "0",
         "0",
         "0",
         "0",
         "0",
         "0",
         "0",
         "0",
         "27",
         "202",
         "0",
         "0",
         "0",
         "0",
         "0",
         "0",
         "0",
         "0",
         "0",
         "0",
         "0",
         "0",
         "0",
         "0",
         "0",
         "0",
         "242",
         "155",
         "0",
         "0",
         "0",
         "0",
         "0",
         "0",
         "0",
         "0",
         "27",
         "254",
         "63",
         "0",
         "0",
         "0",
         "0",
         "0",
         "0",
         "0",
         "0",
         "0",
         "0",
         "0",
         "0",
         "0",
         "0",
         "0",
         "160",
         "207",
         "6",
         "0",
         "0",
         "0",
         "0",
         "0",
         "0",
         "0",
         "27",
         "254",
         "65",
         "0",
         "0",
         "0",
         "0",
         "0",
         "0",
         "0",
         "0",
         "0",
         "0",
         "0",
         "0",
         "0",
         "0",
         "0",
         "127",
         "254",
         "21",
         "0",
         "0",
         "0",
         "0",
         "0",
         "0",
         "0",
         "20",
         "239",
         "65",
         "0",
         "0",
         "0",
         "0",
         "0",
         "0",
         "0",
         "0",
         "0",
         "0",
         "0",
         "0",
         "0",
         "0",
         "0",
         "77",
         "254",
         "21",
         "0",
         "0",
         "0",
         "0",
         "0",
         "0",
         "0",
         "0",
         "195",
         "65",
         "0",
         "0",
         "0",
         "0",
         "0",
         "0",
         "0",
         "0",
         "0",
         "0",
         "0",
         "0",
         "0",
         "0",
         "0",
         "70",
         "254",
         "21",
         "0",
         "0",
         "0",
         "0",
         "0",
         "0",
         "0",
         "0",
         "195",
         "142",
         "0",
         "0",
         "0",
         "0",
         "0",
         "0",
         "0",
         "0",
         "0",
         "0",
         "0",
         "0",
         "0",
         "0",
         "0",
         "56",
         "251",
         "21",
         "0",
         "0",
         "0",
         "0",
         "0",
         "0",
         "0",
         "0",
         "195",
         "227",
         "0",
         "0",
         "0",
         "0",
         "0",
         "0",
         "0",
         "0",
         "0",
         "0",
         "0",
         "0",
         "0",
         "0",
         "0",
         "0",
         "222",
         "153",
         "5",
         "0",
         "0",
         "0",
         "0",
         "0",
         "0",
         "0",
         "120",
         "240",
         "13",
         "0",
         "0",
         "0",
         "0",
         "0",
         "0",
         "0",
         "0",
         "0",
         "0",
         "0",
         "0",
         "0",
         "0",
         "0",
         "67",
         "251",
         "40",
         "0",
         "0",
         "0",
         "0",
         "0",
         "0",
         "0",
         "94",
         "255",
         "69",
         "0",
         "0",
         "0",
         "0",
         "0",
         "0",
         "0",
         "0",
         "0",
         "0",
         "0",
         "0",
         "0",
         "0",
         "0",
         "0",
         "234",
         "184",
         "0",
         "0",
         "0",
         "0",
         "0",
         "0",
         "0",
         "19",
         "245",
         "69",
         "0",
         "0",
         "0",
         "0",
         "0",
         "0",
         "0",
         "0",
         "0",
         "0",
         "0",
         "0",
         "0",
         "0",
         "0",
         "0",
         "234",
         "169",
         "0",
         "0",
         "0",
         "0",
         "0",
         "0",
         "0",
         "3",
         "199",
         "182",
         "10",
         "0",
         "0",
         "0",
         "0",
         "0",
         "0",
         "0",
         "0",
         "0",
         "0",
         "0",
         "0",
         "0",
         "0",
         "0",
         "154",
         "205",
         "4",
         "0",
         "0",
         "26",
         "72",
         "128",
         "203",
         "208",
         "254",
         "254",
         "131",
         "0",
         "0",
         "0",
         "0",
         "0",
         "0",
         "0",
         "0",
         "0",
         "0",
         "0",
         "0",
         "0",
         "0",
         "0",
         "61",
         "254",
         "129",
         "113",
         "186",
         "245",
         "251",
         "189",
         "75",
         "56",
         "136",
         "254",
         "73",
         "0",
         "0",
         "0",
         "0",
         "0",
         "0",
         "0",
         "0",
         "0",
         "0",
         "0",
         "0",
         "0",
         "0",
         "0",
         "15",
         "216",
         "233",
         "233",
         "159",
         "104",
         "52",
         "0",
         "0",
         "0",
         "38",
         "254",
         "73",
         "0",
         "0",
         "0",
         "0",
         "0",
         "0",
         "0",
         "0",
         "0",
         "0",
         "0",
         "0",
         "0",
         "0",
         "0",
         "0",
         "0",
         "0",
         "0",
         "0",
         "0",
         "0",
         "0",
         "0",
         "0",
         "18",
         "254",
         "73",
         "0",
         "0",
         "0",
         "0",
         "0",
         "0",
         "0",
         "0",
         "0",
         "0",
         "0",
         "0",
         "0",
         "0",
         "0",
         "0",
         "0",
         "0",
         "0",
         "0",
         "0",
         "0",
         "0",
         "0",
         "0",
         "18",
         "254",
         "73",
         "0",
         "0",
         "0",
         "0",
         "0",
         "0",
         "0",
         "0",
         "0",
         "0",
         "0",
         "0",
         "0",
         "0",
         "0",
         "0",
         "0",
         "0",
         "0",
         "0",
         "0",
         "0",
         "0",
         "0",
         "0",
         "5",
         "206",
         "106",
         "0",
         "0",
         "0",
         "0",
         "0",
         "0",
         "0",
         "0",
         "0",
         "0",
         "0",
         "0",
         "0",
         "0",
         "0",
         "0",
         "0",
         "0",
         "0",
         "0",
         "0",
         "0",
         "0",
         "0",
         "0",
         "0",
         "186",
         "159",
         "0",
         "0",
         "0",
         "0",
         "0",
         "0",
         "0",
         "0",
         "0",
         "0",
         "0",
         "0",
         "0",
         "0",
         "0",
         "0",
         "0",
         "0",
         "0",
         "0",
         "0",
         "0",
         "0",
         "0",
         "0",
         "6",
         "209",
         "101",
         "0",
         "0",
         "0",
         "0",
         "0",
         "0",
         "0",
         "0",
         "0",
         "0",
         "0",
         "0",
         "0",
         "0",
         "0",
         "0",
         "0",
         "0",
         "0",
         "0",
         "0",
         "0",
         "0",
         "0",
         "0",
         "0",
         "0",
         "0",
         "0",
         "0",
         "0",
         "0",
         "0",
         "0",
         "0",
         "0",
         "0",
         "0",
         "0",
         "0",
         "0",
         "0",
         "0",
         "0",
         "0",
         "0",
         "0",
         "0",
         "0",
         "0",
         "0",
         "0",
         "0",
         "0",
         "0",
         "0",
         "0",
         "0",
         "0",
         "0",
         "0",
         "0",
         "0",
         "0",
         "0",
         "0",
         "0",
         "0",
         "0",
         "0",
         "0",
         "0",
         "0",
         "0",
         "0",
         "0",
         "0",
         "0",
         "0",
         "0",
         "0",
         "0",
         "0",
         "0",
         "0",
         "0",
         "0",
         "0",
         "0",
         "0"
        ],
        [
         "4",
         "0",
         "0",
         "0",
         "0",
         "0",
         "0",
         "0",
         "0",
         "0",
         "0",
         "0",
         "0",
         "0",
         "0",
         "0",
         "0",
         "0",
         "0",
         "0",
         "0",
         "0",
         "0",
         "0",
         "0",
         "0",
         "0",
         "0",
         "0",
         "0",
         "0",
         "0",
         "0",
         "0",
         "0",
         "0",
         "0",
         "0",
         "0",
         "0",
         "0",
         "0",
         "0",
         "0",
         "0",
         "0",
         "0",
         "0",
         "0",
         "0",
         "0",
         "0",
         "0",
         "0",
         "0",
         "0",
         "0",
         "0",
         "0",
         "0",
         "0",
         "0",
         "0",
         "0",
         "0",
         "0",
         "0",
         "0",
         "0",
         "0",
         "0",
         "0",
         "0",
         "0",
         "0",
         "0",
         "0",
         "0",
         "0",
         "0",
         "0",
         "0",
         "0",
         "0",
         "0",
         "0",
         "0",
         "0",
         "0",
         "0",
         "0",
         "0",
         "0",
         "0",
         "0",
         "0",
         "0",
         "0",
         "0",
         "0",
         "0",
         "0",
         "0",
         "0",
         "0",
         "0",
         "0",
         "0",
         "0",
         "0",
         "0",
         "0",
         "0",
         "0",
         "0",
         "0",
         "0",
         "0",
         "0",
         "0",
         "0",
         "0",
         "0",
         "1",
         "25",
         "130",
         "155",
         "254",
         "254",
         "254",
         "157",
         "30",
         "2",
         "0",
         "0",
         "0",
         "0",
         "0",
         "0",
         "0",
         "0",
         "0",
         "0",
         "0",
         "0",
         "0",
         "0",
         "0",
         "0",
         "0",
         "8",
         "103",
         "253",
         "253",
         "253",
         "253",
         "253",
         "253",
         "253",
         "253",
         "114",
         "2",
         "0",
         "0",
         "0",
         "0",
         "0",
         "0",
         "0",
         "0",
         "0",
         "0",
         "0",
         "0",
         "0",
         "0",
         "0",
         "11",
         "208",
         "253",
         "253",
         "253",
         "253",
         "253",
         "253",
         "253",
         "253",
         "253",
         "253",
         "107",
         "0",
         "0",
         "0",
         "0",
         "0",
         "0",
         "0",
         "0",
         "0",
         "0",
         "0",
         "0",
         "0",
         "0",
         "0",
         "31",
         "253",
         "253",
         "253",
         "253",
         "253",
         "253",
         "253",
         "253",
         "253",
         "253",
         "253",
         "215",
         "101",
         "3",
         "0",
         "0",
         "0",
         "0",
         "0",
         "0",
         "0",
         "0",
         "0",
         "0",
         "0",
         "0",
         "23",
         "210",
         "253",
         "253",
         "253",
         "248",
         "161",
         "222",
         "222",
         "246",
         "253",
         "253",
         "253",
         "253",
         "253",
         "39",
         "0",
         "0",
         "0",
         "0",
         "0",
         "0",
         "0",
         "0",
         "0",
         "0",
         "0",
         "0",
         "136",
         "253",
         "253",
         "253",
         "229",
         "77",
         "0",
         "0",
         "0",
         "70",
         "218",
         "253",
         "253",
         "253",
         "253",
         "215",
         "91",
         "0",
         "0",
         "0",
         "0",
         "0",
         "0",
         "0",
         "0",
         "0",
         "0",
         "5",
         "214",
         "253",
         "253",
         "253",
         "195",
         "0",
         "0",
         "0",
         "0",
         "0",
         "104",
         "224",
         "253",
         "253",
         "253",
         "253",
         "215",
         "29",
         "0",
         "0",
         "0",
         "0",
         "0",
         "0",
         "0",
         "0",
         "0",
         "116",
         "253",
         "253",
         "253",
         "247",
         "75",
         "0",
         "0",
         "0",
         "0",
         "0",
         "0",
         "26",
         "200",
         "253",
         "253",
         "253",
         "253",
         "216",
         "4",
         "0",
         "0",
         "0",
         "0",
         "0",
         "0",
         "0",
         "0",
         "254",
         "253",
         "253",
         "253",
         "195",
         "0",
         "0",
         "0",
         "0",
         "0",
         "0",
         "0",
         "0",
         "26",
         "200",
         "253",
         "253",
         "253",
         "253",
         "5",
         "0",
         "0",
         "0",
         "0",
         "0",
         "0",
         "0",
         "0",
         "254",
         "253",
         "253",
         "253",
         "99",
         "0",
         "0",
         "0",
         "0",
         "0",
         "0",
         "0",
         "0",
         "0",
         "25",
         "231",
         "253",
         "253",
         "253",
         "36",
         "0",
         "0",
         "0",
         "0",
         "0",
         "0",
         "0",
         "0",
         "254",
         "253",
         "253",
         "253",
         "99",
         "0",
         "0",
         "0",
         "0",
         "0",
         "0",
         "0",
         "0",
         "0",
         "0",
         "223",
         "253",
         "253",
         "253",
         "129",
         "0",
         "0",
         "0",
         "0",
         "0",
         "0",
         "0",
         "0",
         "254",
         "253",
         "253",
         "253",
         "99",
         "0",
         "0",
         "0",
         "0",
         "0",
         "0",
         "0",
         "0",
         "0",
         "0",
         "127",
         "253",
         "253",
         "253",
         "129",
         "0",
         "0",
         "0",
         "0",
         "0",
         "0",
         "0",
         "0",
         "254",
         "253",
         "253",
         "253",
         "99",
         "0",
         "0",
         "0",
         "0",
         "0",
         "0",
         "0",
         "0",
         "0",
         "0",
         "139",
         "253",
         "253",
         "253",
         "90",
         "0",
         "0",
         "0",
         "0",
         "0",
         "0",
         "0",
         "0",
         "254",
         "253",
         "253",
         "253",
         "99",
         "0",
         "0",
         "0",
         "0",
         "0",
         "0",
         "0",
         "0",
         "0",
         "78",
         "248",
         "253",
         "253",
         "253",
         "5",
         "0",
         "0",
         "0",
         "0",
         "0",
         "0",
         "0",
         "0",
         "254",
         "253",
         "253",
         "253",
         "216",
         "34",
         "0",
         "0",
         "0",
         "0",
         "0",
         "0",
         "0",
         "33",
         "152",
         "253",
         "253",
         "253",
         "107",
         "1",
         "0",
         "0",
         "0",
         "0",
         "0",
         "0",
         "0",
         "0",
         "206",
         "253",
         "253",
         "253",
         "253",
         "140",
         "0",
         "0",
         "0",
         "0",
         "0",
         "30",
         "139",
         "234",
         "253",
         "253",
         "253",
         "154",
         "2",
         "0",
         "0",
         "0",
         "0",
         "0",
         "0",
         "0",
         "0",
         "0",
         "16",
         "205",
         "253",
         "253",
         "253",
         "250",
         "208",
         "106",
         "106",
         "106",
         "200",
         "237",
         "253",
         "253",
         "253",
         "253",
         "209",
         "22",
         "0",
         "0",
         "0",
         "0",
         "0",
         "0",
         "0",
         "0",
         "0",
         "0",
         "0",
         "82",
         "253",
         "253",
         "253",
         "253",
         "253",
         "253",
         "253",
         "253",
         "253",
         "253",
         "253",
         "253",
         "253",
         "209",
         "22",
         "0",
         "0",
         "0",
         "0",
         "0",
         "0",
         "0",
         "0",
         "0",
         "0",
         "0",
         "0",
         "1",
         "91",
         "253",
         "253",
         "253",
         "253",
         "253",
         "253",
         "253",
         "253",
         "253",
         "253",
         "213",
         "90",
         "7",
         "0",
         "0",
         "0",
         "0",
         "0",
         "0",
         "0",
         "0",
         "0",
         "0",
         "0",
         "0",
         "0",
         "0",
         "1",
         "18",
         "129",
         "208",
         "253",
         "253",
         "253",
         "253",
         "159",
         "129",
         "90",
         "4",
         "0",
         "0",
         "0",
         "0",
         "0",
         "0",
         "0",
         "0",
         "0",
         "0",
         "0",
         "0",
         "0",
         "0",
         "0",
         "0",
         "0",
         "0",
         "0",
         "0",
         "0",
         "0",
         "0",
         "0",
         "0",
         "0",
         "0",
         "0",
         "0",
         "0",
         "0",
         "0",
         "0",
         "0",
         "0",
         "0",
         "0",
         "0",
         "0",
         "0",
         "0",
         "0",
         "0",
         "0",
         "0",
         "0",
         "0",
         "0",
         "0",
         "0",
         "0",
         "0",
         "0",
         "0",
         "0",
         "0",
         "0",
         "0",
         "0",
         "0",
         "0",
         "0",
         "0",
         "0",
         "0",
         "0",
         "0",
         "0",
         "0",
         "0",
         "0",
         "0",
         "0",
         "0",
         "0",
         "0",
         "0",
         "0",
         "0",
         "0",
         "0",
         "0",
         "0",
         "0",
         "0",
         "0",
         "0",
         "0",
         "0",
         "0",
         "0",
         "0",
         "0",
         "0",
         "0",
         "0",
         "0",
         "0",
         "0",
         "0",
         "0",
         "0",
         "0",
         "0",
         "0",
         "0",
         "0",
         "0",
         "0",
         "0",
         "0",
         "0",
         "0",
         "0",
         "0",
         "0",
         "0",
         "0",
         "0",
         "0",
         "0"
        ]
       ],
       "shape": {
        "columns": 785,
        "rows": 5
       }
      },
      "text/html": [
       "<div>\n",
       "<style scoped>\n",
       "    .dataframe tbody tr th:only-of-type {\n",
       "        vertical-align: middle;\n",
       "    }\n",
       "\n",
       "    .dataframe tbody tr th {\n",
       "        vertical-align: top;\n",
       "    }\n",
       "\n",
       "    .dataframe thead th {\n",
       "        text-align: right;\n",
       "    }\n",
       "</style>\n",
       "<table border=\"1\" class=\"dataframe\">\n",
       "  <thead>\n",
       "    <tr style=\"text-align: right;\">\n",
       "      <th></th>\n",
       "      <th>label</th>\n",
       "      <th>pixel0</th>\n",
       "      <th>pixel1</th>\n",
       "      <th>pixel2</th>\n",
       "      <th>pixel3</th>\n",
       "      <th>pixel4</th>\n",
       "      <th>pixel5</th>\n",
       "      <th>pixel6</th>\n",
       "      <th>pixel7</th>\n",
       "      <th>pixel8</th>\n",
       "      <th>...</th>\n",
       "      <th>pixel774</th>\n",
       "      <th>pixel775</th>\n",
       "      <th>pixel776</th>\n",
       "      <th>pixel777</th>\n",
       "      <th>pixel778</th>\n",
       "      <th>pixel779</th>\n",
       "      <th>pixel780</th>\n",
       "      <th>pixel781</th>\n",
       "      <th>pixel782</th>\n",
       "      <th>pixel783</th>\n",
       "    </tr>\n",
       "  </thead>\n",
       "  <tbody>\n",
       "    <tr>\n",
       "      <th>0</th>\n",
       "      <td>1</td>\n",
       "      <td>0</td>\n",
       "      <td>0</td>\n",
       "      <td>0</td>\n",
       "      <td>0</td>\n",
       "      <td>0</td>\n",
       "      <td>0</td>\n",
       "      <td>0</td>\n",
       "      <td>0</td>\n",
       "      <td>0</td>\n",
       "      <td>...</td>\n",
       "      <td>0</td>\n",
       "      <td>0</td>\n",
       "      <td>0</td>\n",
       "      <td>0</td>\n",
       "      <td>0</td>\n",
       "      <td>0</td>\n",
       "      <td>0</td>\n",
       "      <td>0</td>\n",
       "      <td>0</td>\n",
       "      <td>0</td>\n",
       "    </tr>\n",
       "    <tr>\n",
       "      <th>1</th>\n",
       "      <td>0</td>\n",
       "      <td>0</td>\n",
       "      <td>0</td>\n",
       "      <td>0</td>\n",
       "      <td>0</td>\n",
       "      <td>0</td>\n",
       "      <td>0</td>\n",
       "      <td>0</td>\n",
       "      <td>0</td>\n",
       "      <td>0</td>\n",
       "      <td>...</td>\n",
       "      <td>0</td>\n",
       "      <td>0</td>\n",
       "      <td>0</td>\n",
       "      <td>0</td>\n",
       "      <td>0</td>\n",
       "      <td>0</td>\n",
       "      <td>0</td>\n",
       "      <td>0</td>\n",
       "      <td>0</td>\n",
       "      <td>0</td>\n",
       "    </tr>\n",
       "    <tr>\n",
       "      <th>2</th>\n",
       "      <td>1</td>\n",
       "      <td>0</td>\n",
       "      <td>0</td>\n",
       "      <td>0</td>\n",
       "      <td>0</td>\n",
       "      <td>0</td>\n",
       "      <td>0</td>\n",
       "      <td>0</td>\n",
       "      <td>0</td>\n",
       "      <td>0</td>\n",
       "      <td>...</td>\n",
       "      <td>0</td>\n",
       "      <td>0</td>\n",
       "      <td>0</td>\n",
       "      <td>0</td>\n",
       "      <td>0</td>\n",
       "      <td>0</td>\n",
       "      <td>0</td>\n",
       "      <td>0</td>\n",
       "      <td>0</td>\n",
       "      <td>0</td>\n",
       "    </tr>\n",
       "    <tr>\n",
       "      <th>3</th>\n",
       "      <td>4</td>\n",
       "      <td>0</td>\n",
       "      <td>0</td>\n",
       "      <td>0</td>\n",
       "      <td>0</td>\n",
       "      <td>0</td>\n",
       "      <td>0</td>\n",
       "      <td>0</td>\n",
       "      <td>0</td>\n",
       "      <td>0</td>\n",
       "      <td>...</td>\n",
       "      <td>0</td>\n",
       "      <td>0</td>\n",
       "      <td>0</td>\n",
       "      <td>0</td>\n",
       "      <td>0</td>\n",
       "      <td>0</td>\n",
       "      <td>0</td>\n",
       "      <td>0</td>\n",
       "      <td>0</td>\n",
       "      <td>0</td>\n",
       "    </tr>\n",
       "    <tr>\n",
       "      <th>4</th>\n",
       "      <td>0</td>\n",
       "      <td>0</td>\n",
       "      <td>0</td>\n",
       "      <td>0</td>\n",
       "      <td>0</td>\n",
       "      <td>0</td>\n",
       "      <td>0</td>\n",
       "      <td>0</td>\n",
       "      <td>0</td>\n",
       "      <td>0</td>\n",
       "      <td>...</td>\n",
       "      <td>0</td>\n",
       "      <td>0</td>\n",
       "      <td>0</td>\n",
       "      <td>0</td>\n",
       "      <td>0</td>\n",
       "      <td>0</td>\n",
       "      <td>0</td>\n",
       "      <td>0</td>\n",
       "      <td>0</td>\n",
       "      <td>0</td>\n",
       "    </tr>\n",
       "  </tbody>\n",
       "</table>\n",
       "<p>5 rows × 785 columns</p>\n",
       "</div>"
      ],
      "text/plain": [
       "   label  pixel0  pixel1  pixel2  pixel3  pixel4  pixel5  pixel6  pixel7  \\\n",
       "0      1       0       0       0       0       0       0       0       0   \n",
       "1      0       0       0       0       0       0       0       0       0   \n",
       "2      1       0       0       0       0       0       0       0       0   \n",
       "3      4       0       0       0       0       0       0       0       0   \n",
       "4      0       0       0       0       0       0       0       0       0   \n",
       "\n",
       "   pixel8  ...  pixel774  pixel775  pixel776  pixel777  pixel778  pixel779  \\\n",
       "0       0  ...         0         0         0         0         0         0   \n",
       "1       0  ...         0         0         0         0         0         0   \n",
       "2       0  ...         0         0         0         0         0         0   \n",
       "3       0  ...         0         0         0         0         0         0   \n",
       "4       0  ...         0         0         0         0         0         0   \n",
       "\n",
       "   pixel780  pixel781  pixel782  pixel783  \n",
       "0         0         0         0         0  \n",
       "1         0         0         0         0  \n",
       "2         0         0         0         0  \n",
       "3         0         0         0         0  \n",
       "4         0         0         0         0  \n",
       "\n",
       "[5 rows x 785 columns]"
      ]
     },
     "execution_count": 133,
     "metadata": {},
     "output_type": "execute_result"
    }
   ],
   "source": [
    "train_df.head()"
   ]
  },
  {
   "cell_type": "code",
   "execution_count": 134,
   "metadata": {},
   "outputs": [
    {
     "data": {
      "application/vnd.microsoft.datawrangler.viewer.v0+json": {
       "columns": [
        {
         "name": "index",
         "rawType": "int64",
         "type": "integer"
        },
        {
         "name": "pixel0",
         "rawType": "int64",
         "type": "integer"
        },
        {
         "name": "pixel1",
         "rawType": "int64",
         "type": "integer"
        },
        {
         "name": "pixel2",
         "rawType": "int64",
         "type": "integer"
        },
        {
         "name": "pixel3",
         "rawType": "int64",
         "type": "integer"
        },
        {
         "name": "pixel4",
         "rawType": "int64",
         "type": "integer"
        },
        {
         "name": "pixel5",
         "rawType": "int64",
         "type": "integer"
        },
        {
         "name": "pixel6",
         "rawType": "int64",
         "type": "integer"
        },
        {
         "name": "pixel7",
         "rawType": "int64",
         "type": "integer"
        },
        {
         "name": "pixel8",
         "rawType": "int64",
         "type": "integer"
        },
        {
         "name": "pixel9",
         "rawType": "int64",
         "type": "integer"
        },
        {
         "name": "pixel10",
         "rawType": "int64",
         "type": "integer"
        },
        {
         "name": "pixel11",
         "rawType": "int64",
         "type": "integer"
        },
        {
         "name": "pixel12",
         "rawType": "int64",
         "type": "integer"
        },
        {
         "name": "pixel13",
         "rawType": "int64",
         "type": "integer"
        },
        {
         "name": "pixel14",
         "rawType": "int64",
         "type": "integer"
        },
        {
         "name": "pixel15",
         "rawType": "int64",
         "type": "integer"
        },
        {
         "name": "pixel16",
         "rawType": "int64",
         "type": "integer"
        },
        {
         "name": "pixel17",
         "rawType": "int64",
         "type": "integer"
        },
        {
         "name": "pixel18",
         "rawType": "int64",
         "type": "integer"
        },
        {
         "name": "pixel19",
         "rawType": "int64",
         "type": "integer"
        },
        {
         "name": "pixel20",
         "rawType": "int64",
         "type": "integer"
        },
        {
         "name": "pixel21",
         "rawType": "int64",
         "type": "integer"
        },
        {
         "name": "pixel22",
         "rawType": "int64",
         "type": "integer"
        },
        {
         "name": "pixel23",
         "rawType": "int64",
         "type": "integer"
        },
        {
         "name": "pixel24",
         "rawType": "int64",
         "type": "integer"
        },
        {
         "name": "pixel25",
         "rawType": "int64",
         "type": "integer"
        },
        {
         "name": "pixel26",
         "rawType": "int64",
         "type": "integer"
        },
        {
         "name": "pixel27",
         "rawType": "int64",
         "type": "integer"
        },
        {
         "name": "pixel28",
         "rawType": "int64",
         "type": "integer"
        },
        {
         "name": "pixel29",
         "rawType": "int64",
         "type": "integer"
        },
        {
         "name": "pixel30",
         "rawType": "int64",
         "type": "integer"
        },
        {
         "name": "pixel31",
         "rawType": "int64",
         "type": "integer"
        },
        {
         "name": "pixel32",
         "rawType": "int64",
         "type": "integer"
        },
        {
         "name": "pixel33",
         "rawType": "int64",
         "type": "integer"
        },
        {
         "name": "pixel34",
         "rawType": "int64",
         "type": "integer"
        },
        {
         "name": "pixel35",
         "rawType": "int64",
         "type": "integer"
        },
        {
         "name": "pixel36",
         "rawType": "int64",
         "type": "integer"
        },
        {
         "name": "pixel37",
         "rawType": "int64",
         "type": "integer"
        },
        {
         "name": "pixel38",
         "rawType": "int64",
         "type": "integer"
        },
        {
         "name": "pixel39",
         "rawType": "int64",
         "type": "integer"
        },
        {
         "name": "pixel40",
         "rawType": "int64",
         "type": "integer"
        },
        {
         "name": "pixel41",
         "rawType": "int64",
         "type": "integer"
        },
        {
         "name": "pixel42",
         "rawType": "int64",
         "type": "integer"
        },
        {
         "name": "pixel43",
         "rawType": "int64",
         "type": "integer"
        },
        {
         "name": "pixel44",
         "rawType": "int64",
         "type": "integer"
        },
        {
         "name": "pixel45",
         "rawType": "int64",
         "type": "integer"
        },
        {
         "name": "pixel46",
         "rawType": "int64",
         "type": "integer"
        },
        {
         "name": "pixel47",
         "rawType": "int64",
         "type": "integer"
        },
        {
         "name": "pixel48",
         "rawType": "int64",
         "type": "integer"
        },
        {
         "name": "pixel49",
         "rawType": "int64",
         "type": "integer"
        },
        {
         "name": "pixel50",
         "rawType": "int64",
         "type": "integer"
        },
        {
         "name": "pixel51",
         "rawType": "int64",
         "type": "integer"
        },
        {
         "name": "pixel52",
         "rawType": "int64",
         "type": "integer"
        },
        {
         "name": "pixel53",
         "rawType": "int64",
         "type": "integer"
        },
        {
         "name": "pixel54",
         "rawType": "int64",
         "type": "integer"
        },
        {
         "name": "pixel55",
         "rawType": "int64",
         "type": "integer"
        },
        {
         "name": "pixel56",
         "rawType": "int64",
         "type": "integer"
        },
        {
         "name": "pixel57",
         "rawType": "int64",
         "type": "integer"
        },
        {
         "name": "pixel58",
         "rawType": "int64",
         "type": "integer"
        },
        {
         "name": "pixel59",
         "rawType": "int64",
         "type": "integer"
        },
        {
         "name": "pixel60",
         "rawType": "int64",
         "type": "integer"
        },
        {
         "name": "pixel61",
         "rawType": "int64",
         "type": "integer"
        },
        {
         "name": "pixel62",
         "rawType": "int64",
         "type": "integer"
        },
        {
         "name": "pixel63",
         "rawType": "int64",
         "type": "integer"
        },
        {
         "name": "pixel64",
         "rawType": "int64",
         "type": "integer"
        },
        {
         "name": "pixel65",
         "rawType": "int64",
         "type": "integer"
        },
        {
         "name": "pixel66",
         "rawType": "int64",
         "type": "integer"
        },
        {
         "name": "pixel67",
         "rawType": "int64",
         "type": "integer"
        },
        {
         "name": "pixel68",
         "rawType": "int64",
         "type": "integer"
        },
        {
         "name": "pixel69",
         "rawType": "int64",
         "type": "integer"
        },
        {
         "name": "pixel70",
         "rawType": "int64",
         "type": "integer"
        },
        {
         "name": "pixel71",
         "rawType": "int64",
         "type": "integer"
        },
        {
         "name": "pixel72",
         "rawType": "int64",
         "type": "integer"
        },
        {
         "name": "pixel73",
         "rawType": "int64",
         "type": "integer"
        },
        {
         "name": "pixel74",
         "rawType": "int64",
         "type": "integer"
        },
        {
         "name": "pixel75",
         "rawType": "int64",
         "type": "integer"
        },
        {
         "name": "pixel76",
         "rawType": "int64",
         "type": "integer"
        },
        {
         "name": "pixel77",
         "rawType": "int64",
         "type": "integer"
        },
        {
         "name": "pixel78",
         "rawType": "int64",
         "type": "integer"
        },
        {
         "name": "pixel79",
         "rawType": "int64",
         "type": "integer"
        },
        {
         "name": "pixel80",
         "rawType": "int64",
         "type": "integer"
        },
        {
         "name": "pixel81",
         "rawType": "int64",
         "type": "integer"
        },
        {
         "name": "pixel82",
         "rawType": "int64",
         "type": "integer"
        },
        {
         "name": "pixel83",
         "rawType": "int64",
         "type": "integer"
        },
        {
         "name": "pixel84",
         "rawType": "int64",
         "type": "integer"
        },
        {
         "name": "pixel85",
         "rawType": "int64",
         "type": "integer"
        },
        {
         "name": "pixel86",
         "rawType": "int64",
         "type": "integer"
        },
        {
         "name": "pixel87",
         "rawType": "int64",
         "type": "integer"
        },
        {
         "name": "pixel88",
         "rawType": "int64",
         "type": "integer"
        },
        {
         "name": "pixel89",
         "rawType": "int64",
         "type": "integer"
        },
        {
         "name": "pixel90",
         "rawType": "int64",
         "type": "integer"
        },
        {
         "name": "pixel91",
         "rawType": "int64",
         "type": "integer"
        },
        {
         "name": "pixel92",
         "rawType": "int64",
         "type": "integer"
        },
        {
         "name": "pixel93",
         "rawType": "int64",
         "type": "integer"
        },
        {
         "name": "pixel94",
         "rawType": "int64",
         "type": "integer"
        },
        {
         "name": "pixel95",
         "rawType": "int64",
         "type": "integer"
        },
        {
         "name": "pixel96",
         "rawType": "int64",
         "type": "integer"
        },
        {
         "name": "pixel97",
         "rawType": "int64",
         "type": "integer"
        },
        {
         "name": "pixel98",
         "rawType": "int64",
         "type": "integer"
        },
        {
         "name": "pixel99",
         "rawType": "int64",
         "type": "integer"
        },
        {
         "name": "pixel100",
         "rawType": "int64",
         "type": "integer"
        },
        {
         "name": "pixel101",
         "rawType": "int64",
         "type": "integer"
        },
        {
         "name": "pixel102",
         "rawType": "int64",
         "type": "integer"
        },
        {
         "name": "pixel103",
         "rawType": "int64",
         "type": "integer"
        },
        {
         "name": "pixel104",
         "rawType": "int64",
         "type": "integer"
        },
        {
         "name": "pixel105",
         "rawType": "int64",
         "type": "integer"
        },
        {
         "name": "pixel106",
         "rawType": "int64",
         "type": "integer"
        },
        {
         "name": "pixel107",
         "rawType": "int64",
         "type": "integer"
        },
        {
         "name": "pixel108",
         "rawType": "int64",
         "type": "integer"
        },
        {
         "name": "pixel109",
         "rawType": "int64",
         "type": "integer"
        },
        {
         "name": "pixel110",
         "rawType": "int64",
         "type": "integer"
        },
        {
         "name": "pixel111",
         "rawType": "int64",
         "type": "integer"
        },
        {
         "name": "pixel112",
         "rawType": "int64",
         "type": "integer"
        },
        {
         "name": "pixel113",
         "rawType": "int64",
         "type": "integer"
        },
        {
         "name": "pixel114",
         "rawType": "int64",
         "type": "integer"
        },
        {
         "name": "pixel115",
         "rawType": "int64",
         "type": "integer"
        },
        {
         "name": "pixel116",
         "rawType": "int64",
         "type": "integer"
        },
        {
         "name": "pixel117",
         "rawType": "int64",
         "type": "integer"
        },
        {
         "name": "pixel118",
         "rawType": "int64",
         "type": "integer"
        },
        {
         "name": "pixel119",
         "rawType": "int64",
         "type": "integer"
        },
        {
         "name": "pixel120",
         "rawType": "int64",
         "type": "integer"
        },
        {
         "name": "pixel121",
         "rawType": "int64",
         "type": "integer"
        },
        {
         "name": "pixel122",
         "rawType": "int64",
         "type": "integer"
        },
        {
         "name": "pixel123",
         "rawType": "int64",
         "type": "integer"
        },
        {
         "name": "pixel124",
         "rawType": "int64",
         "type": "integer"
        },
        {
         "name": "pixel125",
         "rawType": "int64",
         "type": "integer"
        },
        {
         "name": "pixel126",
         "rawType": "int64",
         "type": "integer"
        },
        {
         "name": "pixel127",
         "rawType": "int64",
         "type": "integer"
        },
        {
         "name": "pixel128",
         "rawType": "int64",
         "type": "integer"
        },
        {
         "name": "pixel129",
         "rawType": "int64",
         "type": "integer"
        },
        {
         "name": "pixel130",
         "rawType": "int64",
         "type": "integer"
        },
        {
         "name": "pixel131",
         "rawType": "int64",
         "type": "integer"
        },
        {
         "name": "pixel132",
         "rawType": "int64",
         "type": "integer"
        },
        {
         "name": "pixel133",
         "rawType": "int64",
         "type": "integer"
        },
        {
         "name": "pixel134",
         "rawType": "int64",
         "type": "integer"
        },
        {
         "name": "pixel135",
         "rawType": "int64",
         "type": "integer"
        },
        {
         "name": "pixel136",
         "rawType": "int64",
         "type": "integer"
        },
        {
         "name": "pixel137",
         "rawType": "int64",
         "type": "integer"
        },
        {
         "name": "pixel138",
         "rawType": "int64",
         "type": "integer"
        },
        {
         "name": "pixel139",
         "rawType": "int64",
         "type": "integer"
        },
        {
         "name": "pixel140",
         "rawType": "int64",
         "type": "integer"
        },
        {
         "name": "pixel141",
         "rawType": "int64",
         "type": "integer"
        },
        {
         "name": "pixel142",
         "rawType": "int64",
         "type": "integer"
        },
        {
         "name": "pixel143",
         "rawType": "int64",
         "type": "integer"
        },
        {
         "name": "pixel144",
         "rawType": "int64",
         "type": "integer"
        },
        {
         "name": "pixel145",
         "rawType": "int64",
         "type": "integer"
        },
        {
         "name": "pixel146",
         "rawType": "int64",
         "type": "integer"
        },
        {
         "name": "pixel147",
         "rawType": "int64",
         "type": "integer"
        },
        {
         "name": "pixel148",
         "rawType": "int64",
         "type": "integer"
        },
        {
         "name": "pixel149",
         "rawType": "int64",
         "type": "integer"
        },
        {
         "name": "pixel150",
         "rawType": "int64",
         "type": "integer"
        },
        {
         "name": "pixel151",
         "rawType": "int64",
         "type": "integer"
        },
        {
         "name": "pixel152",
         "rawType": "int64",
         "type": "integer"
        },
        {
         "name": "pixel153",
         "rawType": "int64",
         "type": "integer"
        },
        {
         "name": "pixel154",
         "rawType": "int64",
         "type": "integer"
        },
        {
         "name": "pixel155",
         "rawType": "int64",
         "type": "integer"
        },
        {
         "name": "pixel156",
         "rawType": "int64",
         "type": "integer"
        },
        {
         "name": "pixel157",
         "rawType": "int64",
         "type": "integer"
        },
        {
         "name": "pixel158",
         "rawType": "int64",
         "type": "integer"
        },
        {
         "name": "pixel159",
         "rawType": "int64",
         "type": "integer"
        },
        {
         "name": "pixel160",
         "rawType": "int64",
         "type": "integer"
        },
        {
         "name": "pixel161",
         "rawType": "int64",
         "type": "integer"
        },
        {
         "name": "pixel162",
         "rawType": "int64",
         "type": "integer"
        },
        {
         "name": "pixel163",
         "rawType": "int64",
         "type": "integer"
        },
        {
         "name": "pixel164",
         "rawType": "int64",
         "type": "integer"
        },
        {
         "name": "pixel165",
         "rawType": "int64",
         "type": "integer"
        },
        {
         "name": "pixel166",
         "rawType": "int64",
         "type": "integer"
        },
        {
         "name": "pixel167",
         "rawType": "int64",
         "type": "integer"
        },
        {
         "name": "pixel168",
         "rawType": "int64",
         "type": "integer"
        },
        {
         "name": "pixel169",
         "rawType": "int64",
         "type": "integer"
        },
        {
         "name": "pixel170",
         "rawType": "int64",
         "type": "integer"
        },
        {
         "name": "pixel171",
         "rawType": "int64",
         "type": "integer"
        },
        {
         "name": "pixel172",
         "rawType": "int64",
         "type": "integer"
        },
        {
         "name": "pixel173",
         "rawType": "int64",
         "type": "integer"
        },
        {
         "name": "pixel174",
         "rawType": "int64",
         "type": "integer"
        },
        {
         "name": "pixel175",
         "rawType": "int64",
         "type": "integer"
        },
        {
         "name": "pixel176",
         "rawType": "int64",
         "type": "integer"
        },
        {
         "name": "pixel177",
         "rawType": "int64",
         "type": "integer"
        },
        {
         "name": "pixel178",
         "rawType": "int64",
         "type": "integer"
        },
        {
         "name": "pixel179",
         "rawType": "int64",
         "type": "integer"
        },
        {
         "name": "pixel180",
         "rawType": "int64",
         "type": "integer"
        },
        {
         "name": "pixel181",
         "rawType": "int64",
         "type": "integer"
        },
        {
         "name": "pixel182",
         "rawType": "int64",
         "type": "integer"
        },
        {
         "name": "pixel183",
         "rawType": "int64",
         "type": "integer"
        },
        {
         "name": "pixel184",
         "rawType": "int64",
         "type": "integer"
        },
        {
         "name": "pixel185",
         "rawType": "int64",
         "type": "integer"
        },
        {
         "name": "pixel186",
         "rawType": "int64",
         "type": "integer"
        },
        {
         "name": "pixel187",
         "rawType": "int64",
         "type": "integer"
        },
        {
         "name": "pixel188",
         "rawType": "int64",
         "type": "integer"
        },
        {
         "name": "pixel189",
         "rawType": "int64",
         "type": "integer"
        },
        {
         "name": "pixel190",
         "rawType": "int64",
         "type": "integer"
        },
        {
         "name": "pixel191",
         "rawType": "int64",
         "type": "integer"
        },
        {
         "name": "pixel192",
         "rawType": "int64",
         "type": "integer"
        },
        {
         "name": "pixel193",
         "rawType": "int64",
         "type": "integer"
        },
        {
         "name": "pixel194",
         "rawType": "int64",
         "type": "integer"
        },
        {
         "name": "pixel195",
         "rawType": "int64",
         "type": "integer"
        },
        {
         "name": "pixel196",
         "rawType": "int64",
         "type": "integer"
        },
        {
         "name": "pixel197",
         "rawType": "int64",
         "type": "integer"
        },
        {
         "name": "pixel198",
         "rawType": "int64",
         "type": "integer"
        },
        {
         "name": "pixel199",
         "rawType": "int64",
         "type": "integer"
        },
        {
         "name": "pixel200",
         "rawType": "int64",
         "type": "integer"
        },
        {
         "name": "pixel201",
         "rawType": "int64",
         "type": "integer"
        },
        {
         "name": "pixel202",
         "rawType": "int64",
         "type": "integer"
        },
        {
         "name": "pixel203",
         "rawType": "int64",
         "type": "integer"
        },
        {
         "name": "pixel204",
         "rawType": "int64",
         "type": "integer"
        },
        {
         "name": "pixel205",
         "rawType": "int64",
         "type": "integer"
        },
        {
         "name": "pixel206",
         "rawType": "int64",
         "type": "integer"
        },
        {
         "name": "pixel207",
         "rawType": "int64",
         "type": "integer"
        },
        {
         "name": "pixel208",
         "rawType": "int64",
         "type": "integer"
        },
        {
         "name": "pixel209",
         "rawType": "int64",
         "type": "integer"
        },
        {
         "name": "pixel210",
         "rawType": "int64",
         "type": "integer"
        },
        {
         "name": "pixel211",
         "rawType": "int64",
         "type": "integer"
        },
        {
         "name": "pixel212",
         "rawType": "int64",
         "type": "integer"
        },
        {
         "name": "pixel213",
         "rawType": "int64",
         "type": "integer"
        },
        {
         "name": "pixel214",
         "rawType": "int64",
         "type": "integer"
        },
        {
         "name": "pixel215",
         "rawType": "int64",
         "type": "integer"
        },
        {
         "name": "pixel216",
         "rawType": "int64",
         "type": "integer"
        },
        {
         "name": "pixel217",
         "rawType": "int64",
         "type": "integer"
        },
        {
         "name": "pixel218",
         "rawType": "int64",
         "type": "integer"
        },
        {
         "name": "pixel219",
         "rawType": "int64",
         "type": "integer"
        },
        {
         "name": "pixel220",
         "rawType": "int64",
         "type": "integer"
        },
        {
         "name": "pixel221",
         "rawType": "int64",
         "type": "integer"
        },
        {
         "name": "pixel222",
         "rawType": "int64",
         "type": "integer"
        },
        {
         "name": "pixel223",
         "rawType": "int64",
         "type": "integer"
        },
        {
         "name": "pixel224",
         "rawType": "int64",
         "type": "integer"
        },
        {
         "name": "pixel225",
         "rawType": "int64",
         "type": "integer"
        },
        {
         "name": "pixel226",
         "rawType": "int64",
         "type": "integer"
        },
        {
         "name": "pixel227",
         "rawType": "int64",
         "type": "integer"
        },
        {
         "name": "pixel228",
         "rawType": "int64",
         "type": "integer"
        },
        {
         "name": "pixel229",
         "rawType": "int64",
         "type": "integer"
        },
        {
         "name": "pixel230",
         "rawType": "int64",
         "type": "integer"
        },
        {
         "name": "pixel231",
         "rawType": "int64",
         "type": "integer"
        },
        {
         "name": "pixel232",
         "rawType": "int64",
         "type": "integer"
        },
        {
         "name": "pixel233",
         "rawType": "int64",
         "type": "integer"
        },
        {
         "name": "pixel234",
         "rawType": "int64",
         "type": "integer"
        },
        {
         "name": "pixel235",
         "rawType": "int64",
         "type": "integer"
        },
        {
         "name": "pixel236",
         "rawType": "int64",
         "type": "integer"
        },
        {
         "name": "pixel237",
         "rawType": "int64",
         "type": "integer"
        },
        {
         "name": "pixel238",
         "rawType": "int64",
         "type": "integer"
        },
        {
         "name": "pixel239",
         "rawType": "int64",
         "type": "integer"
        },
        {
         "name": "pixel240",
         "rawType": "int64",
         "type": "integer"
        },
        {
         "name": "pixel241",
         "rawType": "int64",
         "type": "integer"
        },
        {
         "name": "pixel242",
         "rawType": "int64",
         "type": "integer"
        },
        {
         "name": "pixel243",
         "rawType": "int64",
         "type": "integer"
        },
        {
         "name": "pixel244",
         "rawType": "int64",
         "type": "integer"
        },
        {
         "name": "pixel245",
         "rawType": "int64",
         "type": "integer"
        },
        {
         "name": "pixel246",
         "rawType": "int64",
         "type": "integer"
        },
        {
         "name": "pixel247",
         "rawType": "int64",
         "type": "integer"
        },
        {
         "name": "pixel248",
         "rawType": "int64",
         "type": "integer"
        },
        {
         "name": "pixel249",
         "rawType": "int64",
         "type": "integer"
        },
        {
         "name": "pixel250",
         "rawType": "int64",
         "type": "integer"
        },
        {
         "name": "pixel251",
         "rawType": "int64",
         "type": "integer"
        },
        {
         "name": "pixel252",
         "rawType": "int64",
         "type": "integer"
        },
        {
         "name": "pixel253",
         "rawType": "int64",
         "type": "integer"
        },
        {
         "name": "pixel254",
         "rawType": "int64",
         "type": "integer"
        },
        {
         "name": "pixel255",
         "rawType": "int64",
         "type": "integer"
        },
        {
         "name": "pixel256",
         "rawType": "int64",
         "type": "integer"
        },
        {
         "name": "pixel257",
         "rawType": "int64",
         "type": "integer"
        },
        {
         "name": "pixel258",
         "rawType": "int64",
         "type": "integer"
        },
        {
         "name": "pixel259",
         "rawType": "int64",
         "type": "integer"
        },
        {
         "name": "pixel260",
         "rawType": "int64",
         "type": "integer"
        },
        {
         "name": "pixel261",
         "rawType": "int64",
         "type": "integer"
        },
        {
         "name": "pixel262",
         "rawType": "int64",
         "type": "integer"
        },
        {
         "name": "pixel263",
         "rawType": "int64",
         "type": "integer"
        },
        {
         "name": "pixel264",
         "rawType": "int64",
         "type": "integer"
        },
        {
         "name": "pixel265",
         "rawType": "int64",
         "type": "integer"
        },
        {
         "name": "pixel266",
         "rawType": "int64",
         "type": "integer"
        },
        {
         "name": "pixel267",
         "rawType": "int64",
         "type": "integer"
        },
        {
         "name": "pixel268",
         "rawType": "int64",
         "type": "integer"
        },
        {
         "name": "pixel269",
         "rawType": "int64",
         "type": "integer"
        },
        {
         "name": "pixel270",
         "rawType": "int64",
         "type": "integer"
        },
        {
         "name": "pixel271",
         "rawType": "int64",
         "type": "integer"
        },
        {
         "name": "pixel272",
         "rawType": "int64",
         "type": "integer"
        },
        {
         "name": "pixel273",
         "rawType": "int64",
         "type": "integer"
        },
        {
         "name": "pixel274",
         "rawType": "int64",
         "type": "integer"
        },
        {
         "name": "pixel275",
         "rawType": "int64",
         "type": "integer"
        },
        {
         "name": "pixel276",
         "rawType": "int64",
         "type": "integer"
        },
        {
         "name": "pixel277",
         "rawType": "int64",
         "type": "integer"
        },
        {
         "name": "pixel278",
         "rawType": "int64",
         "type": "integer"
        },
        {
         "name": "pixel279",
         "rawType": "int64",
         "type": "integer"
        },
        {
         "name": "pixel280",
         "rawType": "int64",
         "type": "integer"
        },
        {
         "name": "pixel281",
         "rawType": "int64",
         "type": "integer"
        },
        {
         "name": "pixel282",
         "rawType": "int64",
         "type": "integer"
        },
        {
         "name": "pixel283",
         "rawType": "int64",
         "type": "integer"
        },
        {
         "name": "pixel284",
         "rawType": "int64",
         "type": "integer"
        },
        {
         "name": "pixel285",
         "rawType": "int64",
         "type": "integer"
        },
        {
         "name": "pixel286",
         "rawType": "int64",
         "type": "integer"
        },
        {
         "name": "pixel287",
         "rawType": "int64",
         "type": "integer"
        },
        {
         "name": "pixel288",
         "rawType": "int64",
         "type": "integer"
        },
        {
         "name": "pixel289",
         "rawType": "int64",
         "type": "integer"
        },
        {
         "name": "pixel290",
         "rawType": "int64",
         "type": "integer"
        },
        {
         "name": "pixel291",
         "rawType": "int64",
         "type": "integer"
        },
        {
         "name": "pixel292",
         "rawType": "int64",
         "type": "integer"
        },
        {
         "name": "pixel293",
         "rawType": "int64",
         "type": "integer"
        },
        {
         "name": "pixel294",
         "rawType": "int64",
         "type": "integer"
        },
        {
         "name": "pixel295",
         "rawType": "int64",
         "type": "integer"
        },
        {
         "name": "pixel296",
         "rawType": "int64",
         "type": "integer"
        },
        {
         "name": "pixel297",
         "rawType": "int64",
         "type": "integer"
        },
        {
         "name": "pixel298",
         "rawType": "int64",
         "type": "integer"
        },
        {
         "name": "pixel299",
         "rawType": "int64",
         "type": "integer"
        },
        {
         "name": "pixel300",
         "rawType": "int64",
         "type": "integer"
        },
        {
         "name": "pixel301",
         "rawType": "int64",
         "type": "integer"
        },
        {
         "name": "pixel302",
         "rawType": "int64",
         "type": "integer"
        },
        {
         "name": "pixel303",
         "rawType": "int64",
         "type": "integer"
        },
        {
         "name": "pixel304",
         "rawType": "int64",
         "type": "integer"
        },
        {
         "name": "pixel305",
         "rawType": "int64",
         "type": "integer"
        },
        {
         "name": "pixel306",
         "rawType": "int64",
         "type": "integer"
        },
        {
         "name": "pixel307",
         "rawType": "int64",
         "type": "integer"
        },
        {
         "name": "pixel308",
         "rawType": "int64",
         "type": "integer"
        },
        {
         "name": "pixel309",
         "rawType": "int64",
         "type": "integer"
        },
        {
         "name": "pixel310",
         "rawType": "int64",
         "type": "integer"
        },
        {
         "name": "pixel311",
         "rawType": "int64",
         "type": "integer"
        },
        {
         "name": "pixel312",
         "rawType": "int64",
         "type": "integer"
        },
        {
         "name": "pixel313",
         "rawType": "int64",
         "type": "integer"
        },
        {
         "name": "pixel314",
         "rawType": "int64",
         "type": "integer"
        },
        {
         "name": "pixel315",
         "rawType": "int64",
         "type": "integer"
        },
        {
         "name": "pixel316",
         "rawType": "int64",
         "type": "integer"
        },
        {
         "name": "pixel317",
         "rawType": "int64",
         "type": "integer"
        },
        {
         "name": "pixel318",
         "rawType": "int64",
         "type": "integer"
        },
        {
         "name": "pixel319",
         "rawType": "int64",
         "type": "integer"
        },
        {
         "name": "pixel320",
         "rawType": "int64",
         "type": "integer"
        },
        {
         "name": "pixel321",
         "rawType": "int64",
         "type": "integer"
        },
        {
         "name": "pixel322",
         "rawType": "int64",
         "type": "integer"
        },
        {
         "name": "pixel323",
         "rawType": "int64",
         "type": "integer"
        },
        {
         "name": "pixel324",
         "rawType": "int64",
         "type": "integer"
        },
        {
         "name": "pixel325",
         "rawType": "int64",
         "type": "integer"
        },
        {
         "name": "pixel326",
         "rawType": "int64",
         "type": "integer"
        },
        {
         "name": "pixel327",
         "rawType": "int64",
         "type": "integer"
        },
        {
         "name": "pixel328",
         "rawType": "int64",
         "type": "integer"
        },
        {
         "name": "pixel329",
         "rawType": "int64",
         "type": "integer"
        },
        {
         "name": "pixel330",
         "rawType": "int64",
         "type": "integer"
        },
        {
         "name": "pixel331",
         "rawType": "int64",
         "type": "integer"
        },
        {
         "name": "pixel332",
         "rawType": "int64",
         "type": "integer"
        },
        {
         "name": "pixel333",
         "rawType": "int64",
         "type": "integer"
        },
        {
         "name": "pixel334",
         "rawType": "int64",
         "type": "integer"
        },
        {
         "name": "pixel335",
         "rawType": "int64",
         "type": "integer"
        },
        {
         "name": "pixel336",
         "rawType": "int64",
         "type": "integer"
        },
        {
         "name": "pixel337",
         "rawType": "int64",
         "type": "integer"
        },
        {
         "name": "pixel338",
         "rawType": "int64",
         "type": "integer"
        },
        {
         "name": "pixel339",
         "rawType": "int64",
         "type": "integer"
        },
        {
         "name": "pixel340",
         "rawType": "int64",
         "type": "integer"
        },
        {
         "name": "pixel341",
         "rawType": "int64",
         "type": "integer"
        },
        {
         "name": "pixel342",
         "rawType": "int64",
         "type": "integer"
        },
        {
         "name": "pixel343",
         "rawType": "int64",
         "type": "integer"
        },
        {
         "name": "pixel344",
         "rawType": "int64",
         "type": "integer"
        },
        {
         "name": "pixel345",
         "rawType": "int64",
         "type": "integer"
        },
        {
         "name": "pixel346",
         "rawType": "int64",
         "type": "integer"
        },
        {
         "name": "pixel347",
         "rawType": "int64",
         "type": "integer"
        },
        {
         "name": "pixel348",
         "rawType": "int64",
         "type": "integer"
        },
        {
         "name": "pixel349",
         "rawType": "int64",
         "type": "integer"
        },
        {
         "name": "pixel350",
         "rawType": "int64",
         "type": "integer"
        },
        {
         "name": "pixel351",
         "rawType": "int64",
         "type": "integer"
        },
        {
         "name": "pixel352",
         "rawType": "int64",
         "type": "integer"
        },
        {
         "name": "pixel353",
         "rawType": "int64",
         "type": "integer"
        },
        {
         "name": "pixel354",
         "rawType": "int64",
         "type": "integer"
        },
        {
         "name": "pixel355",
         "rawType": "int64",
         "type": "integer"
        },
        {
         "name": "pixel356",
         "rawType": "int64",
         "type": "integer"
        },
        {
         "name": "pixel357",
         "rawType": "int64",
         "type": "integer"
        },
        {
         "name": "pixel358",
         "rawType": "int64",
         "type": "integer"
        },
        {
         "name": "pixel359",
         "rawType": "int64",
         "type": "integer"
        },
        {
         "name": "pixel360",
         "rawType": "int64",
         "type": "integer"
        },
        {
         "name": "pixel361",
         "rawType": "int64",
         "type": "integer"
        },
        {
         "name": "pixel362",
         "rawType": "int64",
         "type": "integer"
        },
        {
         "name": "pixel363",
         "rawType": "int64",
         "type": "integer"
        },
        {
         "name": "pixel364",
         "rawType": "int64",
         "type": "integer"
        },
        {
         "name": "pixel365",
         "rawType": "int64",
         "type": "integer"
        },
        {
         "name": "pixel366",
         "rawType": "int64",
         "type": "integer"
        },
        {
         "name": "pixel367",
         "rawType": "int64",
         "type": "integer"
        },
        {
         "name": "pixel368",
         "rawType": "int64",
         "type": "integer"
        },
        {
         "name": "pixel369",
         "rawType": "int64",
         "type": "integer"
        },
        {
         "name": "pixel370",
         "rawType": "int64",
         "type": "integer"
        },
        {
         "name": "pixel371",
         "rawType": "int64",
         "type": "integer"
        },
        {
         "name": "pixel372",
         "rawType": "int64",
         "type": "integer"
        },
        {
         "name": "pixel373",
         "rawType": "int64",
         "type": "integer"
        },
        {
         "name": "pixel374",
         "rawType": "int64",
         "type": "integer"
        },
        {
         "name": "pixel375",
         "rawType": "int64",
         "type": "integer"
        },
        {
         "name": "pixel376",
         "rawType": "int64",
         "type": "integer"
        },
        {
         "name": "pixel377",
         "rawType": "int64",
         "type": "integer"
        },
        {
         "name": "pixel378",
         "rawType": "int64",
         "type": "integer"
        },
        {
         "name": "pixel379",
         "rawType": "int64",
         "type": "integer"
        },
        {
         "name": "pixel380",
         "rawType": "int64",
         "type": "integer"
        },
        {
         "name": "pixel381",
         "rawType": "int64",
         "type": "integer"
        },
        {
         "name": "pixel382",
         "rawType": "int64",
         "type": "integer"
        },
        {
         "name": "pixel383",
         "rawType": "int64",
         "type": "integer"
        },
        {
         "name": "pixel384",
         "rawType": "int64",
         "type": "integer"
        },
        {
         "name": "pixel385",
         "rawType": "int64",
         "type": "integer"
        },
        {
         "name": "pixel386",
         "rawType": "int64",
         "type": "integer"
        },
        {
         "name": "pixel387",
         "rawType": "int64",
         "type": "integer"
        },
        {
         "name": "pixel388",
         "rawType": "int64",
         "type": "integer"
        },
        {
         "name": "pixel389",
         "rawType": "int64",
         "type": "integer"
        },
        {
         "name": "pixel390",
         "rawType": "int64",
         "type": "integer"
        },
        {
         "name": "pixel391",
         "rawType": "int64",
         "type": "integer"
        },
        {
         "name": "pixel392",
         "rawType": "int64",
         "type": "integer"
        },
        {
         "name": "pixel393",
         "rawType": "int64",
         "type": "integer"
        },
        {
         "name": "pixel394",
         "rawType": "int64",
         "type": "integer"
        },
        {
         "name": "pixel395",
         "rawType": "int64",
         "type": "integer"
        },
        {
         "name": "pixel396",
         "rawType": "int64",
         "type": "integer"
        },
        {
         "name": "pixel397",
         "rawType": "int64",
         "type": "integer"
        },
        {
         "name": "pixel398",
         "rawType": "int64",
         "type": "integer"
        },
        {
         "name": "pixel399",
         "rawType": "int64",
         "type": "integer"
        },
        {
         "name": "pixel400",
         "rawType": "int64",
         "type": "integer"
        },
        {
         "name": "pixel401",
         "rawType": "int64",
         "type": "integer"
        },
        {
         "name": "pixel402",
         "rawType": "int64",
         "type": "integer"
        },
        {
         "name": "pixel403",
         "rawType": "int64",
         "type": "integer"
        },
        {
         "name": "pixel404",
         "rawType": "int64",
         "type": "integer"
        },
        {
         "name": "pixel405",
         "rawType": "int64",
         "type": "integer"
        },
        {
         "name": "pixel406",
         "rawType": "int64",
         "type": "integer"
        },
        {
         "name": "pixel407",
         "rawType": "int64",
         "type": "integer"
        },
        {
         "name": "pixel408",
         "rawType": "int64",
         "type": "integer"
        },
        {
         "name": "pixel409",
         "rawType": "int64",
         "type": "integer"
        },
        {
         "name": "pixel410",
         "rawType": "int64",
         "type": "integer"
        },
        {
         "name": "pixel411",
         "rawType": "int64",
         "type": "integer"
        },
        {
         "name": "pixel412",
         "rawType": "int64",
         "type": "integer"
        },
        {
         "name": "pixel413",
         "rawType": "int64",
         "type": "integer"
        },
        {
         "name": "pixel414",
         "rawType": "int64",
         "type": "integer"
        },
        {
         "name": "pixel415",
         "rawType": "int64",
         "type": "integer"
        },
        {
         "name": "pixel416",
         "rawType": "int64",
         "type": "integer"
        },
        {
         "name": "pixel417",
         "rawType": "int64",
         "type": "integer"
        },
        {
         "name": "pixel418",
         "rawType": "int64",
         "type": "integer"
        },
        {
         "name": "pixel419",
         "rawType": "int64",
         "type": "integer"
        },
        {
         "name": "pixel420",
         "rawType": "int64",
         "type": "integer"
        },
        {
         "name": "pixel421",
         "rawType": "int64",
         "type": "integer"
        },
        {
         "name": "pixel422",
         "rawType": "int64",
         "type": "integer"
        },
        {
         "name": "pixel423",
         "rawType": "int64",
         "type": "integer"
        },
        {
         "name": "pixel424",
         "rawType": "int64",
         "type": "integer"
        },
        {
         "name": "pixel425",
         "rawType": "int64",
         "type": "integer"
        },
        {
         "name": "pixel426",
         "rawType": "int64",
         "type": "integer"
        },
        {
         "name": "pixel427",
         "rawType": "int64",
         "type": "integer"
        },
        {
         "name": "pixel428",
         "rawType": "int64",
         "type": "integer"
        },
        {
         "name": "pixel429",
         "rawType": "int64",
         "type": "integer"
        },
        {
         "name": "pixel430",
         "rawType": "int64",
         "type": "integer"
        },
        {
         "name": "pixel431",
         "rawType": "int64",
         "type": "integer"
        },
        {
         "name": "pixel432",
         "rawType": "int64",
         "type": "integer"
        },
        {
         "name": "pixel433",
         "rawType": "int64",
         "type": "integer"
        },
        {
         "name": "pixel434",
         "rawType": "int64",
         "type": "integer"
        },
        {
         "name": "pixel435",
         "rawType": "int64",
         "type": "integer"
        },
        {
         "name": "pixel436",
         "rawType": "int64",
         "type": "integer"
        },
        {
         "name": "pixel437",
         "rawType": "int64",
         "type": "integer"
        },
        {
         "name": "pixel438",
         "rawType": "int64",
         "type": "integer"
        },
        {
         "name": "pixel439",
         "rawType": "int64",
         "type": "integer"
        },
        {
         "name": "pixel440",
         "rawType": "int64",
         "type": "integer"
        },
        {
         "name": "pixel441",
         "rawType": "int64",
         "type": "integer"
        },
        {
         "name": "pixel442",
         "rawType": "int64",
         "type": "integer"
        },
        {
         "name": "pixel443",
         "rawType": "int64",
         "type": "integer"
        },
        {
         "name": "pixel444",
         "rawType": "int64",
         "type": "integer"
        },
        {
         "name": "pixel445",
         "rawType": "int64",
         "type": "integer"
        },
        {
         "name": "pixel446",
         "rawType": "int64",
         "type": "integer"
        },
        {
         "name": "pixel447",
         "rawType": "int64",
         "type": "integer"
        },
        {
         "name": "pixel448",
         "rawType": "int64",
         "type": "integer"
        },
        {
         "name": "pixel449",
         "rawType": "int64",
         "type": "integer"
        },
        {
         "name": "pixel450",
         "rawType": "int64",
         "type": "integer"
        },
        {
         "name": "pixel451",
         "rawType": "int64",
         "type": "integer"
        },
        {
         "name": "pixel452",
         "rawType": "int64",
         "type": "integer"
        },
        {
         "name": "pixel453",
         "rawType": "int64",
         "type": "integer"
        },
        {
         "name": "pixel454",
         "rawType": "int64",
         "type": "integer"
        },
        {
         "name": "pixel455",
         "rawType": "int64",
         "type": "integer"
        },
        {
         "name": "pixel456",
         "rawType": "int64",
         "type": "integer"
        },
        {
         "name": "pixel457",
         "rawType": "int64",
         "type": "integer"
        },
        {
         "name": "pixel458",
         "rawType": "int64",
         "type": "integer"
        },
        {
         "name": "pixel459",
         "rawType": "int64",
         "type": "integer"
        },
        {
         "name": "pixel460",
         "rawType": "int64",
         "type": "integer"
        },
        {
         "name": "pixel461",
         "rawType": "int64",
         "type": "integer"
        },
        {
         "name": "pixel462",
         "rawType": "int64",
         "type": "integer"
        },
        {
         "name": "pixel463",
         "rawType": "int64",
         "type": "integer"
        },
        {
         "name": "pixel464",
         "rawType": "int64",
         "type": "integer"
        },
        {
         "name": "pixel465",
         "rawType": "int64",
         "type": "integer"
        },
        {
         "name": "pixel466",
         "rawType": "int64",
         "type": "integer"
        },
        {
         "name": "pixel467",
         "rawType": "int64",
         "type": "integer"
        },
        {
         "name": "pixel468",
         "rawType": "int64",
         "type": "integer"
        },
        {
         "name": "pixel469",
         "rawType": "int64",
         "type": "integer"
        },
        {
         "name": "pixel470",
         "rawType": "int64",
         "type": "integer"
        },
        {
         "name": "pixel471",
         "rawType": "int64",
         "type": "integer"
        },
        {
         "name": "pixel472",
         "rawType": "int64",
         "type": "integer"
        },
        {
         "name": "pixel473",
         "rawType": "int64",
         "type": "integer"
        },
        {
         "name": "pixel474",
         "rawType": "int64",
         "type": "integer"
        },
        {
         "name": "pixel475",
         "rawType": "int64",
         "type": "integer"
        },
        {
         "name": "pixel476",
         "rawType": "int64",
         "type": "integer"
        },
        {
         "name": "pixel477",
         "rawType": "int64",
         "type": "integer"
        },
        {
         "name": "pixel478",
         "rawType": "int64",
         "type": "integer"
        },
        {
         "name": "pixel479",
         "rawType": "int64",
         "type": "integer"
        },
        {
         "name": "pixel480",
         "rawType": "int64",
         "type": "integer"
        },
        {
         "name": "pixel481",
         "rawType": "int64",
         "type": "integer"
        },
        {
         "name": "pixel482",
         "rawType": "int64",
         "type": "integer"
        },
        {
         "name": "pixel483",
         "rawType": "int64",
         "type": "integer"
        },
        {
         "name": "pixel484",
         "rawType": "int64",
         "type": "integer"
        },
        {
         "name": "pixel485",
         "rawType": "int64",
         "type": "integer"
        },
        {
         "name": "pixel486",
         "rawType": "int64",
         "type": "integer"
        },
        {
         "name": "pixel487",
         "rawType": "int64",
         "type": "integer"
        },
        {
         "name": "pixel488",
         "rawType": "int64",
         "type": "integer"
        },
        {
         "name": "pixel489",
         "rawType": "int64",
         "type": "integer"
        },
        {
         "name": "pixel490",
         "rawType": "int64",
         "type": "integer"
        },
        {
         "name": "pixel491",
         "rawType": "int64",
         "type": "integer"
        },
        {
         "name": "pixel492",
         "rawType": "int64",
         "type": "integer"
        },
        {
         "name": "pixel493",
         "rawType": "int64",
         "type": "integer"
        },
        {
         "name": "pixel494",
         "rawType": "int64",
         "type": "integer"
        },
        {
         "name": "pixel495",
         "rawType": "int64",
         "type": "integer"
        },
        {
         "name": "pixel496",
         "rawType": "int64",
         "type": "integer"
        },
        {
         "name": "pixel497",
         "rawType": "int64",
         "type": "integer"
        },
        {
         "name": "pixel498",
         "rawType": "int64",
         "type": "integer"
        },
        {
         "name": "pixel499",
         "rawType": "int64",
         "type": "integer"
        },
        {
         "name": "pixel500",
         "rawType": "int64",
         "type": "integer"
        },
        {
         "name": "pixel501",
         "rawType": "int64",
         "type": "integer"
        },
        {
         "name": "pixel502",
         "rawType": "int64",
         "type": "integer"
        },
        {
         "name": "pixel503",
         "rawType": "int64",
         "type": "integer"
        },
        {
         "name": "pixel504",
         "rawType": "int64",
         "type": "integer"
        },
        {
         "name": "pixel505",
         "rawType": "int64",
         "type": "integer"
        },
        {
         "name": "pixel506",
         "rawType": "int64",
         "type": "integer"
        },
        {
         "name": "pixel507",
         "rawType": "int64",
         "type": "integer"
        },
        {
         "name": "pixel508",
         "rawType": "int64",
         "type": "integer"
        },
        {
         "name": "pixel509",
         "rawType": "int64",
         "type": "integer"
        },
        {
         "name": "pixel510",
         "rawType": "int64",
         "type": "integer"
        },
        {
         "name": "pixel511",
         "rawType": "int64",
         "type": "integer"
        },
        {
         "name": "pixel512",
         "rawType": "int64",
         "type": "integer"
        },
        {
         "name": "pixel513",
         "rawType": "int64",
         "type": "integer"
        },
        {
         "name": "pixel514",
         "rawType": "int64",
         "type": "integer"
        },
        {
         "name": "pixel515",
         "rawType": "int64",
         "type": "integer"
        },
        {
         "name": "pixel516",
         "rawType": "int64",
         "type": "integer"
        },
        {
         "name": "pixel517",
         "rawType": "int64",
         "type": "integer"
        },
        {
         "name": "pixel518",
         "rawType": "int64",
         "type": "integer"
        },
        {
         "name": "pixel519",
         "rawType": "int64",
         "type": "integer"
        },
        {
         "name": "pixel520",
         "rawType": "int64",
         "type": "integer"
        },
        {
         "name": "pixel521",
         "rawType": "int64",
         "type": "integer"
        },
        {
         "name": "pixel522",
         "rawType": "int64",
         "type": "integer"
        },
        {
         "name": "pixel523",
         "rawType": "int64",
         "type": "integer"
        },
        {
         "name": "pixel524",
         "rawType": "int64",
         "type": "integer"
        },
        {
         "name": "pixel525",
         "rawType": "int64",
         "type": "integer"
        },
        {
         "name": "pixel526",
         "rawType": "int64",
         "type": "integer"
        },
        {
         "name": "pixel527",
         "rawType": "int64",
         "type": "integer"
        },
        {
         "name": "pixel528",
         "rawType": "int64",
         "type": "integer"
        },
        {
         "name": "pixel529",
         "rawType": "int64",
         "type": "integer"
        },
        {
         "name": "pixel530",
         "rawType": "int64",
         "type": "integer"
        },
        {
         "name": "pixel531",
         "rawType": "int64",
         "type": "integer"
        },
        {
         "name": "pixel532",
         "rawType": "int64",
         "type": "integer"
        },
        {
         "name": "pixel533",
         "rawType": "int64",
         "type": "integer"
        },
        {
         "name": "pixel534",
         "rawType": "int64",
         "type": "integer"
        },
        {
         "name": "pixel535",
         "rawType": "int64",
         "type": "integer"
        },
        {
         "name": "pixel536",
         "rawType": "int64",
         "type": "integer"
        },
        {
         "name": "pixel537",
         "rawType": "int64",
         "type": "integer"
        },
        {
         "name": "pixel538",
         "rawType": "int64",
         "type": "integer"
        },
        {
         "name": "pixel539",
         "rawType": "int64",
         "type": "integer"
        },
        {
         "name": "pixel540",
         "rawType": "int64",
         "type": "integer"
        },
        {
         "name": "pixel541",
         "rawType": "int64",
         "type": "integer"
        },
        {
         "name": "pixel542",
         "rawType": "int64",
         "type": "integer"
        },
        {
         "name": "pixel543",
         "rawType": "int64",
         "type": "integer"
        },
        {
         "name": "pixel544",
         "rawType": "int64",
         "type": "integer"
        },
        {
         "name": "pixel545",
         "rawType": "int64",
         "type": "integer"
        },
        {
         "name": "pixel546",
         "rawType": "int64",
         "type": "integer"
        },
        {
         "name": "pixel547",
         "rawType": "int64",
         "type": "integer"
        },
        {
         "name": "pixel548",
         "rawType": "int64",
         "type": "integer"
        },
        {
         "name": "pixel549",
         "rawType": "int64",
         "type": "integer"
        },
        {
         "name": "pixel550",
         "rawType": "int64",
         "type": "integer"
        },
        {
         "name": "pixel551",
         "rawType": "int64",
         "type": "integer"
        },
        {
         "name": "pixel552",
         "rawType": "int64",
         "type": "integer"
        },
        {
         "name": "pixel553",
         "rawType": "int64",
         "type": "integer"
        },
        {
         "name": "pixel554",
         "rawType": "int64",
         "type": "integer"
        },
        {
         "name": "pixel555",
         "rawType": "int64",
         "type": "integer"
        },
        {
         "name": "pixel556",
         "rawType": "int64",
         "type": "integer"
        },
        {
         "name": "pixel557",
         "rawType": "int64",
         "type": "integer"
        },
        {
         "name": "pixel558",
         "rawType": "int64",
         "type": "integer"
        },
        {
         "name": "pixel559",
         "rawType": "int64",
         "type": "integer"
        },
        {
         "name": "pixel560",
         "rawType": "int64",
         "type": "integer"
        },
        {
         "name": "pixel561",
         "rawType": "int64",
         "type": "integer"
        },
        {
         "name": "pixel562",
         "rawType": "int64",
         "type": "integer"
        },
        {
         "name": "pixel563",
         "rawType": "int64",
         "type": "integer"
        },
        {
         "name": "pixel564",
         "rawType": "int64",
         "type": "integer"
        },
        {
         "name": "pixel565",
         "rawType": "int64",
         "type": "integer"
        },
        {
         "name": "pixel566",
         "rawType": "int64",
         "type": "integer"
        },
        {
         "name": "pixel567",
         "rawType": "int64",
         "type": "integer"
        },
        {
         "name": "pixel568",
         "rawType": "int64",
         "type": "integer"
        },
        {
         "name": "pixel569",
         "rawType": "int64",
         "type": "integer"
        },
        {
         "name": "pixel570",
         "rawType": "int64",
         "type": "integer"
        },
        {
         "name": "pixel571",
         "rawType": "int64",
         "type": "integer"
        },
        {
         "name": "pixel572",
         "rawType": "int64",
         "type": "integer"
        },
        {
         "name": "pixel573",
         "rawType": "int64",
         "type": "integer"
        },
        {
         "name": "pixel574",
         "rawType": "int64",
         "type": "integer"
        },
        {
         "name": "pixel575",
         "rawType": "int64",
         "type": "integer"
        },
        {
         "name": "pixel576",
         "rawType": "int64",
         "type": "integer"
        },
        {
         "name": "pixel577",
         "rawType": "int64",
         "type": "integer"
        },
        {
         "name": "pixel578",
         "rawType": "int64",
         "type": "integer"
        },
        {
         "name": "pixel579",
         "rawType": "int64",
         "type": "integer"
        },
        {
         "name": "pixel580",
         "rawType": "int64",
         "type": "integer"
        },
        {
         "name": "pixel581",
         "rawType": "int64",
         "type": "integer"
        },
        {
         "name": "pixel582",
         "rawType": "int64",
         "type": "integer"
        },
        {
         "name": "pixel583",
         "rawType": "int64",
         "type": "integer"
        },
        {
         "name": "pixel584",
         "rawType": "int64",
         "type": "integer"
        },
        {
         "name": "pixel585",
         "rawType": "int64",
         "type": "integer"
        },
        {
         "name": "pixel586",
         "rawType": "int64",
         "type": "integer"
        },
        {
         "name": "pixel587",
         "rawType": "int64",
         "type": "integer"
        },
        {
         "name": "pixel588",
         "rawType": "int64",
         "type": "integer"
        },
        {
         "name": "pixel589",
         "rawType": "int64",
         "type": "integer"
        },
        {
         "name": "pixel590",
         "rawType": "int64",
         "type": "integer"
        },
        {
         "name": "pixel591",
         "rawType": "int64",
         "type": "integer"
        },
        {
         "name": "pixel592",
         "rawType": "int64",
         "type": "integer"
        },
        {
         "name": "pixel593",
         "rawType": "int64",
         "type": "integer"
        },
        {
         "name": "pixel594",
         "rawType": "int64",
         "type": "integer"
        },
        {
         "name": "pixel595",
         "rawType": "int64",
         "type": "integer"
        },
        {
         "name": "pixel596",
         "rawType": "int64",
         "type": "integer"
        },
        {
         "name": "pixel597",
         "rawType": "int64",
         "type": "integer"
        },
        {
         "name": "pixel598",
         "rawType": "int64",
         "type": "integer"
        },
        {
         "name": "pixel599",
         "rawType": "int64",
         "type": "integer"
        },
        {
         "name": "pixel600",
         "rawType": "int64",
         "type": "integer"
        },
        {
         "name": "pixel601",
         "rawType": "int64",
         "type": "integer"
        },
        {
         "name": "pixel602",
         "rawType": "int64",
         "type": "integer"
        },
        {
         "name": "pixel603",
         "rawType": "int64",
         "type": "integer"
        },
        {
         "name": "pixel604",
         "rawType": "int64",
         "type": "integer"
        },
        {
         "name": "pixel605",
         "rawType": "int64",
         "type": "integer"
        },
        {
         "name": "pixel606",
         "rawType": "int64",
         "type": "integer"
        },
        {
         "name": "pixel607",
         "rawType": "int64",
         "type": "integer"
        },
        {
         "name": "pixel608",
         "rawType": "int64",
         "type": "integer"
        },
        {
         "name": "pixel609",
         "rawType": "int64",
         "type": "integer"
        },
        {
         "name": "pixel610",
         "rawType": "int64",
         "type": "integer"
        },
        {
         "name": "pixel611",
         "rawType": "int64",
         "type": "integer"
        },
        {
         "name": "pixel612",
         "rawType": "int64",
         "type": "integer"
        },
        {
         "name": "pixel613",
         "rawType": "int64",
         "type": "integer"
        },
        {
         "name": "pixel614",
         "rawType": "int64",
         "type": "integer"
        },
        {
         "name": "pixel615",
         "rawType": "int64",
         "type": "integer"
        },
        {
         "name": "pixel616",
         "rawType": "int64",
         "type": "integer"
        },
        {
         "name": "pixel617",
         "rawType": "int64",
         "type": "integer"
        },
        {
         "name": "pixel618",
         "rawType": "int64",
         "type": "integer"
        },
        {
         "name": "pixel619",
         "rawType": "int64",
         "type": "integer"
        },
        {
         "name": "pixel620",
         "rawType": "int64",
         "type": "integer"
        },
        {
         "name": "pixel621",
         "rawType": "int64",
         "type": "integer"
        },
        {
         "name": "pixel622",
         "rawType": "int64",
         "type": "integer"
        },
        {
         "name": "pixel623",
         "rawType": "int64",
         "type": "integer"
        },
        {
         "name": "pixel624",
         "rawType": "int64",
         "type": "integer"
        },
        {
         "name": "pixel625",
         "rawType": "int64",
         "type": "integer"
        },
        {
         "name": "pixel626",
         "rawType": "int64",
         "type": "integer"
        },
        {
         "name": "pixel627",
         "rawType": "int64",
         "type": "integer"
        },
        {
         "name": "pixel628",
         "rawType": "int64",
         "type": "integer"
        },
        {
         "name": "pixel629",
         "rawType": "int64",
         "type": "integer"
        },
        {
         "name": "pixel630",
         "rawType": "int64",
         "type": "integer"
        },
        {
         "name": "pixel631",
         "rawType": "int64",
         "type": "integer"
        },
        {
         "name": "pixel632",
         "rawType": "int64",
         "type": "integer"
        },
        {
         "name": "pixel633",
         "rawType": "int64",
         "type": "integer"
        },
        {
         "name": "pixel634",
         "rawType": "int64",
         "type": "integer"
        },
        {
         "name": "pixel635",
         "rawType": "int64",
         "type": "integer"
        },
        {
         "name": "pixel636",
         "rawType": "int64",
         "type": "integer"
        },
        {
         "name": "pixel637",
         "rawType": "int64",
         "type": "integer"
        },
        {
         "name": "pixel638",
         "rawType": "int64",
         "type": "integer"
        },
        {
         "name": "pixel639",
         "rawType": "int64",
         "type": "integer"
        },
        {
         "name": "pixel640",
         "rawType": "int64",
         "type": "integer"
        },
        {
         "name": "pixel641",
         "rawType": "int64",
         "type": "integer"
        },
        {
         "name": "pixel642",
         "rawType": "int64",
         "type": "integer"
        },
        {
         "name": "pixel643",
         "rawType": "int64",
         "type": "integer"
        },
        {
         "name": "pixel644",
         "rawType": "int64",
         "type": "integer"
        },
        {
         "name": "pixel645",
         "rawType": "int64",
         "type": "integer"
        },
        {
         "name": "pixel646",
         "rawType": "int64",
         "type": "integer"
        },
        {
         "name": "pixel647",
         "rawType": "int64",
         "type": "integer"
        },
        {
         "name": "pixel648",
         "rawType": "int64",
         "type": "integer"
        },
        {
         "name": "pixel649",
         "rawType": "int64",
         "type": "integer"
        },
        {
         "name": "pixel650",
         "rawType": "int64",
         "type": "integer"
        },
        {
         "name": "pixel651",
         "rawType": "int64",
         "type": "integer"
        },
        {
         "name": "pixel652",
         "rawType": "int64",
         "type": "integer"
        },
        {
         "name": "pixel653",
         "rawType": "int64",
         "type": "integer"
        },
        {
         "name": "pixel654",
         "rawType": "int64",
         "type": "integer"
        },
        {
         "name": "pixel655",
         "rawType": "int64",
         "type": "integer"
        },
        {
         "name": "pixel656",
         "rawType": "int64",
         "type": "integer"
        },
        {
         "name": "pixel657",
         "rawType": "int64",
         "type": "integer"
        },
        {
         "name": "pixel658",
         "rawType": "int64",
         "type": "integer"
        },
        {
         "name": "pixel659",
         "rawType": "int64",
         "type": "integer"
        },
        {
         "name": "pixel660",
         "rawType": "int64",
         "type": "integer"
        },
        {
         "name": "pixel661",
         "rawType": "int64",
         "type": "integer"
        },
        {
         "name": "pixel662",
         "rawType": "int64",
         "type": "integer"
        },
        {
         "name": "pixel663",
         "rawType": "int64",
         "type": "integer"
        },
        {
         "name": "pixel664",
         "rawType": "int64",
         "type": "integer"
        },
        {
         "name": "pixel665",
         "rawType": "int64",
         "type": "integer"
        },
        {
         "name": "pixel666",
         "rawType": "int64",
         "type": "integer"
        },
        {
         "name": "pixel667",
         "rawType": "int64",
         "type": "integer"
        },
        {
         "name": "pixel668",
         "rawType": "int64",
         "type": "integer"
        },
        {
         "name": "pixel669",
         "rawType": "int64",
         "type": "integer"
        },
        {
         "name": "pixel670",
         "rawType": "int64",
         "type": "integer"
        },
        {
         "name": "pixel671",
         "rawType": "int64",
         "type": "integer"
        },
        {
         "name": "pixel672",
         "rawType": "int64",
         "type": "integer"
        },
        {
         "name": "pixel673",
         "rawType": "int64",
         "type": "integer"
        },
        {
         "name": "pixel674",
         "rawType": "int64",
         "type": "integer"
        },
        {
         "name": "pixel675",
         "rawType": "int64",
         "type": "integer"
        },
        {
         "name": "pixel676",
         "rawType": "int64",
         "type": "integer"
        },
        {
         "name": "pixel677",
         "rawType": "int64",
         "type": "integer"
        },
        {
         "name": "pixel678",
         "rawType": "int64",
         "type": "integer"
        },
        {
         "name": "pixel679",
         "rawType": "int64",
         "type": "integer"
        },
        {
         "name": "pixel680",
         "rawType": "int64",
         "type": "integer"
        },
        {
         "name": "pixel681",
         "rawType": "int64",
         "type": "integer"
        },
        {
         "name": "pixel682",
         "rawType": "int64",
         "type": "integer"
        },
        {
         "name": "pixel683",
         "rawType": "int64",
         "type": "integer"
        },
        {
         "name": "pixel684",
         "rawType": "int64",
         "type": "integer"
        },
        {
         "name": "pixel685",
         "rawType": "int64",
         "type": "integer"
        },
        {
         "name": "pixel686",
         "rawType": "int64",
         "type": "integer"
        },
        {
         "name": "pixel687",
         "rawType": "int64",
         "type": "integer"
        },
        {
         "name": "pixel688",
         "rawType": "int64",
         "type": "integer"
        },
        {
         "name": "pixel689",
         "rawType": "int64",
         "type": "integer"
        },
        {
         "name": "pixel690",
         "rawType": "int64",
         "type": "integer"
        },
        {
         "name": "pixel691",
         "rawType": "int64",
         "type": "integer"
        },
        {
         "name": "pixel692",
         "rawType": "int64",
         "type": "integer"
        },
        {
         "name": "pixel693",
         "rawType": "int64",
         "type": "integer"
        },
        {
         "name": "pixel694",
         "rawType": "int64",
         "type": "integer"
        },
        {
         "name": "pixel695",
         "rawType": "int64",
         "type": "integer"
        },
        {
         "name": "pixel696",
         "rawType": "int64",
         "type": "integer"
        },
        {
         "name": "pixel697",
         "rawType": "int64",
         "type": "integer"
        },
        {
         "name": "pixel698",
         "rawType": "int64",
         "type": "integer"
        },
        {
         "name": "pixel699",
         "rawType": "int64",
         "type": "integer"
        },
        {
         "name": "pixel700",
         "rawType": "int64",
         "type": "integer"
        },
        {
         "name": "pixel701",
         "rawType": "int64",
         "type": "integer"
        },
        {
         "name": "pixel702",
         "rawType": "int64",
         "type": "integer"
        },
        {
         "name": "pixel703",
         "rawType": "int64",
         "type": "integer"
        },
        {
         "name": "pixel704",
         "rawType": "int64",
         "type": "integer"
        },
        {
         "name": "pixel705",
         "rawType": "int64",
         "type": "integer"
        },
        {
         "name": "pixel706",
         "rawType": "int64",
         "type": "integer"
        },
        {
         "name": "pixel707",
         "rawType": "int64",
         "type": "integer"
        },
        {
         "name": "pixel708",
         "rawType": "int64",
         "type": "integer"
        },
        {
         "name": "pixel709",
         "rawType": "int64",
         "type": "integer"
        },
        {
         "name": "pixel710",
         "rawType": "int64",
         "type": "integer"
        },
        {
         "name": "pixel711",
         "rawType": "int64",
         "type": "integer"
        },
        {
         "name": "pixel712",
         "rawType": "int64",
         "type": "integer"
        },
        {
         "name": "pixel713",
         "rawType": "int64",
         "type": "integer"
        },
        {
         "name": "pixel714",
         "rawType": "int64",
         "type": "integer"
        },
        {
         "name": "pixel715",
         "rawType": "int64",
         "type": "integer"
        },
        {
         "name": "pixel716",
         "rawType": "int64",
         "type": "integer"
        },
        {
         "name": "pixel717",
         "rawType": "int64",
         "type": "integer"
        },
        {
         "name": "pixel718",
         "rawType": "int64",
         "type": "integer"
        },
        {
         "name": "pixel719",
         "rawType": "int64",
         "type": "integer"
        },
        {
         "name": "pixel720",
         "rawType": "int64",
         "type": "integer"
        },
        {
         "name": "pixel721",
         "rawType": "int64",
         "type": "integer"
        },
        {
         "name": "pixel722",
         "rawType": "int64",
         "type": "integer"
        },
        {
         "name": "pixel723",
         "rawType": "int64",
         "type": "integer"
        },
        {
         "name": "pixel724",
         "rawType": "int64",
         "type": "integer"
        },
        {
         "name": "pixel725",
         "rawType": "int64",
         "type": "integer"
        },
        {
         "name": "pixel726",
         "rawType": "int64",
         "type": "integer"
        },
        {
         "name": "pixel727",
         "rawType": "int64",
         "type": "integer"
        },
        {
         "name": "pixel728",
         "rawType": "int64",
         "type": "integer"
        },
        {
         "name": "pixel729",
         "rawType": "int64",
         "type": "integer"
        },
        {
         "name": "pixel730",
         "rawType": "int64",
         "type": "integer"
        },
        {
         "name": "pixel731",
         "rawType": "int64",
         "type": "integer"
        },
        {
         "name": "pixel732",
         "rawType": "int64",
         "type": "integer"
        },
        {
         "name": "pixel733",
         "rawType": "int64",
         "type": "integer"
        },
        {
         "name": "pixel734",
         "rawType": "int64",
         "type": "integer"
        },
        {
         "name": "pixel735",
         "rawType": "int64",
         "type": "integer"
        },
        {
         "name": "pixel736",
         "rawType": "int64",
         "type": "integer"
        },
        {
         "name": "pixel737",
         "rawType": "int64",
         "type": "integer"
        },
        {
         "name": "pixel738",
         "rawType": "int64",
         "type": "integer"
        },
        {
         "name": "pixel739",
         "rawType": "int64",
         "type": "integer"
        },
        {
         "name": "pixel740",
         "rawType": "int64",
         "type": "integer"
        },
        {
         "name": "pixel741",
         "rawType": "int64",
         "type": "integer"
        },
        {
         "name": "pixel742",
         "rawType": "int64",
         "type": "integer"
        },
        {
         "name": "pixel743",
         "rawType": "int64",
         "type": "integer"
        },
        {
         "name": "pixel744",
         "rawType": "int64",
         "type": "integer"
        },
        {
         "name": "pixel745",
         "rawType": "int64",
         "type": "integer"
        },
        {
         "name": "pixel746",
         "rawType": "int64",
         "type": "integer"
        },
        {
         "name": "pixel747",
         "rawType": "int64",
         "type": "integer"
        },
        {
         "name": "pixel748",
         "rawType": "int64",
         "type": "integer"
        },
        {
         "name": "pixel749",
         "rawType": "int64",
         "type": "integer"
        },
        {
         "name": "pixel750",
         "rawType": "int64",
         "type": "integer"
        },
        {
         "name": "pixel751",
         "rawType": "int64",
         "type": "integer"
        },
        {
         "name": "pixel752",
         "rawType": "int64",
         "type": "integer"
        },
        {
         "name": "pixel753",
         "rawType": "int64",
         "type": "integer"
        },
        {
         "name": "pixel754",
         "rawType": "int64",
         "type": "integer"
        },
        {
         "name": "pixel755",
         "rawType": "int64",
         "type": "integer"
        },
        {
         "name": "pixel756",
         "rawType": "int64",
         "type": "integer"
        },
        {
         "name": "pixel757",
         "rawType": "int64",
         "type": "integer"
        },
        {
         "name": "pixel758",
         "rawType": "int64",
         "type": "integer"
        },
        {
         "name": "pixel759",
         "rawType": "int64",
         "type": "integer"
        },
        {
         "name": "pixel760",
         "rawType": "int64",
         "type": "integer"
        },
        {
         "name": "pixel761",
         "rawType": "int64",
         "type": "integer"
        },
        {
         "name": "pixel762",
         "rawType": "int64",
         "type": "integer"
        },
        {
         "name": "pixel763",
         "rawType": "int64",
         "type": "integer"
        },
        {
         "name": "pixel764",
         "rawType": "int64",
         "type": "integer"
        },
        {
         "name": "pixel765",
         "rawType": "int64",
         "type": "integer"
        },
        {
         "name": "pixel766",
         "rawType": "int64",
         "type": "integer"
        },
        {
         "name": "pixel767",
         "rawType": "int64",
         "type": "integer"
        },
        {
         "name": "pixel768",
         "rawType": "int64",
         "type": "integer"
        },
        {
         "name": "pixel769",
         "rawType": "int64",
         "type": "integer"
        },
        {
         "name": "pixel770",
         "rawType": "int64",
         "type": "integer"
        },
        {
         "name": "pixel771",
         "rawType": "int64",
         "type": "integer"
        },
        {
         "name": "pixel772",
         "rawType": "int64",
         "type": "integer"
        },
        {
         "name": "pixel773",
         "rawType": "int64",
         "type": "integer"
        },
        {
         "name": "pixel774",
         "rawType": "int64",
         "type": "integer"
        },
        {
         "name": "pixel775",
         "rawType": "int64",
         "type": "integer"
        },
        {
         "name": "pixel776",
         "rawType": "int64",
         "type": "integer"
        },
        {
         "name": "pixel777",
         "rawType": "int64",
         "type": "integer"
        },
        {
         "name": "pixel778",
         "rawType": "int64",
         "type": "integer"
        },
        {
         "name": "pixel779",
         "rawType": "int64",
         "type": "integer"
        },
        {
         "name": "pixel780",
         "rawType": "int64",
         "type": "integer"
        },
        {
         "name": "pixel781",
         "rawType": "int64",
         "type": "integer"
        },
        {
         "name": "pixel782",
         "rawType": "int64",
         "type": "integer"
        },
        {
         "name": "pixel783",
         "rawType": "int64",
         "type": "integer"
        }
       ],
       "conversionMethod": "pd.DataFrame",
       "ref": "0825d817-aa68-48ca-8a2a-46d9c9fc33a8",
       "rows": [
        [
         "0",
         "0",
         "0",
         "0",
         "0",
         "0",
         "0",
         "0",
         "0",
         "0",
         "0",
         "0",
         "0",
         "0",
         "0",
         "0",
         "0",
         "0",
         "0",
         "0",
         "0",
         "0",
         "0",
         "0",
         "0",
         "0",
         "0",
         "0",
         "0",
         "0",
         "0",
         "0",
         "0",
         "0",
         "0",
         "0",
         "0",
         "0",
         "0",
         "0",
         "0",
         "0",
         "0",
         "0",
         "0",
         "0",
         "0",
         "0",
         "0",
         "0",
         "0",
         "0",
         "0",
         "0",
         "0",
         "0",
         "0",
         "0",
         "0",
         "0",
         "0",
         "0",
         "0",
         "0",
         "0",
         "0",
         "0",
         "0",
         "0",
         "0",
         "0",
         "0",
         "0",
         "0",
         "0",
         "0",
         "0",
         "0",
         "0",
         "0",
         "0",
         "0",
         "0",
         "0",
         "0",
         "0",
         "0",
         "0",
         "0",
         "0",
         "0",
         "0",
         "0",
         "0",
         "0",
         "0",
         "0",
         "0",
         "0",
         "0",
         "0",
         "0",
         "0",
         "0",
         "0",
         "0",
         "0",
         "0",
         "0",
         "0",
         "0",
         "0",
         "0",
         "0",
         "0",
         "0",
         "0",
         "0",
         "0",
         "0",
         "0",
         "0",
         "0",
         "10",
         "17",
         "17",
         "17",
         "17",
         "81",
         "180",
         "180",
         "35",
         "0",
         "0",
         "0",
         "0",
         "0",
         "0",
         "0",
         "0",
         "0",
         "0",
         "0",
         "0",
         "0",
         "0",
         "0",
         "0",
         "0",
         "0",
         "0",
         "139",
         "253",
         "253",
         "253",
         "253",
         "253",
         "253",
         "253",
         "48",
         "0",
         "0",
         "0",
         "0",
         "0",
         "0",
         "0",
         "0",
         "0",
         "0",
         "0",
         "0",
         "0",
         "0",
         "0",
         "0",
         "0",
         "0",
         "60",
         "228",
         "253",
         "253",
         "253",
         "253",
         "253",
         "253",
         "253",
         "207",
         "197",
         "46",
         "0",
         "0",
         "0",
         "0",
         "0",
         "0",
         "0",
         "0",
         "0",
         "0",
         "0",
         "0",
         "0",
         "0",
         "0",
         "0",
         "213",
         "253",
         "253",
         "253",
         "253",
         "253",
         "253",
         "253",
         "253",
         "253",
         "253",
         "223",
         "52",
         "0",
         "0",
         "0",
         "0",
         "0",
         "0",
         "0",
         "0",
         "0",
         "0",
         "0",
         "0",
         "0",
         "0",
         "0",
         "66",
         "231",
         "253",
         "253",
         "253",
         "108",
         "40",
         "40",
         "115",
         "244",
         "253",
         "253",
         "134",
         "3",
         "0",
         "0",
         "0",
         "0",
         "0",
         "0",
         "0",
         "0",
         "0",
         "0",
         "0",
         "0",
         "0",
         "0",
         "0",
         "63",
         "114",
         "114",
         "114",
         "37",
         "0",
         "0",
         "0",
         "205",
         "253",
         "253",
         "253",
         "15",
         "0",
         "0",
         "0",
         "0",
         "0",
         "0",
         "0",
         "0",
         "0",
         "0",
         "0",
         "0",
         "0",
         "0",
         "0",
         "0",
         "0",
         "0",
         "0",
         "0",
         "0",
         "0",
         "0",
         "57",
         "253",
         "253",
         "253",
         "15",
         "0",
         "0",
         "0",
         "0",
         "0",
         "0",
         "0",
         "0",
         "0",
         "0",
         "0",
         "0",
         "0",
         "0",
         "0",
         "0",
         "0",
         "0",
         "0",
         "0",
         "0",
         "0",
         "0",
         "42",
         "253",
         "253",
         "253",
         "15",
         "0",
         "0",
         "0",
         "0",
         "0",
         "0",
         "0",
         "0",
         "0",
         "0",
         "0",
         "0",
         "0",
         "0",
         "0",
         "0",
         "0",
         "0",
         "0",
         "0",
         "0",
         "0",
         "0",
         "95",
         "253",
         "253",
         "253",
         "15",
         "0",
         "0",
         "0",
         "0",
         "0",
         "0",
         "0",
         "0",
         "0",
         "0",
         "0",
         "0",
         "0",
         "0",
         "0",
         "0",
         "0",
         "0",
         "0",
         "0",
         "0",
         "0",
         "0",
         "205",
         "253",
         "253",
         "253",
         "15",
         "0",
         "0",
         "0",
         "0",
         "0",
         "0",
         "0",
         "0",
         "0",
         "0",
         "0",
         "0",
         "0",
         "0",
         "0",
         "0",
         "0",
         "61",
         "99",
         "96",
         "0",
         "0",
         "45",
         "224",
         "253",
         "253",
         "195",
         "10",
         "0",
         "0",
         "0",
         "0",
         "0",
         "0",
         "0",
         "0",
         "0",
         "0",
         "0",
         "11",
         "25",
         "105",
         "83",
         "189",
         "189",
         "228",
         "253",
         "251",
         "189",
         "189",
         "218",
         "253",
         "253",
         "210",
         "27",
         "0",
         "0",
         "0",
         "0",
         "0",
         "0",
         "0",
         "0",
         "0",
         "0",
         "42",
         "116",
         "173",
         "253",
         "253",
         "253",
         "253",
         "253",
         "253",
         "253",
         "253",
         "253",
         "253",
         "253",
         "253",
         "253",
         "221",
         "116",
         "7",
         "0",
         "0",
         "0",
         "0",
         "0",
         "0",
         "0",
         "0",
         "0",
         "118",
         "253",
         "253",
         "253",
         "253",
         "245",
         "212",
         "222",
         "253",
         "253",
         "253",
         "253",
         "253",
         "253",
         "253",
         "253",
         "253",
         "253",
         "160",
         "15",
         "0",
         "0",
         "0",
         "0",
         "0",
         "0",
         "0",
         "0",
         "254",
         "253",
         "253",
         "253",
         "189",
         "99",
         "0",
         "32",
         "202",
         "253",
         "253",
         "253",
         "240",
         "122",
         "122",
         "190",
         "253",
         "253",
         "253",
         "174",
         "0",
         "0",
         "0",
         "0",
         "0",
         "0",
         "0",
         "0",
         "255",
         "253",
         "253",
         "253",
         "238",
         "222",
         "222",
         "222",
         "241",
         "253",
         "253",
         "230",
         "70",
         "0",
         "0",
         "17",
         "175",
         "229",
         "253",
         "253",
         "0",
         "0",
         "0",
         "0",
         "0",
         "0",
         "0",
         "0",
         "158",
         "253",
         "253",
         "253",
         "253",
         "253",
         "253",
         "253",
         "253",
         "205",
         "106",
         "65",
         "0",
         "0",
         "0",
         "0",
         "0",
         "62",
         "244",
         "157",
         "0",
         "0",
         "0",
         "0",
         "0",
         "0",
         "0",
         "0",
         "6",
         "26",
         "179",
         "179",
         "179",
         "179",
         "179",
         "30",
         "15",
         "10",
         "0",
         "0",
         "0",
         "0",
         "0",
         "0",
         "0",
         "0",
         "14",
         "6",
         "0",
         "0",
         "0",
         "0",
         "0",
         "0",
         "0",
         "0",
         "0",
         "0",
         "0",
         "0",
         "0",
         "0",
         "0",
         "0",
         "0",
         "0",
         "0",
         "0",
         "0",
         "0",
         "0",
         "0",
         "0",
         "0",
         "0",
         "0",
         "0",
         "0",
         "0",
         "0",
         "0",
         "0",
         "0",
         "0",
         "0",
         "0",
         "0",
         "0",
         "0",
         "0",
         "0",
         "0",
         "0",
         "0",
         "0",
         "0",
         "0",
         "0",
         "0",
         "0",
         "0",
         "0",
         "0",
         "0",
         "0",
         "0",
         "0",
         "0",
         "0",
         "0",
         "0",
         "0",
         "0",
         "0",
         "0",
         "0",
         "0",
         "0",
         "0",
         "0",
         "0",
         "0",
         "0",
         "0",
         "0",
         "0",
         "0",
         "0",
         "0",
         "0",
         "0",
         "0",
         "0",
         "0",
         "0",
         "0",
         "0",
         "0",
         "0",
         "0",
         "0",
         "0",
         "0",
         "0",
         "0",
         "0",
         "0",
         "0",
         "0",
         "0",
         "0",
         "0",
         "0",
         "0",
         "0",
         "0",
         "0",
         "0",
         "0",
         "0",
         "0",
         "0",
         "0",
         "0",
         "0",
         "0",
         "0",
         "0",
         "0",
         "0",
         "0",
         "0",
         "0",
         "0",
         "0",
         "0",
         "0",
         "0",
         "0",
         "0",
         "0",
         "0",
         "0",
         "0",
         "0",
         "0",
         "0",
         "0",
         "0",
         "0",
         "0",
         "0",
         "0",
         "0",
         "0",
         "0",
         "0",
         "0",
         "0",
         "0",
         "0",
         "0",
         "0",
         "0",
         "0",
         "0",
         "0",
         "0",
         "0",
         "0",
         "0",
         "0",
         "0",
         "0",
         "0",
         "0",
         "0",
         "0",
         "0",
         "0"
        ],
        [
         "1",
         "0",
         "0",
         "0",
         "0",
         "0",
         "0",
         "0",
         "0",
         "0",
         "0",
         "0",
         "0",
         "0",
         "0",
         "0",
         "0",
         "0",
         "0",
         "0",
         "0",
         "0",
         "0",
         "0",
         "0",
         "0",
         "0",
         "0",
         "0",
         "0",
         "0",
         "0",
         "0",
         "0",
         "0",
         "0",
         "0",
         "0",
         "0",
         "0",
         "0",
         "0",
         "0",
         "0",
         "0",
         "0",
         "0",
         "0",
         "0",
         "0",
         "0",
         "0",
         "0",
         "0",
         "0",
         "0",
         "0",
         "0",
         "0",
         "0",
         "0",
         "0",
         "0",
         "0",
         "0",
         "0",
         "0",
         "0",
         "0",
         "0",
         "0",
         "0",
         "0",
         "0",
         "0",
         "0",
         "0",
         "0",
         "0",
         "0",
         "0",
         "0",
         "0",
         "0",
         "0",
         "0",
         "0",
         "0",
         "0",
         "0",
         "0",
         "0",
         "0",
         "0",
         "0",
         "0",
         "0",
         "0",
         "0",
         "0",
         "0",
         "0",
         "0",
         "0",
         "0",
         "0",
         "0",
         "0",
         "0",
         "0",
         "0",
         "0",
         "0",
         "0",
         "0",
         "0",
         "0",
         "0",
         "0",
         "0",
         "0",
         "0",
         "0",
         "0",
         "0",
         "0",
         "0",
         "0",
         "0",
         "0",
         "0",
         "0",
         "0",
         "0",
         "0",
         "0",
         "0",
         "0",
         "0",
         "0",
         "0",
         "0",
         "0",
         "0",
         "0",
         "0",
         "0",
         "0",
         "0",
         "0",
         "0",
         "0",
         "0",
         "0",
         "0",
         "0",
         "0",
         "0",
         "0",
         "0",
         "0",
         "0",
         "0",
         "0",
         "0",
         "0",
         "0",
         "0",
         "0",
         "0",
         "0",
         "0",
         "0",
         "0",
         "0",
         "0",
         "0",
         "0",
         "0",
         "0",
         "29",
         "85",
         "85",
         "85",
         "85",
         "85",
         "85",
         "85",
         "85",
         "71",
         "0",
         "0",
         "0",
         "0",
         "0",
         "0",
         "0",
         "0",
         "0",
         "0",
         "0",
         "0",
         "0",
         "0",
         "0",
         "0",
         "107",
         "128",
         "168",
         "250",
         "250",
         "250",
         "252",
         "250",
         "250",
         "250",
         "250",
         "231",
         "127",
         "63",
         "0",
         "0",
         "0",
         "0",
         "0",
         "0",
         "0",
         "0",
         "0",
         "0",
         "0",
         "0",
         "85",
         "168",
         "237",
         "252",
         "250",
         "250",
         "250",
         "250",
         "252",
         "250",
         "250",
         "250",
         "250",
         "252",
         "250",
         "209",
         "56",
         "0",
         "0",
         "0",
         "0",
         "0",
         "0",
         "0",
         "0",
         "0",
         "0",
         "0",
         "127",
         "250",
         "250",
         "252",
         "250",
         "250",
         "250",
         "250",
         "252",
         "250",
         "250",
         "250",
         "250",
         "252",
         "250",
         "250",
         "83",
         "0",
         "0",
         "0",
         "0",
         "0",
         "0",
         "0",
         "0",
         "0",
         "8",
         "113",
         "252",
         "252",
         "252",
         "247",
         "210",
         "210",
         "210",
         "210",
         "177",
         "0",
         "0",
         "0",
         "0",
         "43",
         "252",
         "252",
         "83",
         "0",
         "0",
         "0",
         "0",
         "0",
         "0",
         "0",
         "0",
         "0",
         "43",
         "250",
         "250",
         "250",
         "250",
         "210",
         "0",
         "0",
         "0",
         "0",
         "0",
         "0",
         "0",
         "0",
         "0",
         "28",
         "194",
         "250",
         "138",
         "14",
         "0",
         "0",
         "0",
         "0",
         "0",
         "0",
         "0",
         "0",
         "43",
         "250",
         "250",
         "250",
         "250",
         "210",
         "0",
         "0",
         "0",
         "0",
         "0",
         "0",
         "0",
         "0",
         "0",
         "0",
         "85",
         "250",
         "250",
         "41",
         "0",
         "0",
         "0",
         "0",
         "0",
         "0",
         "0",
         "0",
         "43",
         "250",
         "250",
         "137",
         "83",
         "70",
         "0",
         "0",
         "0",
         "0",
         "0",
         "0",
         "0",
         "0",
         "0",
         "0",
         "28",
         "167",
         "250",
         "41",
         "0",
         "0",
         "0",
         "0",
         "0",
         "0",
         "0",
         "0",
         "219",
         "250",
         "144",
         "14",
         "0",
         "0",
         "0",
         "0",
         "0",
         "0",
         "0",
         "0",
         "0",
         "0",
         "0",
         "0",
         "0",
         "127",
         "250",
         "217",
         "0",
         "0",
         "0",
         "0",
         "0",
         "0",
         "0",
         "0",
         "254",
         "238",
         "105",
         "0",
         "0",
         "0",
         "0",
         "0",
         "0",
         "0",
         "0",
         "0",
         "0",
         "0",
         "0",
         "0",
         "15",
         "148",
         "252",
         "252",
         "0",
         "0",
         "0",
         "0",
         "0",
         "0",
         "0",
         "0",
         "252",
         "166",
         "0",
         "0",
         "0",
         "0",
         "0",
         "0",
         "0",
         "0",
         "0",
         "0",
         "0",
         "0",
         "0",
         "85",
         "140",
         "250",
         "250",
         "179",
         "0",
         "0",
         "0",
         "0",
         "0",
         "0",
         "0",
         "0",
         "252",
         "208",
         "63",
         "0",
         "0",
         "0",
         "0",
         "0",
         "0",
         "0",
         "0",
         "0",
         "0",
         "85",
         "127",
         "252",
         "250",
         "250",
         "250",
         "41",
         "0",
         "0",
         "0",
         "0",
         "0",
         "0",
         "0",
         "0",
         "252",
         "250",
         "209",
         "56",
         "0",
         "0",
         "0",
         "0",
         "0",
         "141",
         "170",
         "168",
         "168",
         "223",
         "250",
         "252",
         "250",
         "250",
         "137",
         "14",
         "0",
         "0",
         "0",
         "0",
         "0",
         "0",
         "0",
         "0",
         "252",
         "250",
         "250",
         "223",
         "210",
         "212",
         "210",
         "210",
         "210",
         "244",
         "252",
         "250",
         "250",
         "250",
         "250",
         "252",
         "250",
         "144",
         "14",
         "0",
         "0",
         "0",
         "0",
         "0",
         "0",
         "0",
         "0",
         "0",
         "43",
         "252",
         "252",
         "252",
         "252",
         "254",
         "252",
         "252",
         "252",
         "252",
         "255",
         "252",
         "252",
         "252",
         "217",
         "177",
         "0",
         "0",
         "0",
         "0",
         "0",
         "0",
         "0",
         "0",
         "0",
         "0",
         "0",
         "0",
         "28",
         "166",
         "208",
         "250",
         "250",
         "252",
         "250",
         "250",
         "250",
         "250",
         "238",
         "166",
         "166",
         "166",
         "27",
         "0",
         "0",
         "0",
         "0",
         "0",
         "0",
         "0",
         "0",
         "0",
         "0",
         "0",
         "0",
         "0",
         "0",
         "0",
         "63",
         "125",
         "125",
         "146",
         "250",
         "250",
         "165",
         "125",
         "105",
         "0",
         "0",
         "0",
         "0",
         "0",
         "0",
         "0",
         "0",
         "0",
         "0",
         "0",
         "0",
         "0",
         "0",
         "0",
         "0",
         "0",
         "0",
         "0",
         "0",
         "0",
         "0",
         "14",
         "83",
         "83",
         "27",
         "0",
         "0",
         "0",
         "0",
         "0",
         "0",
         "0",
         "0",
         "0",
         "0",
         "0",
         "0",
         "0",
         "0",
         "0",
         "0",
         "0",
         "0",
         "0",
         "0",
         "0",
         "0",
         "0",
         "0",
         "0",
         "0",
         "0",
         "0",
         "0",
         "0",
         "0",
         "0",
         "0",
         "0",
         "0",
         "0",
         "0",
         "0",
         "0",
         "0",
         "0",
         "0",
         "0",
         "0",
         "0",
         "0",
         "0",
         "0",
         "0",
         "0",
         "0",
         "0",
         "0",
         "0",
         "0",
         "0",
         "0",
         "0",
         "0",
         "0",
         "0",
         "0",
         "0",
         "0",
         "0",
         "0",
         "0",
         "0",
         "0",
         "0",
         "0",
         "0",
         "0",
         "0",
         "0",
         "0",
         "0",
         "0",
         "0",
         "0",
         "0",
         "0",
         "0",
         "0",
         "0",
         "0",
         "0",
         "0",
         "0",
         "0",
         "0",
         "0",
         "0",
         "0",
         "0",
         "0",
         "0",
         "0",
         "0",
         "0",
         "0",
         "0",
         "0",
         "0",
         "0",
         "0",
         "0",
         "0",
         "0",
         "0",
         "0",
         "0",
         "0",
         "0",
         "0",
         "0",
         "0",
         "0",
         "0",
         "0",
         "0",
         "0",
         "0",
         "0",
         "0",
         "0"
        ],
        [
         "2",
         "0",
         "0",
         "0",
         "0",
         "0",
         "0",
         "0",
         "0",
         "0",
         "0",
         "0",
         "0",
         "0",
         "0",
         "0",
         "0",
         "0",
         "0",
         "0",
         "0",
         "0",
         "0",
         "0",
         "0",
         "0",
         "0",
         "0",
         "0",
         "0",
         "0",
         "0",
         "0",
         "0",
         "0",
         "0",
         "0",
         "0",
         "0",
         "0",
         "0",
         "0",
         "0",
         "0",
         "0",
         "0",
         "0",
         "0",
         "0",
         "0",
         "0",
         "0",
         "0",
         "0",
         "0",
         "0",
         "0",
         "0",
         "0",
         "0",
         "0",
         "0",
         "0",
         "0",
         "0",
         "0",
         "0",
         "0",
         "0",
         "0",
         "0",
         "0",
         "0",
         "0",
         "0",
         "0",
         "0",
         "0",
         "0",
         "0",
         "0",
         "0",
         "0",
         "0",
         "0",
         "0",
         "0",
         "0",
         "0",
         "0",
         "0",
         "0",
         "0",
         "0",
         "0",
         "0",
         "0",
         "0",
         "0",
         "0",
         "0",
         "0",
         "0",
         "0",
         "0",
         "0",
         "0",
         "0",
         "0",
         "0",
         "0",
         "0",
         "0",
         "0",
         "0",
         "0",
         "0",
         "0",
         "0",
         "0",
         "0",
         "0",
         "0",
         "0",
         "0",
         "0",
         "0",
         "0",
         "0",
         "0",
         "0",
         "0",
         "0",
         "0",
         "0",
         "0",
         "0",
         "0",
         "0",
         "0",
         "0",
         "0",
         "0",
         "0",
         "0",
         "0",
         "0",
         "0",
         "0",
         "0",
         "0",
         "0",
         "0",
         "0",
         "0",
         "0",
         "0",
         "0",
         "0",
         "0",
         "0",
         "0",
         "0",
         "0",
         "0",
         "0",
         "0",
         "0",
         "0",
         "0",
         "0",
         "0",
         "0",
         "0",
         "0",
         "0",
         "0",
         "0",
         "0",
         "0",
         "0",
         "0",
         "6",
         "100",
         "213",
         "254",
         "245",
         "255",
         "149",
         "17",
         "0",
         "0",
         "0",
         "0",
         "0",
         "0",
         "0",
         "0",
         "0",
         "0",
         "0",
         "0",
         "0",
         "0",
         "0",
         "0",
         "0",
         "0",
         "0",
         "26",
         "181",
         "233",
         "102",
         "40",
         "29",
         "102",
         "166",
         "187",
         "0",
         "0",
         "0",
         "0",
         "0",
         "0",
         "0",
         "0",
         "0",
         "0",
         "0",
         "0",
         "0",
         "0",
         "0",
         "0",
         "0",
         "0",
         "57",
         "236",
         "181",
         "35",
         "0",
         "0",
         "0",
         "0",
         "12",
         "207",
         "13",
         "0",
         "0",
         "0",
         "0",
         "0",
         "0",
         "0",
         "0",
         "0",
         "0",
         "0",
         "0",
         "0",
         "0",
         "0",
         "0",
         "27",
         "228",
         "187",
         "0",
         "0",
         "0",
         "0",
         "0",
         "0",
         "96",
         "225",
         "9",
         "0",
         "0",
         "0",
         "0",
         "0",
         "0",
         "0",
         "0",
         "0",
         "0",
         "0",
         "0",
         "0",
         "0",
         "0",
         "0",
         "167",
         "230",
         "18",
         "0",
         "0",
         "0",
         "0",
         "0",
         "74",
         "242",
         "106",
         "0",
         "0",
         "0",
         "0",
         "0",
         "0",
         "0",
         "0",
         "0",
         "0",
         "0",
         "0",
         "0",
         "0",
         "0",
         "0",
         "83",
         "247",
         "60",
         "0",
         "0",
         "0",
         "0",
         "0",
         "67",
         "232",
         "102",
         "0",
         "0",
         "0",
         "0",
         "0",
         "0",
         "0",
         "0",
         "0",
         "0",
         "0",
         "0",
         "0",
         "0",
         "0",
         "0",
         "0",
         "133",
         "211",
         "0",
         "0",
         "0",
         "0",
         "16",
         "127",
         "225",
         "165",
         "4",
         "0",
         "0",
         "0",
         "0",
         "0",
         "0",
         "0",
         "0",
         "0",
         "0",
         "0",
         "0",
         "0",
         "0",
         "0",
         "0",
         "0",
         "133",
         "217",
         "0",
         "15",
         "58",
         "140",
         "189",
         "181",
         "227",
         "24",
         "0",
         "0",
         "0",
         "0",
         "0",
         "0",
         "0",
         "0",
         "0",
         "0",
         "0",
         "0",
         "0",
         "0",
         "0",
         "0",
         "0",
         "0",
         "71",
         "246",
         "225",
         "235",
         "253",
         "182",
         "61",
         "231",
         "85",
         "0",
         "0",
         "0",
         "0",
         "0",
         "0",
         "0",
         "0",
         "0",
         "0",
         "0",
         "0",
         "0",
         "0",
         "0",
         "0",
         "0",
         "0",
         "0",
         "0",
         "73",
         "143",
         "119",
         "58",
         "1",
         "153",
         "212",
         "2",
         "0",
         "0",
         "0",
         "0",
         "0",
         "0",
         "0",
         "0",
         "0",
         "0",
         "0",
         "0",
         "0",
         "0",
         "0",
         "0",
         "0",
         "0",
         "0",
         "0",
         "0",
         "0",
         "0",
         "0",
         "88",
         "254",
         "69",
         "0",
         "0",
         "0",
         "0",
         "0",
         "0",
         "0",
         "0",
         "0",
         "0",
         "0",
         "0",
         "0",
         "0",
         "0",
         "0",
         "0",
         "0",
         "0",
         "0",
         "0",
         "0",
         "0",
         "0",
         "40",
         "244",
         "157",
         "1",
         "0",
         "0",
         "0",
         "0",
         "0",
         "0",
         "0",
         "0",
         "0",
         "0",
         "0",
         "0",
         "0",
         "0",
         "0",
         "0",
         "0",
         "0",
         "0",
         "0",
         "0",
         "0",
         "0",
         "6",
         "212",
         "211",
         "12",
         "0",
         "0",
         "0",
         "0",
         "0",
         "0",
         "0",
         "0",
         "0",
         "0",
         "0",
         "0",
         "0",
         "0",
         "0",
         "0",
         "0",
         "0",
         "0",
         "0",
         "0",
         "0",
         "0",
         "0",
         "95",
         "237",
         "46",
         "0",
         "0",
         "0",
         "0",
         "0",
         "0",
         "0",
         "0",
         "0",
         "0",
         "0",
         "0",
         "0",
         "0",
         "0",
         "0",
         "0",
         "0",
         "0",
         "0",
         "0",
         "0",
         "0",
         "0",
         "43",
         "243",
         "156",
         "0",
         "0",
         "0",
         "0",
         "0",
         "0",
         "0",
         "0",
         "0",
         "0",
         "0",
         "0",
         "0",
         "0",
         "0",
         "0",
         "0",
         "0",
         "0",
         "0",
         "0",
         "0",
         "0",
         "0",
         "11",
         "213",
         "213",
         "5",
         "0",
         "0",
         "0",
         "0",
         "0",
         "6",
         "8",
         "0",
         "0",
         "0",
         "0",
         "0",
         "0",
         "0",
         "0",
         "0",
         "0",
         "0",
         "0",
         "0",
         "0",
         "0",
         "0",
         "0",
         "163",
         "244",
         "35",
         "0",
         "0",
         "0",
         "0",
         "0",
         "0",
         "139",
         "208",
         "97",
         "12",
         "0",
         "0",
         "0",
         "0",
         "0",
         "0",
         "0",
         "0",
         "0",
         "0",
         "0",
         "0",
         "0",
         "0",
         "60",
         "248",
         "90",
         "0",
         "0",
         "0",
         "0",
         "0",
         "0",
         "0",
         "16",
         "136",
         "172",
         "168",
         "0",
         "0",
         "0",
         "0",
         "0",
         "0",
         "0",
         "0",
         "0",
         "0",
         "0",
         "0",
         "0",
         "5",
         "195",
         "147",
         "0",
         "0",
         "0",
         "0",
         "0",
         "0",
         "0",
         "0",
         "0",
         "0",
         "0",
         "0",
         "0",
         "0",
         "0",
         "0",
         "0",
         "0",
         "0",
         "0",
         "0",
         "0",
         "0",
         "0",
         "0",
         "26",
         "237",
         "41",
         "0",
         "0",
         "0",
         "0",
         "0",
         "0",
         "0",
         "0",
         "0",
         "0",
         "0",
         "0",
         "0",
         "0",
         "0",
         "0",
         "0",
         "0",
         "0",
         "0",
         "0",
         "0",
         "0",
         "0",
         "0",
         "0",
         "0",
         "0",
         "0",
         "0",
         "0",
         "0",
         "0",
         "0",
         "0",
         "0",
         "0",
         "0",
         "0",
         "0",
         "0",
         "0",
         "0",
         "0",
         "0",
         "0",
         "0",
         "0",
         "0",
         "0",
         "0",
         "0",
         "0",
         "0",
         "0",
         "0",
         "0",
         "0",
         "0",
         "0",
         "0",
         "0",
         "0",
         "0",
         "0",
         "0",
         "0",
         "0",
         "0",
         "0",
         "0",
         "0",
         "0"
        ],
        [
         "3",
         "0",
         "0",
         "0",
         "0",
         "0",
         "0",
         "0",
         "0",
         "0",
         "0",
         "0",
         "0",
         "0",
         "0",
         "0",
         "0",
         "0",
         "0",
         "0",
         "0",
         "0",
         "0",
         "0",
         "0",
         "0",
         "0",
         "0",
         "0",
         "0",
         "0",
         "0",
         "0",
         "0",
         "0",
         "0",
         "0",
         "0",
         "0",
         "0",
         "0",
         "0",
         "0",
         "0",
         "0",
         "0",
         "0",
         "0",
         "0",
         "0",
         "0",
         "0",
         "0",
         "0",
         "0",
         "0",
         "0",
         "0",
         "0",
         "0",
         "0",
         "0",
         "0",
         "0",
         "0",
         "0",
         "0",
         "0",
         "0",
         "0",
         "0",
         "0",
         "0",
         "0",
         "0",
         "0",
         "0",
         "0",
         "0",
         "0",
         "0",
         "0",
         "0",
         "0",
         "0",
         "0",
         "0",
         "0",
         "0",
         "0",
         "0",
         "0",
         "0",
         "0",
         "0",
         "0",
         "0",
         "0",
         "0",
         "0",
         "0",
         "0",
         "0",
         "0",
         "0",
         "0",
         "0",
         "0",
         "0",
         "0",
         "0",
         "0",
         "0",
         "0",
         "0",
         "0",
         "0",
         "0",
         "0",
         "0",
         "0",
         "0",
         "0",
         "0",
         "0",
         "0",
         "0",
         "0",
         "0",
         "0",
         "0",
         "0",
         "0",
         "0",
         "0",
         "0",
         "0",
         "0",
         "0",
         "0",
         "0",
         "0",
         "0",
         "0",
         "0",
         "0",
         "0",
         "0",
         "0",
         "0",
         "0",
         "0",
         "0",
         "0",
         "0",
         "0",
         "0",
         "0",
         "0",
         "0",
         "0",
         "0",
         "0",
         "0",
         "0",
         "0",
         "0",
         "0",
         "0",
         "0",
         "0",
         "0",
         "0",
         "0",
         "0",
         "0",
         "0",
         "0",
         "0",
         "0",
         "0",
         "0",
         "0",
         "0",
         "0",
         "0",
         "0",
         "0",
         "0",
         "0",
         "0",
         "0",
         "0",
         "0",
         "0",
         "0",
         "0",
         "0",
         "0",
         "0",
         "0",
         "0",
         "0",
         "0",
         "0",
         "0",
         "0",
         "0",
         "0",
         "40",
         "0",
         "2",
         "12",
         "45",
         "109",
         "109",
         "30",
         "0",
         "0",
         "0",
         "0",
         "0",
         "0",
         "0",
         "0",
         "0",
         "0",
         "0",
         "0",
         "0",
         "0",
         "0",
         "0",
         "0",
         "0",
         "0",
         "149",
         "207",
         "58",
         "116",
         "227",
         "254",
         "253",
         "253",
         "209",
         "0",
         "0",
         "0",
         "0",
         "0",
         "0",
         "0",
         "0",
         "0",
         "0",
         "0",
         "0",
         "0",
         "0",
         "0",
         "0",
         "0",
         "0",
         "98",
         "228",
         "254",
         "185",
         "174",
         "91",
         "92",
         "111",
         "217",
         "254",
         "156",
         "0",
         "0",
         "0",
         "0",
         "0",
         "0",
         "0",
         "0",
         "0",
         "0",
         "0",
         "0",
         "0",
         "0",
         "0",
         "0",
         "0",
         "20",
         "141",
         "24",
         "9",
         "0",
         "0",
         "0",
         "0",
         "43",
         "253",
         "253",
         "0",
         "0",
         "0",
         "0",
         "0",
         "0",
         "0",
         "0",
         "33",
         "0",
         "0",
         "0",
         "0",
         "0",
         "0",
         "0",
         "23",
         "139",
         "104",
         "0",
         "0",
         "0",
         "0",
         "0",
         "0",
         "50",
         "253",
         "253",
         "0",
         "0",
         "0",
         "0",
         "0",
         "0",
         "0",
         "0",
         "0",
         "0",
         "0",
         "0",
         "0",
         "0",
         "0",
         "0",
         "180",
         "246",
         "20",
         "0",
         "0",
         "0",
         "0",
         "0",
         "0",
         "166",
         "253",
         "220",
         "0",
         "0",
         "0",
         "0",
         "0",
         "0",
         "0",
         "0",
         "0",
         "0",
         "0",
         "0",
         "0",
         "0",
         "0",
         "14",
         "147",
         "72",
         "0",
         "0",
         "0",
         "0",
         "0",
         "0",
         "40",
         "243",
         "253",
         "253",
         "0",
         "0",
         "0",
         "0",
         "0",
         "0",
         "0",
         "0",
         "0",
         "0",
         "0",
         "0",
         "0",
         "0",
         "0",
         "121",
         "248",
         "52",
         "0",
         "0",
         "0",
         "0",
         "0",
         "47",
         "215",
         "254",
         "216",
         "26",
         "0",
         "0",
         "0",
         "0",
         "0",
         "0",
         "0",
         "0",
         "0",
         "0",
         "0",
         "0",
         "0",
         "0",
         "0",
         "217",
         "215",
         "0",
         "0",
         "0",
         "0",
         "0",
         "40",
         "209",
         "253",
         "245",
         "49",
         "0",
         "0",
         "0",
         "0",
         "0",
         "0",
         "0",
         "0",
         "0",
         "0",
         "0",
         "0",
         "0",
         "0",
         "0",
         "40",
         "243",
         "67",
         "0",
         "0",
         "0",
         "19",
         "146",
         "243",
         "254",
         "225",
         "44",
         "0",
         "0",
         "0",
         "0",
         "0",
         "0",
         "0",
         "0",
         "0",
         "0",
         "0",
         "0",
         "0",
         "0",
         "0",
         "0",
         "40",
         "243",
         "131",
         "0",
         "12",
         "154",
         "226",
         "253",
         "246",
         "151",
         "43",
         "0",
         "0",
         "0",
         "0",
         "0",
         "0",
         "0",
         "0",
         "0",
         "0",
         "0",
         "0",
         "0",
         "0",
         "0",
         "0",
         "0",
         "0",
         "217",
         "248",
         "181",
         "228",
         "253",
         "253",
         "214",
         "72",
         "0",
         "0",
         "0",
         "0",
         "0",
         "0",
         "0",
         "0",
         "0",
         "0",
         "0",
         "0",
         "0",
         "0",
         "0",
         "0",
         "0",
         "0",
         "0",
         "0",
         "166",
         "254",
         "254",
         "255",
         "254",
         "172",
         "20",
         "0",
         "0",
         "0",
         "0",
         "0",
         "0",
         "0",
         "0",
         "0",
         "0",
         "0",
         "0",
         "0",
         "0",
         "0",
         "0",
         "0",
         "0",
         "0",
         "0",
         "0",
         "3",
         "89",
         "108",
         "109",
         "24",
         "9",
         "0",
         "0",
         "0",
         "0",
         "0",
         "0",
         "0",
         "0",
         "0",
         "0",
         "0",
         "0",
         "0",
         "0",
         "0",
         "0",
         "0",
         "0",
         "0",
         "0",
         "0",
         "0",
         "0",
         "0",
         "0",
         "0",
         "0",
         "0",
         "0",
         "0",
         "0",
         "0",
         "0",
         "0",
         "0",
         "0",
         "0",
         "0",
         "0",
         "0",
         "0",
         "0",
         "0",
         "0",
         "0",
         "0",
         "0",
         "0",
         "0",
         "0",
         "0",
         "0",
         "0",
         "0",
         "0",
         "0",
         "0",
         "0",
         "0",
         "0",
         "0",
         "0",
         "0",
         "0",
         "0",
         "0",
         "0",
         "0",
         "0",
         "0",
         "0",
         "0",
         "0",
         "0",
         "0",
         "0",
         "0",
         "0",
         "0",
         "0",
         "0",
         "0",
         "0",
         "0",
         "0",
         "0",
         "0",
         "0",
         "0",
         "0",
         "0",
         "0",
         "0",
         "0",
         "0",
         "0",
         "0",
         "0",
         "0",
         "0",
         "0",
         "0",
         "0",
         "0",
         "0",
         "0",
         "0",
         "0",
         "0",
         "0",
         "0",
         "0",
         "0",
         "0",
         "0",
         "0",
         "0",
         "0",
         "0",
         "0",
         "0",
         "0",
         "0",
         "0",
         "0",
         "0",
         "0",
         "0",
         "0",
         "0",
         "0",
         "0",
         "0",
         "0",
         "0",
         "0",
         "0",
         "0",
         "0",
         "0",
         "0",
         "0",
         "0",
         "0",
         "0",
         "0",
         "0",
         "0",
         "0",
         "0",
         "0",
         "0",
         "0",
         "0",
         "0",
         "0",
         "0",
         "0",
         "0",
         "0",
         "0",
         "0",
         "0",
         "0",
         "0",
         "0",
         "0",
         "0",
         "0",
         "0",
         "0",
         "0",
         "0",
         "0",
         "0",
         "0",
         "0",
         "0",
         "0",
         "0",
         "0",
         "0",
         "0",
         "0",
         "0",
         "0",
         "0",
         "0",
         "0",
         "0",
         "0",
         "0",
         "0",
         "0",
         "0",
         "0",
         "0",
         "0",
         "0",
         "0",
         "0",
         "0",
         "0",
         "0",
         "0",
         "0",
         "0",
         "0",
         "0",
         "0"
        ],
        [
         "4",
         "0",
         "0",
         "0",
         "0",
         "0",
         "0",
         "0",
         "0",
         "0",
         "0",
         "0",
         "0",
         "0",
         "0",
         "0",
         "0",
         "0",
         "0",
         "0",
         "0",
         "0",
         "0",
         "0",
         "0",
         "0",
         "0",
         "0",
         "0",
         "0",
         "0",
         "0",
         "0",
         "0",
         "0",
         "0",
         "0",
         "0",
         "0",
         "0",
         "0",
         "0",
         "0",
         "0",
         "0",
         "0",
         "0",
         "0",
         "0",
         "0",
         "0",
         "0",
         "0",
         "0",
         "0",
         "0",
         "0",
         "0",
         "0",
         "0",
         "0",
         "0",
         "0",
         "0",
         "0",
         "0",
         "0",
         "0",
         "0",
         "0",
         "0",
         "0",
         "0",
         "0",
         "0",
         "0",
         "0",
         "0",
         "0",
         "0",
         "0",
         "0",
         "0",
         "0",
         "0",
         "0",
         "0",
         "0",
         "0",
         "0",
         "0",
         "0",
         "0",
         "0",
         "0",
         "0",
         "13",
         "80",
         "175",
         "242",
         "205",
         "93",
         "11",
         "0",
         "0",
         "0",
         "0",
         "0",
         "0",
         "0",
         "0",
         "0",
         "0",
         "0",
         "0",
         "0",
         "0",
         "0",
         "0",
         "0",
         "0",
         "0",
         "0",
         "10",
         "171",
         "254",
         "253",
         "253",
         "253",
         "254",
         "214",
         "30",
         "0",
         "0",
         "0",
         "0",
         "0",
         "0",
         "0",
         "0",
         "0",
         "0",
         "0",
         "0",
         "0",
         "0",
         "0",
         "0",
         "0",
         "0",
         "0",
         "126",
         "253",
         "249",
         "134",
         "134",
         "212",
         "254",
         "253",
         "182",
         "0",
         "0",
         "0",
         "0",
         "0",
         "0",
         "0",
         "0",
         "0",
         "0",
         "0",
         "0",
         "0",
         "0",
         "0",
         "0",
         "0",
         "0",
         "0",
         "136",
         "253",
         "90",
         "0",
         "0",
         "6",
         "133",
         "253",
         "249",
         "18",
         "0",
         "0",
         "0",
         "0",
         "0",
         "0",
         "0",
         "0",
         "0",
         "0",
         "0",
         "0",
         "0",
         "0",
         "0",
         "0",
         "0",
         "0",
         "0",
         "25",
         "0",
         "0",
         "0",
         "0",
         "20",
         "218",
         "254",
         "133",
         "0",
         "0",
         "0",
         "0",
         "0",
         "0",
         "0",
         "0",
         "0",
         "0",
         "0",
         "0",
         "0",
         "0",
         "0",
         "0",
         "0",
         "0",
         "0",
         "0",
         "0",
         "0",
         "0",
         "0",
         "47",
         "226",
         "253",
         "193",
         "0",
         "0",
         "0",
         "0",
         "0",
         "0",
         "0",
         "0",
         "0",
         "0",
         "0",
         "0",
         "0",
         "0",
         "0",
         "0",
         "0",
         "13",
         "12",
         "0",
         "0",
         "0",
         "0",
         "0",
         "5",
         "208",
         "253",
         "109",
         "0",
         "0",
         "0",
         "0",
         "0",
         "0",
         "0",
         "0",
         "0",
         "0",
         "0",
         "0",
         "0",
         "0",
         "0",
         "0",
         "0",
         "0",
         "19",
         "30",
         "0",
         "0",
         "0",
         "0",
         "20",
         "253",
         "235",
         "43",
         "0",
         "0",
         "0",
         "0",
         "0",
         "0",
         "0",
         "0",
         "0",
         "0",
         "0",
         "0",
         "0",
         "0",
         "0",
         "0",
         "0",
         "0",
         "0",
         "0",
         "14",
         "133",
         "157",
         "122",
         "230",
         "254",
         "159",
         "0",
         "0",
         "0",
         "0",
         "0",
         "0",
         "0",
         "0",
         "0",
         "0",
         "0",
         "0",
         "0",
         "0",
         "0",
         "0",
         "0",
         "0",
         "0",
         "0",
         "0",
         "122",
         "253",
         "253",
         "253",
         "254",
         "187",
         "9",
         "0",
         "0",
         "0",
         "0",
         "0",
         "0",
         "0",
         "0",
         "0",
         "0",
         "0",
         "0",
         "0",
         "0",
         "0",
         "0",
         "0",
         "0",
         "0",
         "0",
         "0",
         "45",
         "204",
         "253",
         "253",
         "254",
         "178",
         "0",
         "0",
         "0",
         "0",
         "0",
         "0",
         "0",
         "0",
         "0",
         "0",
         "0",
         "0",
         "0",
         "0",
         "0",
         "0",
         "0",
         "0",
         "0",
         "0",
         "0",
         "0",
         "0",
         "9",
         "104",
         "247",
         "254",
         "250",
         "108",
         "0",
         "0",
         "0",
         "0",
         "0",
         "0",
         "0",
         "0",
         "0",
         "0",
         "0",
         "0",
         "0",
         "0",
         "0",
         "0",
         "0",
         "0",
         "0",
         "0",
         "0",
         "0",
         "0",
         "0",
         "73",
         "255",
         "254",
         "218",
         "14",
         "0",
         "0",
         "0",
         "0",
         "0",
         "0",
         "0",
         "0",
         "0",
         "0",
         "0",
         "0",
         "0",
         "0",
         "0",
         "0",
         "0",
         "0",
         "0",
         "0",
         "0",
         "0",
         "0",
         "0",
         "145",
         "253",
         "253",
         "110",
         "0",
         "0",
         "0",
         "0",
         "0",
         "0",
         "0",
         "0",
         "0",
         "0",
         "0",
         "0",
         "0",
         "0",
         "0",
         "0",
         "0",
         "0",
         "0",
         "19",
         "114",
         "158",
         "12",
         "0",
         "20",
         "253",
         "253",
         "109",
         "0",
         "0",
         "0",
         "0",
         "0",
         "0",
         "0",
         "0",
         "0",
         "0",
         "0",
         "0",
         "0",
         "0",
         "0",
         "0",
         "0",
         "13",
         "121",
         "234",
         "242",
         "28",
         "0",
         "0",
         "20",
         "253",
         "253",
         "97",
         "0",
         "0",
         "0",
         "0",
         "0",
         "0",
         "0",
         "0",
         "0",
         "0",
         "0",
         "0",
         "0",
         "0",
         "0",
         "0",
         "38",
         "194",
         "254",
         "248",
         "49",
         "0",
         "17",
         "68",
         "206",
         "254",
         "231",
         "36",
         "0",
         "0",
         "0",
         "0",
         "0",
         "0",
         "0",
         "0",
         "0",
         "0",
         "0",
         "0",
         "0",
         "0",
         "0",
         "37",
         "194",
         "253",
         "253",
         "235",
         "196",
         "195",
         "244",
         "253",
         "254",
         "247",
         "93",
         "0",
         "0",
         "0",
         "0",
         "0",
         "0",
         "0",
         "0",
         "0",
         "0",
         "0",
         "0",
         "0",
         "0",
         "0",
         "0",
         "79",
         "254",
         "253",
         "253",
         "253",
         "254",
         "253",
         "253",
         "253",
         "207",
         "75",
         "0",
         "0",
         "0",
         "0",
         "0",
         "0",
         "0",
         "0",
         "0",
         "0",
         "0",
         "0",
         "0",
         "0",
         "0",
         "0",
         "0",
         "6",
         "128",
         "211",
         "253",
         "253",
         "224",
         "175",
         "157",
         "97",
         "6",
         "0",
         "0",
         "0",
         "0",
         "0",
         "0",
         "0",
         "0",
         "0",
         "0",
         "0",
         "0",
         "0",
         "0",
         "0",
         "0",
         "0",
         "0",
         "0",
         "0",
         "0",
         "0",
         "0",
         "0",
         "0",
         "0",
         "0",
         "0",
         "0",
         "0",
         "0",
         "0",
         "0",
         "0",
         "0",
         "0",
         "0",
         "0",
         "0",
         "0",
         "0",
         "0",
         "0",
         "0",
         "0",
         "0",
         "0",
         "0",
         "0",
         "0",
         "0",
         "0",
         "0",
         "0",
         "0",
         "0",
         "0",
         "0",
         "0",
         "0",
         "0",
         "0",
         "0",
         "0",
         "0",
         "0",
         "0",
         "0",
         "0",
         "0",
         "0",
         "0",
         "0",
         "0",
         "0",
         "0",
         "0",
         "0",
         "0",
         "0",
         "0",
         "0",
         "0",
         "0",
         "0",
         "0",
         "0",
         "0",
         "0",
         "0",
         "0",
         "0",
         "0",
         "0",
         "0",
         "0",
         "0",
         "0",
         "0",
         "0",
         "0",
         "0",
         "0",
         "0",
         "0",
         "0",
         "0",
         "0",
         "0",
         "0",
         "0",
         "0",
         "0",
         "0",
         "0",
         "0",
         "0",
         "0",
         "0",
         "0",
         "0",
         "0",
         "0",
         "0",
         "0",
         "0",
         "0",
         "0",
         "0",
         "0",
         "0",
         "0",
         "0",
         "0",
         "0",
         "0",
         "0",
         "0",
         "0",
         "0",
         "0",
         "0",
         "0",
         "0",
         "0",
         "0",
         "0",
         "0",
         "0",
         "0",
         "0"
        ]
       ],
       "shape": {
        "columns": 784,
        "rows": 5
       }
      },
      "text/html": [
       "<div>\n",
       "<style scoped>\n",
       "    .dataframe tbody tr th:only-of-type {\n",
       "        vertical-align: middle;\n",
       "    }\n",
       "\n",
       "    .dataframe tbody tr th {\n",
       "        vertical-align: top;\n",
       "    }\n",
       "\n",
       "    .dataframe thead th {\n",
       "        text-align: right;\n",
       "    }\n",
       "</style>\n",
       "<table border=\"1\" class=\"dataframe\">\n",
       "  <thead>\n",
       "    <tr style=\"text-align: right;\">\n",
       "      <th></th>\n",
       "      <th>pixel0</th>\n",
       "      <th>pixel1</th>\n",
       "      <th>pixel2</th>\n",
       "      <th>pixel3</th>\n",
       "      <th>pixel4</th>\n",
       "      <th>pixel5</th>\n",
       "      <th>pixel6</th>\n",
       "      <th>pixel7</th>\n",
       "      <th>pixel8</th>\n",
       "      <th>pixel9</th>\n",
       "      <th>...</th>\n",
       "      <th>pixel774</th>\n",
       "      <th>pixel775</th>\n",
       "      <th>pixel776</th>\n",
       "      <th>pixel777</th>\n",
       "      <th>pixel778</th>\n",
       "      <th>pixel779</th>\n",
       "      <th>pixel780</th>\n",
       "      <th>pixel781</th>\n",
       "      <th>pixel782</th>\n",
       "      <th>pixel783</th>\n",
       "    </tr>\n",
       "  </thead>\n",
       "  <tbody>\n",
       "    <tr>\n",
       "      <th>0</th>\n",
       "      <td>0</td>\n",
       "      <td>0</td>\n",
       "      <td>0</td>\n",
       "      <td>0</td>\n",
       "      <td>0</td>\n",
       "      <td>0</td>\n",
       "      <td>0</td>\n",
       "      <td>0</td>\n",
       "      <td>0</td>\n",
       "      <td>0</td>\n",
       "      <td>...</td>\n",
       "      <td>0</td>\n",
       "      <td>0</td>\n",
       "      <td>0</td>\n",
       "      <td>0</td>\n",
       "      <td>0</td>\n",
       "      <td>0</td>\n",
       "      <td>0</td>\n",
       "      <td>0</td>\n",
       "      <td>0</td>\n",
       "      <td>0</td>\n",
       "    </tr>\n",
       "    <tr>\n",
       "      <th>1</th>\n",
       "      <td>0</td>\n",
       "      <td>0</td>\n",
       "      <td>0</td>\n",
       "      <td>0</td>\n",
       "      <td>0</td>\n",
       "      <td>0</td>\n",
       "      <td>0</td>\n",
       "      <td>0</td>\n",
       "      <td>0</td>\n",
       "      <td>0</td>\n",
       "      <td>...</td>\n",
       "      <td>0</td>\n",
       "      <td>0</td>\n",
       "      <td>0</td>\n",
       "      <td>0</td>\n",
       "      <td>0</td>\n",
       "      <td>0</td>\n",
       "      <td>0</td>\n",
       "      <td>0</td>\n",
       "      <td>0</td>\n",
       "      <td>0</td>\n",
       "    </tr>\n",
       "    <tr>\n",
       "      <th>2</th>\n",
       "      <td>0</td>\n",
       "      <td>0</td>\n",
       "      <td>0</td>\n",
       "      <td>0</td>\n",
       "      <td>0</td>\n",
       "      <td>0</td>\n",
       "      <td>0</td>\n",
       "      <td>0</td>\n",
       "      <td>0</td>\n",
       "      <td>0</td>\n",
       "      <td>...</td>\n",
       "      <td>0</td>\n",
       "      <td>0</td>\n",
       "      <td>0</td>\n",
       "      <td>0</td>\n",
       "      <td>0</td>\n",
       "      <td>0</td>\n",
       "      <td>0</td>\n",
       "      <td>0</td>\n",
       "      <td>0</td>\n",
       "      <td>0</td>\n",
       "    </tr>\n",
       "    <tr>\n",
       "      <th>3</th>\n",
       "      <td>0</td>\n",
       "      <td>0</td>\n",
       "      <td>0</td>\n",
       "      <td>0</td>\n",
       "      <td>0</td>\n",
       "      <td>0</td>\n",
       "      <td>0</td>\n",
       "      <td>0</td>\n",
       "      <td>0</td>\n",
       "      <td>0</td>\n",
       "      <td>...</td>\n",
       "      <td>0</td>\n",
       "      <td>0</td>\n",
       "      <td>0</td>\n",
       "      <td>0</td>\n",
       "      <td>0</td>\n",
       "      <td>0</td>\n",
       "      <td>0</td>\n",
       "      <td>0</td>\n",
       "      <td>0</td>\n",
       "      <td>0</td>\n",
       "    </tr>\n",
       "    <tr>\n",
       "      <th>4</th>\n",
       "      <td>0</td>\n",
       "      <td>0</td>\n",
       "      <td>0</td>\n",
       "      <td>0</td>\n",
       "      <td>0</td>\n",
       "      <td>0</td>\n",
       "      <td>0</td>\n",
       "      <td>0</td>\n",
       "      <td>0</td>\n",
       "      <td>0</td>\n",
       "      <td>...</td>\n",
       "      <td>0</td>\n",
       "      <td>0</td>\n",
       "      <td>0</td>\n",
       "      <td>0</td>\n",
       "      <td>0</td>\n",
       "      <td>0</td>\n",
       "      <td>0</td>\n",
       "      <td>0</td>\n",
       "      <td>0</td>\n",
       "      <td>0</td>\n",
       "    </tr>\n",
       "  </tbody>\n",
       "</table>\n",
       "<p>5 rows × 784 columns</p>\n",
       "</div>"
      ],
      "text/plain": [
       "   pixel0  pixel1  pixel2  pixel3  pixel4  pixel5  pixel6  pixel7  pixel8  \\\n",
       "0       0       0       0       0       0       0       0       0       0   \n",
       "1       0       0       0       0       0       0       0       0       0   \n",
       "2       0       0       0       0       0       0       0       0       0   \n",
       "3       0       0       0       0       0       0       0       0       0   \n",
       "4       0       0       0       0       0       0       0       0       0   \n",
       "\n",
       "   pixel9  ...  pixel774  pixel775  pixel776  pixel777  pixel778  pixel779  \\\n",
       "0       0  ...         0         0         0         0         0         0   \n",
       "1       0  ...         0         0         0         0         0         0   \n",
       "2       0  ...         0         0         0         0         0         0   \n",
       "3       0  ...         0         0         0         0         0         0   \n",
       "4       0  ...         0         0         0         0         0         0   \n",
       "\n",
       "   pixel780  pixel781  pixel782  pixel783  \n",
       "0         0         0         0         0  \n",
       "1         0         0         0         0  \n",
       "2         0         0         0         0  \n",
       "3         0         0         0         0  \n",
       "4         0         0         0         0  \n",
       "\n",
       "[5 rows x 784 columns]"
      ]
     },
     "execution_count": 134,
     "metadata": {},
     "output_type": "execute_result"
    }
   ],
   "source": [
    "test_df.head()"
   ]
  },
  {
   "cell_type": "code",
   "execution_count": 135,
   "metadata": {},
   "outputs": [
    {
     "name": "stdout",
     "output_type": "stream",
     "text": [
      "42000x785\n"
     ]
    }
   ],
   "source": [
    "train_df=np.array(train_df)\n",
    "test_df=np.array(test_df)\n",
    "m,n=train_df.shape\n",
    "print(f\"{m}x{n}\")\n",
    "np.random.shuffle(train_df)\n",
    "np.random.shuffle(test_df)"
   ]
  },
  {
   "cell_type": "code",
   "execution_count": 136,
   "metadata": {},
   "outputs": [],
   "source": [
    "test_df=test_df.T\n",
    "X_test=test_df\n",
    "X_test=X_test/255."
   ]
  },
  {
   "cell_type": "code",
   "execution_count": 137,
   "metadata": {},
   "outputs": [],
   "source": [
    "train_df=train_df.T\n",
    "X_train=train_df[1:n]\n",
    "Y_train=train_df[0]\n",
    "X_train=X_train/255."
   ]
  },
  {
   "cell_type": "code",
   "execution_count": 138,
   "metadata": {},
   "outputs": [
    {
     "name": "stdout",
     "output_type": "stream",
     "text": [
      "Y_train: (42000,)\n",
      "X_train: (784, 42000)\n",
      "X_test: (784, 28000)\n"
     ]
    }
   ],
   "source": [
    "\n",
    "print(f\"Y_train: {(Y_train.shape)}\")\n",
    "print(f\"X_train: {(X_train.shape)}\")\n",
    "print(f\"X_test: {(X_test.shape)}\")"
   ]
  },
  {
   "cell_type": "code",
   "execution_count": 139,
   "metadata": {},
   "outputs": [
    {
     "data": {
      "text/plain": [
       "array([8, 8, 5, ..., 4, 4, 6], dtype=int64)"
      ]
     },
     "execution_count": 139,
     "metadata": {},
     "output_type": "execute_result"
    }
   ],
   "source": [
    "Y_train"
   ]
  },
  {
   "cell_type": "code",
   "execution_count": 140,
   "metadata": {},
   "outputs": [
    {
     "data": {
      "text/plain": [
       "array([[0., 0., 0., ..., 0., 0., 0.],\n",
       "       [0., 0., 0., ..., 0., 0., 0.],\n",
       "       [0., 0., 0., ..., 0., 0., 0.],\n",
       "       ...,\n",
       "       [0., 0., 0., ..., 0., 0., 0.],\n",
       "       [0., 0., 0., ..., 0., 0., 0.],\n",
       "       [0., 0., 0., ..., 0., 0., 0.]])"
      ]
     },
     "execution_count": 140,
     "metadata": {},
     "output_type": "execute_result"
    }
   ],
   "source": [
    "X_train"
   ]
  },
  {
   "cell_type": "code",
   "execution_count": 141,
   "metadata": {},
   "outputs": [],
   "source": [
    "def params():\n",
    "    w1=np.random.rand(10,784)-0.5\n",
    "    b1=np.random.rand(10,1)-0.5\n",
    "    w2=np.random.rand(10,10)-0.5\n",
    "    b2=np.random.rand(10,1)-0.5\n",
    "    return w1,b1,w2,b2"
   ]
  },
  {
   "cell_type": "code",
   "execution_count": 142,
   "metadata": {},
   "outputs": [],
   "source": [
    "def Rectified_Linear_Unit(z):\n",
    "    return np.maximum(z,0)\n",
    "    \n",
    "def softmax(z):\n",
    "    Z= np.exp(z)/sum(np.exp(z))\n",
    "    return Z"
   ]
  },
  {
   "cell_type": "code",
   "execution_count": 143,
   "metadata": {},
   "outputs": [],
   "source": [
    "def forward_prop(w1,b1,w2,b2,x):\n",
    "    z1=(w1.dot(x))+b1\n",
    "    a1=Rectified_Linear_Unit(z1)\n",
    "    z2=(w2.dot(a1))+b2\n",
    "    a2=softmax(z2)\n",
    "    return z1,a1,z2,a2"
   ]
  },
  {
   "cell_type": "code",
   "execution_count": 144,
   "metadata": {},
   "outputs": [],
   "source": [
    "def derivative_RLU(z):\n",
    "    return z>0"
   ]
  },
  {
   "cell_type": "code",
   "execution_count": 145,
   "metadata": {},
   "outputs": [],
   "source": [
    "def one_hot_encoding(y):\n",
    "    one_hot_y=np.zeros((y.size,y.max()+1))\n",
    "    one_hot_y[np.arange(y.size),y]=1\n",
    "    one_hot_y=one_hot_y.T\n",
    "    return one_hot_y"
   ]
  },
  {
   "cell_type": "code",
   "execution_count": 146,
   "metadata": {},
   "outputs": [],
   "source": [
    "def back_prop(z1,a1,z2,a2,w1,w2,x,y):\n",
    "    one_hot_y=one_hot_encoding(y)\n",
    "    dz2=a2-one_hot_y\n",
    "    dw2=1/m*dz2.dot(a1.T)\n",
    "    db2=1/m*np.sum(dz2)\n",
    "    dz1=w2.T.dot(dz2)*derivative_RLU(z1)\n",
    "    dw1=1/m*dz1.dot(x.T)\n",
    "    db1=1/m*np.sum(dz1)\n",
    "    return dw1,db1,dw2,db2"
   ]
  },
  {
   "cell_type": "code",
   "execution_count": 147,
   "metadata": {},
   "outputs": [],
   "source": [
    "def update_params(w1,b1,w2,b2,dw1,db1,dw2,db2,alpha):\n",
    "    w1=w1-alpha*dw1\n",
    "    b1=b1-alpha*db1\n",
    "    w2=w2-alpha*dw2\n",
    "    b2=b2-alpha*db2\n",
    "    return w1,b1,w2,b2"
   ]
  },
  {
   "cell_type": "code",
   "execution_count": 148,
   "metadata": {},
   "outputs": [],
   "source": [
    "def predictions(a2):\n",
    "    return np.argmax(a2,0)\n",
    "\n",
    "def accuracy(predictions,y):\n",
    "    print(predictions,y)\n",
    "    return np.sum(predictions == y)/y.size"
   ]
  },
  {
   "cell_type": "code",
   "execution_count": 149,
   "metadata": {},
   "outputs": [],
   "source": [
    "def gradient_descent(x,y,iterations,alpha):\n",
    "    w1,b1,w2,b2=params()\n",
    "\n",
    "    for i in range(iterations):\n",
    "        z1,a1,z2,a2=forward_prop(w1,b1,w2,b2,x)\n",
    "        dw1,db1,dw2,db2=back_prop(z1,a1,z2,a2,w1,w2,x,y)\n",
    "        w1,b1,w2,b2=update_params(w1,b1,w2,b2,dw1,db1,dw2,db2,alpha)\n",
    "\n",
    "        if (i%10==0):\n",
    "            predicted=predictions(a2)\n",
    "            print(f\"Iteration: {i},\\nAccuracy: {accuracy(predicted,y)}\\n\")\n",
    "    \n",
    "    return w1,b1,w2,b2\n"
   ]
  },
  {
   "cell_type": "code",
   "execution_count": null,
   "metadata": {},
   "outputs": [
    {
     "name": "stdout",
     "output_type": "stream",
     "text": [
      "[0 3 0 ... 5 0 0] [8 8 5 ... 4 4 6]\n",
      "Iteration: 0,\n",
      "Accuracy: 0.06138095238095238\n",
      "\n",
      "[5 1 5 ... 5 1 0] [8 8 5 ... 4 4 6]\n",
      "Iteration: 10,\n",
      "Accuracy: 0.17883333333333334\n",
      "\n"
     ]
    },
    {
     "ename": "KeyboardInterrupt",
     "evalue": "",
     "output_type": "error",
     "traceback": [
      "\u001b[1;31m---------------------------------------------------------------------------\u001b[0m",
      "\u001b[1;31mKeyboardInterrupt\u001b[0m                         Traceback (most recent call last)",
      "Cell \u001b[1;32mIn[150], line 1\u001b[0m\n\u001b[1;32m----> 1\u001b[0m w1,b1,w2,b2\u001b[38;5;241m=\u001b[39m\u001b[43mgradient_descent\u001b[49m\u001b[43m(\u001b[49m\u001b[43mX_train\u001b[49m\u001b[43m,\u001b[49m\u001b[43mY_train\u001b[49m\u001b[43m,\u001b[49m\u001b[38;5;241;43m1000\u001b[39;49m\u001b[43m,\u001b[49m\u001b[38;5;241;43m0.10\u001b[39;49m\u001b[43m)\u001b[49m\n",
      "Cell \u001b[1;32mIn[149], line 5\u001b[0m, in \u001b[0;36mgradient_descent\u001b[1;34m(x, y, iterations, alpha)\u001b[0m\n\u001b[0;32m      2\u001b[0m w1,b1,w2,b2\u001b[38;5;241m=\u001b[39mparams()\n\u001b[0;32m      4\u001b[0m \u001b[38;5;28;01mfor\u001b[39;00m i \u001b[38;5;129;01min\u001b[39;00m \u001b[38;5;28mrange\u001b[39m(iterations):\n\u001b[1;32m----> 5\u001b[0m     z1,a1,z2,a2\u001b[38;5;241m=\u001b[39m\u001b[43mforward_prop\u001b[49m\u001b[43m(\u001b[49m\u001b[43mw1\u001b[49m\u001b[43m,\u001b[49m\u001b[43mb1\u001b[49m\u001b[43m,\u001b[49m\u001b[43mw2\u001b[49m\u001b[43m,\u001b[49m\u001b[43mb2\u001b[49m\u001b[43m,\u001b[49m\u001b[43mx\u001b[49m\u001b[43m)\u001b[49m\n\u001b[0;32m      6\u001b[0m     dw1,db1,dw2,db2\u001b[38;5;241m=\u001b[39mback_prop(z1,a1,z2,a2,w1,w2,x,y)\n\u001b[0;32m      7\u001b[0m     w1,b1,w2,b2\u001b[38;5;241m=\u001b[39mupdate_params(w1,b1,w2,b2,dw1,db1,dw2,db2,alpha)\n",
      "Cell \u001b[1;32mIn[143], line 2\u001b[0m, in \u001b[0;36mforward_prop\u001b[1;34m(w1, b1, w2, b2, x)\u001b[0m\n\u001b[0;32m      1\u001b[0m \u001b[38;5;28;01mdef\u001b[39;00m \u001b[38;5;21mforward_prop\u001b[39m(w1,b1,w2,b2,x):\n\u001b[1;32m----> 2\u001b[0m     z1\u001b[38;5;241m=\u001b[39m(\u001b[43mw1\u001b[49m\u001b[38;5;241;43m.\u001b[39;49m\u001b[43mdot\u001b[49m\u001b[43m(\u001b[49m\u001b[43mx\u001b[49m\u001b[43m)\u001b[49m)\u001b[38;5;241m+\u001b[39mb1\n\u001b[0;32m      3\u001b[0m     a1\u001b[38;5;241m=\u001b[39mRectified_Linear_Unit(z1)\n\u001b[0;32m      4\u001b[0m     z2\u001b[38;5;241m=\u001b[39m(w2\u001b[38;5;241m.\u001b[39mdot(a1))\u001b[38;5;241m+\u001b[39mb2\n",
      "\u001b[1;31mKeyboardInterrupt\u001b[0m: "
     ]
    }
   ],
   "source": [
    "w1,b1,w2,b2=gradient_descent(X_train,Y_train,2000,0.10)"
   ]
  },
  {
   "cell_type": "code",
   "execution_count": null,
   "metadata": {},
   "outputs": [],
   "source": [
    "def make_predictions(x,w1,b1,w2,b2):\n",
    "    z1,a1,z2,a2=forward_prop(w1,b1,w2,b2,x)\n",
    "    predicted_op=predictions(a2)\n",
    "    return predicted_op\n",
    "\n",
    "def test(index,w1,b1,w2,b2):\n",
    "    img=X_test[:,index,None]\n",
    "    predicted_op = make_predictions(X_test[:,index,None], w1, b1, w2, b2)\n",
    "    print(\"Prediction:\", predicted_op)\n",
    "    \n",
    "    img = img.reshape((28,28))*255\n",
    "    plt.gray()\n",
    "    plt.imshow(img,interpolation='nearest')\n",
    "    plt.show()"
   ]
  },
  {
   "cell_type": "code",
   "execution_count": 153,
   "metadata": {},
   "outputs": [
    {
     "name": "stdout",
     "output_type": "stream",
     "text": [
      "Prediction: [8]\n"
     ]
    },
    {
     "data": {
      "image/png": "[encoded data removed]",
      "text/plain": [
       "<Figure size 640x480 with 1 Axes>"
      ]
     },
     "metadata": {},
     "output_type": "display_data"
    },
    {
     "name": "stdout",
     "output_type": "stream",
     "text": [
      "Prediction: [7]\n"
     ]
    },
    {
     "data": {
      "image/png": "[encoded data removed]",
      "text/plain": [
       "<Figure size 640x480 with 1 Axes>"
      ]
     },
     "metadata": {},
     "output_type": "display_data"
    },
    {
     "name": "stdout",
     "output_type": "stream",
     "text": [
      "Prediction: [3]\n"
     ]
    },
    {
     "data": {
      "image/png": "[encoded data removed]",
      "text/plain": [
       "<Figure size 640x480 with 1 Axes>"
      ]
     },
     "metadata": {},
     "output_type": "display_data"
    },
    {
     "name": "stdout",
     "output_type": "stream",
     "text": [
      "Prediction: [7]\n"
     ]
    },
    {
     "data": {
      "image/png": "[encoded data removed]",
      "text/plain": [
       "<Figure size 640x480 with 1 Axes>"
      ]
     },
     "metadata": {},
     "output_type": "display_data"
    }
   ],
   "source": [
    "test(24, w1, b1, w2, b2)\n",
    "test(9, w1, b1, w2, b2)\n",
    "test(34, w1, b1, w2, b2)\n",
    "test(87, w1, b1, w2, b2)"
   ]
  },
  {
   "cell_type": "code",
   "execution_count": null,
   "metadata": {},
   "outputs": [],
   "source": []
  }
 ],
 "metadata": {
  "kernelspec": {
   "display_name": "Python 3",
   "language": "python",
   "name": "python3"
  },
  "language_info": {
   "codemirror_mode": {
    "name": "ipython",
    "version": 3
   },
   "file_extension": ".py",
   "mimetype": "text/x-python",
   "name": "python",
   "nbconvert_exporter": "python",
   "pygments_lexer": "ipython3",
   "version": "3.9.13"
  }
 },
 "nbformat": 4,
 "nbformat_minor": 2
}
